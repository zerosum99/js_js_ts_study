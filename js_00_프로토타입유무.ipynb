{
 "cells": [
  {
   "cell_type": "code",
   "execution_count": null,
   "id": "28c52b13-28c0-4411-b4a8-16746f64f437",
   "metadata": {},
   "outputs": [],
   "source": []
  },
  {
   "cell_type": "code",
   "execution_count": 14,
   "id": "30383721-0dca-4c44-8db9-78f814aee63c",
   "metadata": {},
   "outputs": [
    {
     "data": {},
     "execution_count": 14,
     "metadata": {},
     "output_type": "execute_result"
    },
    {
     "name": "stdout",
     "output_type": "stream",
     "text": [
      "[Object: null prototype] {}\n"
     ]
    }
   ],
   "source": [
    "console.log(Object.prototype)"
   ]
  },
  {
   "cell_type": "code",
   "execution_count": null,
   "id": "167d99ef-adf7-4f7b-af57-343ade469eb4",
   "metadata": {},
   "outputs": [],
   "source": []
  },
  {
   "cell_type": "markdown",
   "id": "dc433639-19c6-4a43-80a4-a4f2a8505615",
   "metadata": {},
   "source": [
    "## 함수는 프로토타입 프로퍼티를 가짐"
   ]
  },
  {
   "cell_type": "code",
   "execution_count": 1,
   "id": "741f2787-ffca-478a-b060-04b0b00c34bf",
   "metadata": {},
   "outputs": [
    {
     "data": {
      "text/plain": [
       "\u001b[33mtrue\u001b[39m"
      ]
     },
     "execution_count": 1,
     "metadata": {},
     "output_type": "execute_result"
    }
   ],
   "source": [
    "(function() {} ).hasOwnProperty('prototype')"
   ]
  },
  {
   "cell_type": "code",
   "execution_count": 5,
   "id": "c74a558e-19aa-4445-a201-d5bf7153259d",
   "metadata": {},
   "outputs": [
    {
     "data": {},
     "execution_count": 5,
     "metadata": {},
     "output_type": "execute_result"
    },
    {
     "name": "stdout",
     "output_type": "stream",
     "text": [
      "\u001b[90mundefined\u001b[39m\n"
     ]
    }
   ],
   "source": [
    "console.log((function() {} ).__proto__);"
   ]
  },
  {
   "cell_type": "code",
   "execution_count": null,
   "id": "d8d77f64-2185-4ae2-8e52-3db51b9db340",
   "metadata": {},
   "outputs": [],
   "source": []
  },
  {
   "cell_type": "code",
   "execution_count": null,
   "id": "b9fe313a-32b3-415d-be96-7527fa18c575",
   "metadata": {},
   "outputs": [],
   "source": []
  },
  {
   "cell_type": "markdown",
   "id": "774fa652-66f7-47b1-82de-c0f048ffe71b",
   "metadata": {},
   "source": [
    "## 리터럴 객체는 프로토타입 프로퍼티를 가지지 않음 "
   ]
  },
  {
   "cell_type": "code",
   "execution_count": 2,
   "id": "d551319b-454a-4462-a4bf-c059bf506ee4",
   "metadata": {},
   "outputs": [
    {
     "data": {
      "text/plain": [
       "\u001b[33mfalse\u001b[39m"
      ]
     },
     "execution_count": 2,
     "metadata": {},
     "output_type": "execute_result"
    }
   ],
   "source": [
    "({} ).hasOwnProperty('prototype')"
   ]
  },
  {
   "cell_type": "code",
   "execution_count": 3,
   "id": "1a159ec8-f06e-4f2c-a708-330c5b0097db",
   "metadata": {},
   "outputs": [
    {
     "data": {},
     "execution_count": 3,
     "metadata": {},
     "output_type": "execute_result"
    }
   ],
   "source": [
    "({} ).__proto__"
   ]
  },
  {
   "cell_type": "code",
   "execution_count": null,
   "id": "16017a7f-2bf4-4059-a724-6d986fd032ef",
   "metadata": {},
   "outputs": [],
   "source": []
  },
  {
   "cell_type": "code",
   "execution_count": null,
   "id": "32f35061-600c-477b-9c68-1ba22d7acb39",
   "metadata": {},
   "outputs": [],
   "source": []
  },
  {
   "cell_type": "code",
   "execution_count": 6,
   "id": "70625a69-8462-451a-9969-e28892df655b",
   "metadata": {},
   "outputs": [
    {
     "data": {},
     "execution_count": 6,
     "metadata": {},
     "output_type": "execute_result"
    }
   ],
   "source": [
    "function Person(name) {\n",
    "    this.name = name\n",
    "}"
   ]
  },
  {
   "cell_type": "code",
   "execution_count": 7,
   "id": "1d9d8c7b-a274-4b0e-8013-260896b15114",
   "metadata": {},
   "outputs": [
    {
     "data": {},
     "execution_count": 7,
     "metadata": {},
     "output_type": "execute_result"
    }
   ],
   "source": [
    "const p = new Person(\"가을이\");"
   ]
  },
  {
   "cell_type": "code",
   "execution_count": 19,
   "id": "61b5a4e2-c356-4bf3-8efb-7b568cf99008",
   "metadata": {},
   "outputs": [
    {
     "data": {
      "text/plain": [
       "[Object: null prototype] {}"
      ]
     },
     "execution_count": 19,
     "metadata": {},
     "output_type": "execute_result"
    }
   ],
   "source": [
    "Object.getPrototypeOf(Person.prototype)"
   ]
  },
  {
   "cell_type": "code",
   "execution_count": null,
   "id": "01abff0e-c9c9-4d1b-a013-226e53121aad",
   "metadata": {},
   "outputs": [],
   "source": []
  },
  {
   "cell_type": "code",
   "execution_count": 10,
   "id": "ab5bee2f-771a-4cb3-854d-cf3e89e61f2a",
   "metadata": {},
   "outputs": [
    {
     "data": {
      "text/plain": [
       "{}"
      ]
     },
     "execution_count": 10,
     "metadata": {},
     "output_type": "execute_result"
    }
   ],
   "source": [
    "Person.prototype"
   ]
  },
  {
   "cell_type": "code",
   "execution_count": null,
   "id": "772995b8-6a45-4151-8687-b95bd72b7480",
   "metadata": {},
   "outputs": [],
   "source": []
  },
  {
   "cell_type": "code",
   "execution_count": 12,
   "id": "4c8358c9-f181-43d3-8c56-64d6ddbba296",
   "metadata": {},
   "outputs": [
    {
     "data": {
      "text/plain": [
       "\u001b[33mfalse\u001b[39m"
      ]
     },
     "execution_count": 12,
     "metadata": {},
     "output_type": "execute_result"
    }
   ],
   "source": [
    "p.__proto__ === Person.prototype"
   ]
  },
  {
   "cell_type": "code",
   "execution_count": 22,
   "id": "3d8f3649-d03a-417a-9f1a-852128b97c49",
   "metadata": {},
   "outputs": [
    {
     "data": {},
     "execution_count": 22,
     "metadata": {},
     "output_type": "execute_result"
    },
    {
     "name": "stdout",
     "output_type": "stream",
     "text": [
      "\u001b[90mundefined\u001b[39m\n"
     ]
    }
   ],
   "source": [
    "console.log(p.__proto__)"
   ]
  },
  {
   "cell_type": "code",
   "execution_count": 23,
   "id": "3b832eb2-0d11-4215-8b60-dce7e0d8f2a5",
   "metadata": {},
   "outputs": [
    {
     "data": {
      "text/plain": [
       "\u001b[33mtrue\u001b[39m"
      ]
     },
     "execution_count": 23,
     "metadata": {},
     "output_type": "execute_result"
    }
   ],
   "source": [
    "Object.getPrototypeOf(p) === Person.prototype"
   ]
  },
  {
   "cell_type": "code",
   "execution_count": null,
   "id": "0ca23ba0-c1ba-420f-8f32-7af3a1f4f7f7",
   "metadata": {},
   "outputs": [],
   "source": []
  },
  {
   "cell_type": "markdown",
   "id": "b59f68a4-db59-4cbb-9c27-f5861840aaf8",
   "metadata": {},
   "source": [
    "## `__protto__` 인식이 안됨 \n",
    "\n",
    "- 노드에서는 인식되지만 Deno에서는 인식되지 않음 "
   ]
  },
  {
   "cell_type": "code",
   "execution_count": 17,
   "id": "043ebee8-ddbb-4b50-9442-2973c8ff9d18",
   "metadata": {},
   "outputs": [
    {
     "data": {},
     "execution_count": 17,
     "metadata": {},
     "output_type": "execute_result"
    },
    {
     "name": "stdout",
     "output_type": "stream",
     "text": [
      "\u001b[33mtrue\u001b[39m\n"
     ]
    }
   ],
   "source": [
    "console.log(Object.getPrototypeOf(Person.prototype) === Object.prototype);"
   ]
  },
  {
   "cell_type": "code",
   "execution_count": 18,
   "id": "b1905770-664c-4881-803d-b8fb509b2b0f",
   "metadata": {},
   "outputs": [
    {
     "data": {},
     "execution_count": 18,
     "metadata": {},
     "output_type": "execute_result"
    },
    {
     "name": "stdout",
     "output_type": "stream",
     "text": [
      "\u001b[33mfalse\u001b[39m\n"
     ]
    }
   ],
   "source": [
    "console.log(Person.prototype.__proto__ === Object.prototype);"
   ]
  },
  {
   "cell_type": "code",
   "execution_count": null,
   "id": "490e4454-5f1e-49f9-a02d-6709d266cc4e",
   "metadata": {},
   "outputs": [],
   "source": []
  }
 ],
 "metadata": {
  "kernelspec": {
   "display_name": "Deno",
   "language": "typescript",
   "name": "deno"
  },
  "language_info": {
   "file_extension": ".ts",
   "mimetype": "text/x.typescript",
   "name": "typescript",
   "nb_converter": "script",
   "pygments_lexer": "typescript",
   "version": "5.2.2"
  }
 },
 "nbformat": 4,
 "nbformat_minor": 5
}
