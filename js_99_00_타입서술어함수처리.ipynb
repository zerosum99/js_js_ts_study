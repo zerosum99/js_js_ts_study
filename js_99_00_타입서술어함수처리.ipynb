{
 "cells": [
  {
   "cell_type": "code",
   "execution_count": null,
   "id": "ffc056c1-50fa-4cd1-a7b1-66bfbd6b0758",
   "metadata": {},
   "outputs": [],
   "source": []
  },
  {
   "cell_type": "code",
   "execution_count": null,
   "id": "99a5f6a7-84b4-4f14-8fdb-9aeeb7944099",
   "metadata": {},
   "outputs": [],
   "source": []
  },
  {
   "cell_type": "code",
   "execution_count": 1,
   "id": "6fe249e9-2897-427d-b4ec-7d40802ad9e0",
   "metadata": {},
   "outputs": [
    {
     "data": {},
     "execution_count": 1,
     "metadata": {},
     "output_type": "execute_result"
    }
   ],
   "source": [
    "interface ABC {\n",
    "    abc : string;\n",
    "}"
   ]
  },
  {
   "cell_type": "code",
   "execution_count": 2,
   "id": "56141c82-255e-4a1e-aed1-a717a7a244c2",
   "metadata": {},
   "outputs": [
    {
     "data": {},
     "execution_count": 2,
     "metadata": {},
     "output_type": "execute_result"
    }
   ],
   "source": [
    "interface BBC extends ABC {\n",
    "    bbc : string;\n",
    "}"
   ]
  },
  {
   "cell_type": "markdown",
   "id": "6004bf76-d946-475f-ac83-89f8505be073",
   "metadata": {},
   "source": [
    "## 타입서술어 함수 정의 "
   ]
  },
  {
   "cell_type": "code",
   "execution_count": 21,
   "id": "cd52536c-36a3-4aa2-8fc6-ae912e50cb34",
   "metadata": {},
   "outputs": [
    {
     "data": {},
     "execution_count": 21,
     "metadata": {},
     "output_type": "execute_result"
    }
   ],
   "source": [
    "function isbbc(obj : ABC) : obj is BBC {\n",
    "    return 'bbc' in obj;\n",
    "}"
   ]
  },
  {
   "cell_type": "code",
   "execution_count": 18,
   "id": "6eeeba27-0710-4094-9e4a-5718372aa3c2",
   "metadata": {},
   "outputs": [
    {
     "data": {},
     "execution_count": 18,
     "metadata": {},
     "output_type": "execute_result"
    }
   ],
   "source": [
    "const obj = { abc:\"ggg\", bbc:\"ccc\"};"
   ]
  },
  {
   "cell_type": "code",
   "execution_count": 22,
   "id": "34fa0e44-8353-4b7c-9dcb-4f5b95305484",
   "metadata": {},
   "outputs": [
    {
     "data": {
      "text/plain": [
       "\u001b[33mtrue\u001b[39m"
      ]
     },
     "execution_count": 22,
     "metadata": {},
     "output_type": "execute_result"
    }
   ],
   "source": [
    "isbbc(obj);"
   ]
  },
  {
   "cell_type": "code",
   "execution_count": 20,
   "id": "55a251b3-9c02-43f3-8dad-b897cb89d361",
   "metadata": {},
   "outputs": [
    {
     "data": {},
     "execution_count": 20,
     "metadata": {},
     "output_type": "execute_result"
    }
   ],
   "source": [
    "const obj1 = { abc:\"ggg\"};"
   ]
  },
  {
   "cell_type": "markdown",
   "id": "ff390b6e-17a4-440a-9046-032bb3324b75",
   "metadata": {},
   "source": [
    "## 타입서술어 함수를 내부에서 처리 "
   ]
  },
  {
   "cell_type": "code",
   "execution_count": 27,
   "id": "ee400b14-4ca8-4cec-ad57-fc290ce571ed",
   "metadata": {},
   "outputs": [
    {
     "data": {},
     "execution_count": 27,
     "metadata": {},
     "output_type": "execute_result"
    }
   ],
   "source": [
    "function abcbbc(obj : BBC)  {\n",
    "    if (isbbc(obj)) {\n",
    "        console.log(obj.bbc);\n",
    "    }\n",
    "    else {\n",
    "        console.log(\"BBC가 아님\");\n",
    "    }\n",
    "}"
   ]
  },
  {
   "cell_type": "code",
   "execution_count": 28,
   "id": "beed234e-9d05-4433-90d8-c10946d426c4",
   "metadata": {},
   "outputs": [
    {
     "data": {},
     "execution_count": 28,
     "metadata": {},
     "output_type": "execute_result"
    },
    {
     "name": "stdout",
     "output_type": "stream",
     "text": [
      "ccc\n"
     ]
    }
   ],
   "source": [
    "abcbbc(obj);"
   ]
  },
  {
   "cell_type": "code",
   "execution_count": 29,
   "id": "5b7a54e1-1d77-470b-9ea7-b5c01c3812d2",
   "metadata": {},
   "outputs": [
    {
     "data": {},
     "execution_count": 29,
     "metadata": {},
     "output_type": "execute_result"
    },
    {
     "name": "stdout",
     "output_type": "stream",
     "text": [
      "BBC가 아님\n"
     ]
    }
   ],
   "source": [
    "abcbbc(obj1);"
   ]
  },
  {
   "cell_type": "code",
   "execution_count": null,
   "id": "84eb176a-f6fd-4e52-a0c4-35713d85deb4",
   "metadata": {},
   "outputs": [],
   "source": []
  }
 ],
 "metadata": {
  "kernelspec": {
   "display_name": "Deno",
   "language": "typescript",
   "name": "deno"
  },
  "language_info": {
   "file_extension": ".ts",
   "mimetype": "text/x.typescript",
   "name": "typescript",
   "nb_converter": "script",
   "pygments_lexer": "typescript",
   "version": "5.2.2"
  }
 },
 "nbformat": 4,
 "nbformat_minor": 5
}
