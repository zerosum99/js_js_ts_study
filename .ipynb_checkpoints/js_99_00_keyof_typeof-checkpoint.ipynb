{
 "cells": [
  {
   "cell_type": "code",
   "execution_count": null,
   "id": "db003d4e-db42-4d60-9271-f8e204324567",
   "metadata": {},
   "outputs": [],
   "source": []
  },
  {
   "cell_type": "code",
   "execution_count": 2,
   "id": "0385448c-f53c-4298-ab77-6f770f0a2b0d",
   "metadata": {},
   "outputs": [
    {
     "data": {},
     "execution_count": 2,
     "metadata": {},
     "output_type": "execute_result"
    }
   ],
   "source": [
    "interface Person {\n",
    "  name: string;\n",
    "  age: number;\n",
    "  email: string;\n",
    "}"
   ]
  },
  {
   "cell_type": "code",
   "execution_count": null,
   "id": "6c1707ec-dc14-4696-b701-92e55af3c0c6",
   "metadata": {},
   "outputs": [],
   "source": []
  },
  {
   "cell_type": "markdown",
   "id": "17f39a3c-ae33-4707-adf8-bec6350bafa2",
   "metadata": {},
   "source": [
    "## 1. keyof"
   ]
  },
  {
   "cell_type": "code",
   "execution_count": 3,
   "id": "6fb91562-f354-4554-93a2-687405a49463",
   "metadata": {},
   "outputs": [
    {
     "ename": "ReferenceError",
     "evalue": "Person is not defined",
     "output_type": "error",
     "traceback": [
      "Stack trace:",
      "ReferenceError: Person is not defined",
      "    at <anonymous>:2:1"
     ]
    }
   ],
   "source": [
    "Person['name']"
   ]
  },
  {
   "cell_type": "code",
   "execution_count": 9,
   "id": "78460fd3-28fc-42a4-941d-691c9493d609",
   "metadata": {},
   "outputs": [
    {
     "data": {},
     "execution_count": 9,
     "metadata": {},
     "output_type": "execute_result"
    }
   ],
   "source": [
    "function getProperty1(obj: Person, key: string) {\n",
    "  return obj[key];\n",
    "}\n"
   ]
  },
  {
   "cell_type": "code",
   "execution_count": 12,
   "id": "ba843248-4fdd-4146-a078-73943dd5b184",
   "metadata": {},
   "outputs": [
    {
     "data": {},
     "execution_count": 12,
     "metadata": {},
     "output_type": "execute_result"
    }
   ],
   "source": [
    "const person1: Person = {\n",
    "  name: 'John',\n",
    "  age: 30,\n",
    "  email: 'john@example.com',\n",
    "};"
   ]
  },
  {
   "cell_type": "code",
   "execution_count": 13,
   "id": "eace1c8f-8aa3-42cd-80ae-fc377cfe5d25",
   "metadata": {},
   "outputs": [
    {
     "data": {
      "text/plain": [
       "\u001b[32m\"John\"\u001b[39m"
      ]
     },
     "execution_count": 13,
     "metadata": {},
     "output_type": "execute_result"
    }
   ],
   "source": [
    "getProperty1(person1, 'name');"
   ]
  },
  {
   "cell_type": "code",
   "execution_count": null,
   "id": "8b7fdae7-b585-402c-892b-f05f8cf8c687",
   "metadata": {},
   "outputs": [],
   "source": []
  },
  {
   "cell_type": "code",
   "execution_count": 4,
   "id": "a22f135d-f766-4e4a-adc2-2b39b2ee0ae6",
   "metadata": {},
   "outputs": [
    {
     "data": {},
     "execution_count": 4,
     "metadata": {},
     "output_type": "execute_result"
    }
   ],
   "source": [
    "type PersonKey = keyof Person; // 'name' | 'age' | 'email'"
   ]
  },
  {
   "cell_type": "code",
   "execution_count": null,
   "id": "5d431e0b-9f9e-46d9-9c9a-362f21cc0ed4",
   "metadata": {},
   "outputs": [],
   "source": []
  },
  {
   "cell_type": "code",
   "execution_count": 5,
   "id": "ae0e97cb-22f9-4610-9e0c-ccf43a4f8fb3",
   "metadata": {},
   "outputs": [
    {
     "data": {},
     "execution_count": 5,
     "metadata": {},
     "output_type": "execute_result"
    }
   ],
   "source": [
    "const person: Person = {\n",
    "  name: 'John',\n",
    "  age: 30,\n",
    "  email: 'john@example.com',\n",
    "};"
   ]
  },
  {
   "cell_type": "code",
   "execution_count": 6,
   "id": "faff2969-3b2e-4b70-93e5-98dff61aa6f6",
   "metadata": {},
   "outputs": [
    {
     "data": {},
     "execution_count": 6,
     "metadata": {},
     "output_type": "execute_result"
    }
   ],
   "source": [
    "function getProperty(obj: Person, key: PersonKey) {\n",
    "  return obj[key];\n",
    "}\n"
   ]
  },
  {
   "cell_type": "code",
   "execution_count": 7,
   "id": "62d7e606-8fc2-4518-a85b-6c69f012b037",
   "metadata": {},
   "outputs": [
    {
     "data": {},
     "execution_count": 7,
     "metadata": {},
     "output_type": "execute_result"
    }
   ],
   "source": [
    "const personName = getProperty(person, 'name'); // personName의 타입은 string\n",
    "const personAge = getProperty(person, 'age');     // personAge의 타입은 number\n"
   ]
  },
  {
   "cell_type": "code",
   "execution_count": null,
   "id": "c9211d33-3662-42b4-b043-852663b21529",
   "metadata": {},
   "outputs": [],
   "source": []
  },
  {
   "cell_type": "code",
   "execution_count": null,
   "id": "98d282a9-9d87-4ef5-920b-8dfd69ea280c",
   "metadata": {},
   "outputs": [],
   "source": []
  },
  {
   "cell_type": "markdown",
   "id": "9464e821-9098-43bc-9ab9-e1ddc8d52983",
   "metadata": {},
   "source": [
    "## 2. typeof 키워드 "
   ]
  },
  {
   "cell_type": "code",
   "execution_count": 14,
   "id": "9d234d5e-0cda-4934-89d9-7479c5e13d54",
   "metadata": {},
   "outputs": [
    {
     "data": {},
     "execution_count": 14,
     "metadata": {},
     "output_type": "execute_result"
    }
   ],
   "source": [
    "let someVariable: string = \"Hello, TypeScript!\";\n",
    "type VariableType = typeof someVariable; // VariableType는 string 타입\n"
   ]
  },
  {
   "cell_type": "code",
   "execution_count": 19,
   "id": "7f023c22-b944-404b-a385-14a255255209",
   "metadata": {},
   "outputs": [
    {
     "data": {},
     "execution_count": 19,
     "metadata": {},
     "output_type": "execute_result"
    },
    {
     "name": "stdout",
     "output_type": "stream",
     "text": [
      "\u001b[33m42\u001b[39m\n"
     ]
    }
   ],
   "source": [
    "class MyClass {\n",
    "  id: number = 42;\n",
    "}\n",
    "\n",
    "type ClassPrototype = typeof MyClass.prototype;\n",
    "let prototype: ClassPrototype= new MyClass();\n",
    "console.log(prototype.id); // TypeScript는 프로퍼티 id를 인식\n"
   ]
  },
  {
   "cell_type": "code",
   "execution_count": null,
   "id": "3cd87621-99f2-4e9d-8f27-4987f46e7a66",
   "metadata": {},
   "outputs": [],
   "source": []
  },
  {
   "cell_type": "markdown",
   "id": "814c75af-9bdb-46ac-9424-ba13c153e51b",
   "metadata": {},
   "source": [
    "## 3. typeof 연산자"
   ]
  },
  {
   "cell_type": "markdown",
   "id": "aa53fe52-b818-4bb2-a18b-6bc65b26d090",
   "metadata": {},
   "source": [
    "### 타입가드로 사용하기 "
   ]
  },
  {
   "cell_type": "code",
   "execution_count": 20,
   "id": "fb0abf92-ca26-412e-be0d-0e0f13db98e9",
   "metadata": {},
   "outputs": [
    {
     "data": {},
     "execution_count": 20,
     "metadata": {},
     "output_type": "execute_result"
    },
    {
     "name": "stdout",
     "output_type": "stream",
     "text": [
      "value is a number\n"
     ]
    }
   ],
   "source": [
    "function isNumber(x: any): x is number {\n",
    "  return typeof x === \"number\";\n",
    "}\n",
    "\n",
    "let value: any = 42;\n",
    "if (isNumber(value)) {\n",
    "  // TypeScript는 이 시점에서 value를 number로 인식\n",
    "  console.log(\"value is a number\");\n",
    "}\n"
   ]
  },
  {
   "cell_type": "markdown",
   "id": "216d57b2-67a9-431a-b369-adf5009affdc",
   "metadata": {},
   "source": [
    "### 타입확인 "
   ]
  },
  {
   "cell_type": "code",
   "execution_count": 21,
   "id": "bc46b197-19f0-4288-8905-9208cfa8ad30",
   "metadata": {},
   "outputs": [
    {
     "data": {},
     "execution_count": 21,
     "metadata": {},
     "output_type": "execute_result"
    },
    {
     "name": "stdout",
     "output_type": "stream",
     "text": [
      "x is a number\n"
     ]
    }
   ],
   "source": [
    "let x = 10;\n",
    "if (typeof x === \"number\") {\n",
    "  console.log(\"x is a number\");\n",
    "}\n"
   ]
  },
  {
   "cell_type": "code",
   "execution_count": null,
   "id": "ba43a454-fc83-4829-be7b-908c1acc3ec2",
   "metadata": {},
   "outputs": [],
   "source": []
  }
 ],
 "metadata": {
  "kernelspec": {
   "display_name": "Deno",
   "language": "typescript",
   "name": "deno"
  },
  "language_info": {
   "file_extension": ".ts",
   "mimetype": "text/x.typescript",
   "name": "typescript",
   "nb_converter": "script",
   "pygments_lexer": "typescript",
   "version": "5.2.2"
  }
 },
 "nbformat": 4,
 "nbformat_minor": 5
}
