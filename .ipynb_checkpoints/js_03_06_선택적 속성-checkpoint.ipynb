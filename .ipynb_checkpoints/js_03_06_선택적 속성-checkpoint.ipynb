{
 "cells": [
  {
   "cell_type": "markdown",
   "id": "0ef2a615-b382-48c9-9cbc-71fbbbada0eb",
   "metadata": {},
   "source": [
    "## 선택적 속성 \n",
    "\n",
    "- 선택적 속성은 속성 이름 뒤에 ? 기호를 붙여 정의합니다. 이를 통해 객체를 만들거나 할당할 때 해당 속성을 생략할 수 있습니다."
   ]
  },
  {
   "cell_type": "code",
   "execution_count": null,
   "id": "28ed2588-ae7d-4f41-ad71-8730a16419a4",
   "metadata": {},
   "outputs": [],
   "source": []
  },
  {
   "cell_type": "code",
   "execution_count": null,
   "id": "d12a10cd-f54e-46bc-825f-12d7d6fac9fd",
   "metadata": {},
   "outputs": [],
   "source": []
  },
  {
   "cell_type": "markdown",
   "id": "d01e9d7b-7c2f-4353-a739-f1df669b3823",
   "metadata": {},
   "source": [
    "## 인터페이스 선택적 속성 "
   ]
  },
  {
   "cell_type": "code",
   "execution_count": null,
   "id": "32f421a6-2c52-4d3a-85ba-30bac27d4ab0",
   "metadata": {},
   "outputs": [],
   "source": []
  },
  {
   "cell_type": "code",
   "execution_count": 1,
   "id": "778de9c9-6e11-4598-b6e8-c560cc83a7c3",
   "metadata": {},
   "outputs": [
    {
     "data": {},
     "execution_count": 1,
     "metadata": {},
     "output_type": "execute_result"
    }
   ],
   "source": [
    "interface Person {\n",
    "  name: string;\n",
    "  age?: number; // age 속성은 선택적\n",
    "  address?: string; // address 속성도 선택적\n",
    "}\n"
   ]
  },
  {
   "cell_type": "code",
   "execution_count": null,
   "id": "b2014d32-4546-4eba-95f6-35daacb46a37",
   "metadata": {},
   "outputs": [],
   "source": []
  },
  {
   "cell_type": "code",
   "execution_count": 2,
   "id": "112b6e65-156e-4071-afb2-0050328b0d69",
   "metadata": {},
   "outputs": [
    {
     "data": {},
     "execution_count": 2,
     "metadata": {},
     "output_type": "execute_result"
    }
   ],
   "source": [
    "const person1: Person = { name: \"Alice\" }; // age와 address를 생략\n",
    "const person2: Person = { name: \"Bob\", age: 30 }; // age는 포함, address는 생략\n",
    "const person3: Person = { name: \"Charlie\", age: 25, address: \"123 Main St\" }; // 모든 속성 포함\n"
   ]
  },
  {
   "cell_type": "code",
   "execution_count": null,
   "id": "6b16d3c4-398b-498a-8605-a6d57d1006c7",
   "metadata": {},
   "outputs": [],
   "source": []
  },
  {
   "cell_type": "markdown",
   "id": "8f9e3f39-13d4-43dc-9aff-5e4bf1aaadba",
   "metadata": {},
   "source": [
    "## 클래스의 선택적 속성 "
   ]
  },
  {
   "cell_type": "code",
   "execution_count": 3,
   "id": "556602e6-d137-46d1-b8db-b81f3cb751a2",
   "metadata": {},
   "outputs": [
    {
     "data": {},
     "execution_count": 3,
     "metadata": {},
     "output_type": "execute_result"
    }
   ],
   "source": [
    "class Person {\n",
    "  constructor(public name: string, public age?: number) {\n",
    "    // age 속성은 선택적\n",
    "  }\n",
    "}\n"
   ]
  },
  {
   "cell_type": "code",
   "execution_count": 4,
   "id": "53ee35ce-e1fe-42a6-bb38-6db6b38da337",
   "metadata": {},
   "outputs": [
    {
     "data": {},
     "execution_count": 4,
     "metadata": {},
     "output_type": "execute_result"
    }
   ],
   "source": [
    "const person1 = new Person(\"Alice\"); // age 속성은 생략 가능\n",
    "const person2 = new Person(\"Bob\", 30); // age 속성을 포함\n"
   ]
  },
  {
   "cell_type": "code",
   "execution_count": null,
   "id": "bc2bb607-d1a8-40ea-b7b6-45e1403e8edf",
   "metadata": {},
   "outputs": [],
   "source": []
  },
  {
   "cell_type": "markdown",
   "id": "3241961f-e067-4c5e-a0d0-11604083800e",
   "metadata": {},
   "source": [
    "## 타입 별칭"
   ]
  },
  {
   "cell_type": "code",
   "execution_count": 7,
   "id": "9853b5a9-24bd-4393-b45a-82e95b4a7852",
   "metadata": {},
   "outputs": [
    {
     "data": {},
     "execution_count": 7,
     "metadata": {},
     "output_type": "execute_result"
    }
   ],
   "source": [
    "type User = {\n",
    "  id: number;\n",
    "  username: string;\n",
    "  email?: string; // 선택적 속성\n",
    "};\n"
   ]
  },
  {
   "cell_type": "code",
   "execution_count": null,
   "id": "1248de73-c6e5-4674-ac48-7f3adfa34121",
   "metadata": {},
   "outputs": [],
   "source": []
  },
  {
   "cell_type": "markdown",
   "id": "003d609f-5e8b-4b72-9d57-08cdfe9bec3e",
   "metadata": {},
   "source": [
    "## 객체 리터럴(Objects):"
   ]
  },
  {
   "cell_type": "code",
   "execution_count": 5,
   "id": "05e8f665-9670-4603-8a8a-9784b8f1d03d",
   "metadata": {},
   "outputs": [
    {
     "data": {},
     "execution_count": 5,
     "metadata": {},
     "output_type": "execute_result"
    }
   ],
   "source": [
    "const person: { name: string; age?: number } = { name: \"Alice\" }; // 선택적 속성\n"
   ]
  },
  {
   "cell_type": "code",
   "execution_count": null,
   "id": "1554b5a7-dbc0-4eb1-9cd3-ac3b9fc595fe",
   "metadata": {},
   "outputs": [],
   "source": []
  },
  {
   "cell_type": "markdown",
   "id": "22bc639e-c641-4f87-9d22-46e0752fea96",
   "metadata": {},
   "source": [
    "## 함수 매개변수 "
   ]
  },
  {
   "cell_type": "code",
   "execution_count": 6,
   "id": "08580fe7-367a-4b4c-a94b-583a1b2ffe7a",
   "metadata": {},
   "outputs": [
    {
     "data": {},
     "execution_count": 6,
     "metadata": {},
     "output_type": "execute_result"
    }
   ],
   "source": [
    "function greet(name: string, age?: number) {\n",
    "  // ...\n",
    "}\n"
   ]
  },
  {
   "cell_type": "code",
   "execution_count": null,
   "id": "3cb35ede-786b-40d8-b1f0-4d82c64352ad",
   "metadata": {},
   "outputs": [],
   "source": []
  }
 ],
 "metadata": {
  "kernelspec": {
   "display_name": "Deno",
   "language": "typescript",
   "name": "deno"
  },
  "language_info": {
   "file_extension": ".ts",
   "mimetype": "text/x.typescript",
   "name": "typescript",
   "nb_converter": "script",
   "pygments_lexer": "typescript",
   "version": "5.2.2"
  }
 },
 "nbformat": 4,
 "nbformat_minor": 5
}
