{
 "cells": [
  {
   "cell_type": "code",
   "execution_count": null,
   "id": "765745ff-581a-42ed-978f-7b7769143538",
   "metadata": {},
   "outputs": [],
   "source": []
  },
  {
   "cell_type": "markdown",
   "id": "ef01c256-e766-4af7-81c0-581619b0e7ca",
   "metadata": {},
   "source": [
    "## 1. Object 내의 프로퍼터 "
   ]
  },
  {
   "cell_type": "code",
   "execution_count": 1,
   "id": "e81a6012-7e69-4ea5-8550-61b701d04c40",
   "metadata": {},
   "outputs": [
    {
     "data": {
      "text/plain": [
       "[\n",
       "  \u001b[32m\"length\"\u001b[39m,\n",
       "  \u001b[32m\"name\"\u001b[39m,\n",
       "  \u001b[32m\"prototype\"\u001b[39m,\n",
       "  \u001b[32m\"assign\"\u001b[39m,\n",
       "  \u001b[32m\"getOwnPropertyDescriptor\"\u001b[39m,\n",
       "  \u001b[32m\"getOwnPropertyDescriptors\"\u001b[39m,\n",
       "  \u001b[32m\"getOwnPropertyNames\"\u001b[39m,\n",
       "  \u001b[32m\"getOwnPropertySymbols\"\u001b[39m,\n",
       "  \u001b[32m\"hasOwn\"\u001b[39m,\n",
       "  \u001b[32m\"is\"\u001b[39m,\n",
       "  \u001b[32m\"preventExtensions\"\u001b[39m,\n",
       "  \u001b[32m\"seal\"\u001b[39m,\n",
       "  \u001b[32m\"create\"\u001b[39m,\n",
       "  \u001b[32m\"defineProperties\"\u001b[39m,\n",
       "  \u001b[32m\"defineProperty\"\u001b[39m,\n",
       "  \u001b[32m\"freeze\"\u001b[39m,\n",
       "  \u001b[32m\"getPrototypeOf\"\u001b[39m,\n",
       "  \u001b[32m\"setPrototypeOf\"\u001b[39m,\n",
       "  \u001b[32m\"isExtensible\"\u001b[39m,\n",
       "  \u001b[32m\"isFrozen\"\u001b[39m,\n",
       "  \u001b[32m\"isSealed\"\u001b[39m,\n",
       "  \u001b[32m\"keys\"\u001b[39m,\n",
       "  \u001b[32m\"entries\"\u001b[39m,\n",
       "  \u001b[32m\"fromEntries\"\u001b[39m,\n",
       "  \u001b[32m\"values\"\u001b[39m,\n",
       "  \u001b[32m\"groupBy\"\u001b[39m\n",
       "]"
      ]
     },
     "execution_count": 1,
     "metadata": {},
     "output_type": "execute_result"
    }
   ],
   "source": [
    "Object.getOwnPropertyNames(Object)"
   ]
  },
  {
   "cell_type": "code",
   "execution_count": 8,
   "id": "dc3f0586-fed2-4fee-98dd-a45b9a5795d1",
   "metadata": {},
   "outputs": [
    {
     "data": {
      "text/plain": [
       "\u001b[33m1\u001b[39m"
      ]
     },
     "execution_count": 8,
     "metadata": {},
     "output_type": "execute_result"
    }
   ],
   "source": [
    "Object.length"
   ]
  },
  {
   "cell_type": "code",
   "execution_count": 9,
   "id": "9c609983-8439-4dae-9171-c946341dd929",
   "metadata": {},
   "outputs": [
    {
     "data": {
      "text/plain": [
       "\u001b[32m\"Object\"\u001b[39m"
      ]
     },
     "execution_count": 9,
     "metadata": {},
     "output_type": "execute_result"
    }
   ],
   "source": [
    "Object.name"
   ]
  },
  {
   "cell_type": "code",
   "execution_count": 11,
   "id": "cdb41fc5-9e7e-4558-a397-1dba53002940",
   "metadata": {},
   "outputs": [
    {
     "data": {
      "text/plain": [
       "\u001b[32m\"object\"\u001b[39m"
      ]
     },
     "execution_count": 11,
     "metadata": {},
     "output_type": "execute_result"
    }
   ],
   "source": [
    "typeof Object.prototype"
   ]
  },
  {
   "cell_type": "markdown",
   "id": "706e6377-e9b5-4c22-8b37-0fb19b95059b",
   "metadata": {},
   "source": [
    "## 2. Object.prototype 내의 프로퍼티 "
   ]
  },
  {
   "cell_type": "code",
   "execution_count": 2,
   "id": "7a6bccbd-50a3-420a-96a3-57ba9a521a1e",
   "metadata": {},
   "outputs": [
    {
     "data": {
      "text/plain": [
       "[\n",
       "  \u001b[32m\"constructor\"\u001b[39m,\n",
       "  \u001b[32m\"__defineGetter__\"\u001b[39m,\n",
       "  \u001b[32m\"__defineSetter__\"\u001b[39m,\n",
       "  \u001b[32m\"hasOwnProperty\"\u001b[39m,\n",
       "  \u001b[32m\"__lookupGetter__\"\u001b[39m,\n",
       "  \u001b[32m\"__lookupSetter__\"\u001b[39m,\n",
       "  \u001b[32m\"isPrototypeOf\"\u001b[39m,\n",
       "  \u001b[32m\"propertyIsEnumerable\"\u001b[39m,\n",
       "  \u001b[32m\"toString\"\u001b[39m,\n",
       "  \u001b[32m\"valueOf\"\u001b[39m,\n",
       "  \u001b[32m\"toLocaleString\"\u001b[39m\n",
       "]"
      ]
     },
     "execution_count": 2,
     "metadata": {},
     "output_type": "execute_result"
    }
   ],
   "source": [
    "Object.getOwnPropertyNames(Object.prototype)"
   ]
  },
  {
   "cell_type": "markdown",
   "id": "71f83ad7-47e9-41e1-9a26-f7ed3b482dd6",
   "metadata": {},
   "source": [
    "## 2-1. 객체에서 Object.prototype의 프로퍼터 참조하기 "
   ]
  },
  {
   "cell_type": "code",
   "execution_count": 5,
   "id": "16f38eb2-2afa-45d0-90f6-7601fa5901a7",
   "metadata": {},
   "outputs": [
    {
     "data": {},
     "execution_count": 5,
     "metadata": {},
     "output_type": "execute_result"
    }
   ],
   "source": [
    "const obj = {name : 100};"
   ]
  },
  {
   "cell_type": "code",
   "execution_count": 6,
   "id": "2838e571-bb39-4657-91cf-ba1789e7f88d",
   "metadata": {},
   "outputs": [
    {
     "data": {
      "text/plain": [
       "{ name: \u001b[33m100\u001b[39m }"
      ]
     },
     "execution_count": 6,
     "metadata": {},
     "output_type": "execute_result"
    }
   ],
   "source": [
    "obj.valueOf()"
   ]
  },
  {
   "cell_type": "code",
   "execution_count": 7,
   "id": "d0713c07-0f46-4a00-a684-e509a19da47d",
   "metadata": {},
   "outputs": [
    {
     "data": {
      "text/plain": [
       "\u001b[33mtrue\u001b[39m"
      ]
     },
     "execution_count": 7,
     "metadata": {},
     "output_type": "execute_result"
    }
   ],
   "source": [
    "obj.hasOwnProperty(\"name\");"
   ]
  },
  {
   "cell_type": "code",
   "execution_count": 12,
   "id": "571e66aa-87f1-498b-b6e5-e8aca4612c36",
   "metadata": {},
   "outputs": [
    {
     "data": {
      "text/plain": [
       "\u001b[36m[Function: Object]\u001b[39m"
      ]
     },
     "execution_count": 12,
     "metadata": {},
     "output_type": "execute_result"
    }
   ],
   "source": [
    "obj.constructor"
   ]
  },
  {
   "cell_type": "code",
   "execution_count": 13,
   "id": "a9462b18-f2c6-48ec-89d6-20d9b5d47520",
   "metadata": {},
   "outputs": [
    {
     "data": {
      "text/plain": [
       "\u001b[32m\"[object Object]\"\u001b[39m"
      ]
     },
     "execution_count": 13,
     "metadata": {},
     "output_type": "execute_result"
    }
   ],
   "source": [
    "obj.toString()"
   ]
  },
  {
   "cell_type": "code",
   "execution_count": 14,
   "id": "b40e7d9d-d794-431d-8f8e-c1d8571fa4ea",
   "metadata": {},
   "outputs": [
    {
     "data": {
      "text/plain": [
       "{ name: \u001b[33m100\u001b[39m }"
      ]
     },
     "execution_count": 14,
     "metadata": {},
     "output_type": "execute_result"
    }
   ],
   "source": [
    "obj.valueOf()"
   ]
  },
  {
   "cell_type": "code",
   "execution_count": 15,
   "id": "932ec597-55d9-41db-aa1d-a73f73fbf395",
   "metadata": {},
   "outputs": [
    {
     "data": {
      "text/plain": [
       "{ name: \u001b[33m100\u001b[39m }"
      ]
     },
     "execution_count": 15,
     "metadata": {},
     "output_type": "execute_result"
    }
   ],
   "source": [
    "obj"
   ]
  },
  {
   "cell_type": "code",
   "execution_count": 16,
   "id": "1cdcd2e0-7693-41b7-9982-f309b68dc8ff",
   "metadata": {},
   "outputs": [
    {
     "data": {
      "text/plain": [
       "\u001b[32m\"[object Object]\"\u001b[39m"
      ]
     },
     "execution_count": 16,
     "metadata": {},
     "output_type": "execute_result"
    }
   ],
   "source": [
    "obj.toLocaleString()"
   ]
  },
  {
   "cell_type": "code",
   "execution_count": 24,
   "id": "aeb96ab5-ebef-4c3b-83eb-a5f7c590a6f7",
   "metadata": {},
   "outputs": [
    {
     "data": {
      "text/plain": [
       "\u001b[33mtrue\u001b[39m"
      ]
     },
     "execution_count": 24,
     "metadata": {},
     "output_type": "execute_result"
    }
   ],
   "source": [
    "Object.prototype.isPrototypeOf(obj)"
   ]
  },
  {
   "cell_type": "code",
   "execution_count": 25,
   "id": "b7104e4b-aa5f-4e74-b95c-86d199f739a3",
   "metadata": {},
   "outputs": [
    {
     "data": {
      "text/plain": [
       "\u001b[33mtrue\u001b[39m"
      ]
     },
     "execution_count": 25,
     "metadata": {},
     "output_type": "execute_result"
    }
   ],
   "source": [
    "obj.constructor.prototype.isPrototypeOf(obj)"
   ]
  },
  {
   "cell_type": "code",
   "execution_count": null,
   "id": "88c1411f-f55e-460d-b025-114a0b4df7f5",
   "metadata": {},
   "outputs": [],
   "source": []
  },
  {
   "cell_type": "code",
   "execution_count": null,
   "id": "4228fd3d-b338-441f-bec7-f161635d44e7",
   "metadata": {},
   "outputs": [],
   "source": []
  },
  {
   "cell_type": "markdown",
   "id": "f9f39c4f-7581-47b9-9079-19050dcabbb2",
   "metadata": {},
   "source": [
    "## 2-2. 해당 프로토타입이 다른 객체의 프로토타입인지 확인 "
   ]
  },
  {
   "cell_type": "code",
   "execution_count": 19,
   "id": "8966ff9d-3834-4c87-988e-46d87438e2e1",
   "metadata": {},
   "outputs": [
    {
     "data": {},
     "execution_count": 19,
     "metadata": {},
     "output_type": "execute_result"
    }
   ],
   "source": [
    "const  str = new String(\"가을이\");"
   ]
  },
  {
   "cell_type": "code",
   "execution_count": 22,
   "id": "9f3a5c80-80c6-4e1f-833c-feda2869766d",
   "metadata": {},
   "outputs": [
    {
     "data": {
      "text/plain": [
       "\u001b[33mtrue\u001b[39m"
      ]
     },
     "execution_count": 22,
     "metadata": {},
     "output_type": "execute_result"
    }
   ],
   "source": [
    "String.prototype.isPrototypeOf(str)"
   ]
  },
  {
   "cell_type": "code",
   "execution_count": null,
   "id": "c1ac112d-6fe5-4172-9199-4b94dc97306d",
   "metadata": {},
   "outputs": [],
   "source": []
  }
 ],
 "metadata": {
  "kernelspec": {
   "display_name": "Deno",
   "language": "typescript",
   "name": "deno"
  },
  "language_info": {
   "file_extension": ".ts",
   "mimetype": "text/x.typescript",
   "name": "typescript",
   "nb_converter": "script",
   "pygments_lexer": "typescript",
   "version": "5.2.2"
  }
 },
 "nbformat": 4,
 "nbformat_minor": 5
}
