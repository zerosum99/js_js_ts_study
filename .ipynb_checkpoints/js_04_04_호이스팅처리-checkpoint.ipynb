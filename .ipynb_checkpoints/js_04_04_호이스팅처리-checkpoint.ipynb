{
 "cells": [
  {
   "cell_type": "code",
   "execution_count": null,
   "id": "02a6ce2e-53e3-4b38-b9a8-bc67cf41e436",
   "metadata": {},
   "outputs": [],
   "source": []
  },
  {
   "cell_type": "markdown",
   "id": "c9ff5c7c-d0c9-49f2-a994-feb92c99bd15",
   "metadata": {},
   "source": [
    "## 1. 호이스팅 "
   ]
  },
  {
   "cell_type": "code",
   "execution_count": null,
   "id": "5f37433c-6017-4252-85e5-01b26349e8f6",
   "metadata": {},
   "outputs": [],
   "source": []
  },
  {
   "cell_type": "markdown",
   "id": "9949545a-4b12-4550-ab4e-08d486829629",
   "metadata": {},
   "source": [
    "## 1-1 변수 호이스팅 \n",
    "\n",
    "- 변수를 선언하기 전에 값을 할당해야 하는 경우\n",
    "- 변수를 선언하기 전에 변수를 참조해야 하는 경우"
   ]
  },
  {
   "cell_type": "code",
   "execution_count": 1,
   "id": "633cb21c-a865-49c9-a2ee-99614b0bfefa",
   "metadata": {},
   "outputs": [
    {
     "data": {},
     "execution_count": 1,
     "metadata": {},
     "output_type": "execute_result"
    },
    {
     "name": "stdout",
     "output_type": "stream",
     "text": [
      "\u001b[90mundefined\u001b[39m\n",
      "John Doe\n"
     ]
    }
   ],
   "source": [
    "// 변수 선언문\n",
    "var name;\n",
    "\n",
    "// 변수 사용\n",
    "console.log(name); // undefined\n",
    "\n",
    "// 변수 할당\n",
    "name = \"John Doe\";\n",
    "\n",
    "// 변수 값 출력\n",
    "console.log(name); // John Doe\n"
   ]
  },
  {
   "cell_type": "code",
   "execution_count": null,
   "id": "1ca6fce5-bc59-421d-afeb-6203a4a5932c",
   "metadata": {},
   "outputs": [],
   "source": []
  },
  {
   "cell_type": "markdown",
   "id": "27b29ed2-7626-4850-bff0-0b64a4c35be6",
   "metadata": {},
   "source": [
    "## 1-2 함수 호이스팅 \n",
    "\n",
    "- 함수를 선언하기 전에 함수를 호출해야 하는 경우"
   ]
  },
  {
   "cell_type": "code",
   "execution_count": 2,
   "id": "59a4e686-963e-4a27-a317-2c4cd519c87b",
   "metadata": {},
   "outputs": [
    {
     "data": {},
     "execution_count": 2,
     "metadata": {},
     "output_type": "execute_result"
    },
    {
     "name": "stdout",
     "output_type": "stream",
     "text": [
      "Hello, world!\n",
      "Hello, world!\n"
     ]
    }
   ],
   "source": [
    "// 함수 호출\n",
    "greet(); // Hello, world!\n",
    "\n",
    "// 함수 선언문\n",
    "function greet() {\n",
    "  console.log(\"Hello, world!\");\n",
    "}\n",
    "\n",
    "// 함수 호출\n",
    "greet(); // Hello, world!\n"
   ]
  },
  {
   "cell_type": "code",
   "execution_count": null,
   "id": "9d4246dd-79ff-4c5e-8596-42367fc4f5e3",
   "metadata": {},
   "outputs": [],
   "source": []
  }
 ],
 "metadata": {
  "kernelspec": {
   "display_name": "Deno",
   "language": "typescript",
   "name": "deno"
  },
  "language_info": {
   "file_extension": ".ts",
   "mimetype": "text/x.typescript",
   "name": "typescript",
   "nb_converter": "script",
   "pygments_lexer": "typescript",
   "version": "5.2.2"
  }
 },
 "nbformat": 4,
 "nbformat_minor": 5
}
