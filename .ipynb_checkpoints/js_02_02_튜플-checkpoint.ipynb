{
 "cells": [
  {
   "cell_type": "code",
   "execution_count": null,
   "id": "0b031d3a-3dfd-4587-911c-02797d629f32",
   "metadata": {},
   "outputs": [],
   "source": []
  },
  {
   "cell_type": "code",
   "execution_count": null,
   "id": "a1169a32-ce56-4e9c-8fab-708e08b2baa1",
   "metadata": {},
   "outputs": [],
   "source": []
  },
  {
   "cell_type": "markdown",
   "id": "dd935305-1dfe-40a2-8b29-6458ed4405c7",
   "metadata": {},
   "source": [
    "## 1. 튜플 \n",
    "- 튜플은 길이와 타입이 고정된 배열입니다. \n",
    "- 길이와 타입이 고정되어 있습니다.\n",
    "- 배열의 요소를 읽고, 쓰고, 추가하고, 삭제할 수 있습니다.\n",
    "- 타입스크립트의 타입 시스템을 사용하여 타입 검사를 수행할 수 있습니다."
   ]
  },
  {
   "cell_type": "code",
   "execution_count": null,
   "id": "66018c79-9725-4c95-b4a4-7913db6f6b0a",
   "metadata": {},
   "outputs": [],
   "source": []
  },
  {
   "cell_type": "markdown",
   "id": "2086f9b2-67d9-46c1-b736-40a4f2152c55",
   "metadata": {},
   "source": [
    "## 1-1 튜플을 정의하가 "
   ]
  },
  {
   "cell_type": "code",
   "execution_count": null,
   "id": "82b7f90a-584e-4b9b-b34d-cf5371e46c1d",
   "metadata": {},
   "outputs": [],
   "source": [
    "// 길이가 2이고, 요소의 타입이 number와 string인 튜플\n",
    "let tuple: [number, string];\n",
    "\n",
    "// 길이가 3이고, 요소의 타입이 number, string, boolean인 튜플\n",
    "let tuple: [number, string, boolean];"
   ]
  },
  {
   "cell_type": "code",
   "execution_count": null,
   "id": "f0805a36-a5e1-4755-b6dc-5557b20af1ad",
   "metadata": {},
   "outputs": [],
   "source": []
  },
  {
   "cell_type": "code",
   "execution_count": null,
   "id": "542da801-019a-47a3-955e-4e74b4d439b3",
   "metadata": {},
   "outputs": [],
   "source": []
  },
  {
   "cell_type": "code",
   "execution_count": 3,
   "id": "12e14a43-c2f5-4864-b727-1741d5df87c3",
   "metadata": {},
   "outputs": [
    {
     "ename": "TypeError",
     "evalue": "Cannot set properties of undefined (setting '0')",
     "output_type": "error",
     "traceback": [
      "Stack trace:",
      "TypeError: Cannot set properties of undefined (setting '0')",
      "    at <anonymous>:5:10"
     ]
    }
   ],
   "source": [
    "// 길이가 2이고, 요소의 타입이 number와 string인 튜플을 선언합니다.\n",
    "let tuple: [number, string];\n",
    "\n",
    "\n",
    "// 튜플의 요소를 설정합니다.\n",
    "tuple[0] = 10;\n",
    "tuple[1] = \"Hello, world!\";\n",
    "\n",
    "// 튜플의 요소를 확인합니다.\n",
    "console.log(tuple[0]); // 10\n",
    "console.log(tuple[1]); // \"Hello, world!\""
   ]
  },
  {
   "cell_type": "code",
   "execution_count": null,
   "id": "5a149aca-54e5-4e8a-bf71-11765c9ac29f",
   "metadata": {},
   "outputs": [],
   "source": [
    "// 튜플의 요소를 가져옵니다.\n",
    "console.log(tuple[0]); // undefined\n",
    "console.log(tuple[1]); // undefined"
   ]
  },
  {
   "cell_type": "code",
   "execution_count": null,
   "id": "4405dcaf-ad09-4741-aaee-a7b5ea506357",
   "metadata": {},
   "outputs": [],
   "source": [
    "// 튜플의 길이를 확인합니다.\n",
    "console.log(tuple.length); // 2"
   ]
  }
 ],
 "metadata": {
  "kernelspec": {
   "display_name": "Deno",
   "language": "typescript",
   "name": "deno"
  },
  "language_info": {
   "file_extension": ".ts",
   "mimetype": "text/x.typescript",
   "name": "typescript",
   "nb_converter": "script",
   "pygments_lexer": "typescript",
   "version": "5.2.2"
  }
 },
 "nbformat": 4,
 "nbformat_minor": 5
}
