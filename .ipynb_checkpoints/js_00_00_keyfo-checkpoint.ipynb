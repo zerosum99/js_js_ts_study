{
 "cells": [
  {
   "cell_type": "code",
   "execution_count": null,
   "id": "db003d4e-db42-4d60-9271-f8e204324567",
   "metadata": {},
   "outputs": [],
   "source": []
  },
  {
   "cell_type": "code",
   "execution_count": 2,
   "id": "0385448c-f53c-4298-ab77-6f770f0a2b0d",
   "metadata": {},
   "outputs": [
    {
     "data": {},
     "execution_count": 2,
     "metadata": {},
     "output_type": "execute_result"
    }
   ],
   "source": [
    "interface Person {\n",
    "  name: string;\n",
    "  age: number;\n",
    "  email: string;\n",
    "}"
   ]
  },
  {
   "cell_type": "code",
   "execution_count": 3,
   "id": "6fb91562-f354-4554-93a2-687405a49463",
   "metadata": {},
   "outputs": [
    {
     "ename": "ReferenceError",
     "evalue": "Person is not defined",
     "output_type": "error",
     "traceback": [
      "Stack trace:",
      "ReferenceError: Person is not defined",
      "    at <anonymous>:2:1"
     ]
    }
   ],
   "source": [
    "Person['name']"
   ]
  },
  {
   "cell_type": "code",
   "execution_count": 9,
   "id": "78460fd3-28fc-42a4-941d-691c9493d609",
   "metadata": {},
   "outputs": [
    {
     "data": {},
     "execution_count": 9,
     "metadata": {},
     "output_type": "execute_result"
    }
   ],
   "source": [
    "function getProperty1(obj: Person, key: string) {\n",
    "  return obj[key];\n",
    "}\n"
   ]
  },
  {
   "cell_type": "code",
   "execution_count": 12,
   "id": "ba843248-4fdd-4146-a078-73943dd5b184",
   "metadata": {},
   "outputs": [
    {
     "data": {},
     "execution_count": 12,
     "metadata": {},
     "output_type": "execute_result"
    }
   ],
   "source": [
    "const person1: Person = {\n",
    "  name: 'John',\n",
    "  age: 30,\n",
    "  email: 'john@example.com',\n",
    "};"
   ]
  },
  {
   "cell_type": "code",
   "execution_count": 13,
   "id": "eace1c8f-8aa3-42cd-80ae-fc377cfe5d25",
   "metadata": {},
   "outputs": [
    {
     "data": {
      "text/plain": [
       "\u001b[32m\"John\"\u001b[39m"
      ]
     },
     "execution_count": 13,
     "metadata": {},
     "output_type": "execute_result"
    }
   ],
   "source": [
    "getProperty1(person1, 'name');"
   ]
  },
  {
   "cell_type": "code",
   "execution_count": null,
   "id": "8b7fdae7-b585-402c-892b-f05f8cf8c687",
   "metadata": {},
   "outputs": [],
   "source": []
  },
  {
   "cell_type": "code",
   "execution_count": 4,
   "id": "a22f135d-f766-4e4a-adc2-2b39b2ee0ae6",
   "metadata": {},
   "outputs": [
    {
     "data": {},
     "execution_count": 4,
     "metadata": {},
     "output_type": "execute_result"
    }
   ],
   "source": [
    "type PersonKey = keyof Person; // 'name' | 'age' | 'email'"
   ]
  },
  {
   "cell_type": "code",
   "execution_count": null,
   "id": "5d431e0b-9f9e-46d9-9c9a-362f21cc0ed4",
   "metadata": {},
   "outputs": [],
   "source": []
  },
  {
   "cell_type": "code",
   "execution_count": 5,
   "id": "ae0e97cb-22f9-4610-9e0c-ccf43a4f8fb3",
   "metadata": {},
   "outputs": [
    {
     "data": {},
     "execution_count": 5,
     "metadata": {},
     "output_type": "execute_result"
    }
   ],
   "source": [
    "const person: Person = {\n",
    "  name: 'John',\n",
    "  age: 30,\n",
    "  email: 'john@example.com',\n",
    "};"
   ]
  },
  {
   "cell_type": "code",
   "execution_count": 6,
   "id": "faff2969-3b2e-4b70-93e5-98dff61aa6f6",
   "metadata": {},
   "outputs": [
    {
     "data": {},
     "execution_count": 6,
     "metadata": {},
     "output_type": "execute_result"
    }
   ],
   "source": [
    "function getProperty(obj: Person, key: PersonKey) {\n",
    "  return obj[key];\n",
    "}\n"
   ]
  },
  {
   "cell_type": "code",
   "execution_count": 7,
   "id": "62d7e606-8fc2-4518-a85b-6c69f012b037",
   "metadata": {},
   "outputs": [
    {
     "data": {},
     "execution_count": 7,
     "metadata": {},
     "output_type": "execute_result"
    }
   ],
   "source": [
    "const personName = getProperty(person, 'name'); // personName의 타입은 string\n",
    "const personAge = getProperty(person, 'age');     // personAge의 타입은 number\n"
   ]
  },
  {
   "cell_type": "code",
   "execution_count": null,
   "id": "c9211d33-3662-42b4-b043-852663b21529",
   "metadata": {},
   "outputs": [],
   "source": []
  },
  {
   "cell_type": "code",
   "execution_count": null,
   "id": "98d282a9-9d87-4ef5-920b-8dfd69ea280c",
   "metadata": {},
   "outputs": [],
   "source": []
  }
 ],
 "metadata": {
  "kernelspec": {
   "display_name": "Deno",
   "language": "typescript",
   "name": "deno"
  },
  "language_info": {
   "file_extension": ".ts",
   "mimetype": "text/x.typescript",
   "name": "typescript",
   "nb_converter": "script",
   "pygments_lexer": "typescript",
   "version": "5.2.2"
  }
 },
 "nbformat": 4,
 "nbformat_minor": 5
}
