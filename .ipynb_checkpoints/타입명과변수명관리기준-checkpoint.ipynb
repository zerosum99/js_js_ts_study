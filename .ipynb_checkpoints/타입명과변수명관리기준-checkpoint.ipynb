{
 "cells": [
  {
   "cell_type": "code",
   "execution_count": null,
   "id": "37085834-fabf-433c-9718-03c7ba9a2b23",
   "metadata": {},
   "outputs": [],
   "source": []
  },
  {
   "cell_type": "code",
   "execution_count": null,
   "id": "2231196e-6eb3-4e54-bc24-e9410fb4ce52",
   "metadata": {},
   "outputs": [],
   "source": []
  },
  {
   "cell_type": "markdown",
   "id": "69135061-d996-4d95-8de7-236c6fb61d29",
   "metadata": {},
   "source": [
    "## 1. 타입명과 변수명 구분"
   ]
  },
  {
   "cell_type": "markdown",
   "id": "147594f9-0ffe-424b-b4a1-25a1fe3ac685",
   "metadata": {},
   "source": [
    "## 1-1 변수와 타입별칭 식별자 비교  "
   ]
  },
  {
   "cell_type": "code",
   "execution_count": 9,
   "id": "c789b555-63e2-4f72-92a2-82775a29e203",
   "metadata": {},
   "outputs": [
    {
     "data": {},
     "execution_count": 9,
     "metadata": {},
     "output_type": "execute_result"
    }
   ],
   "source": [
    "type Klass = { name : string; age:number };"
   ]
  },
  {
   "cell_type": "code",
   "execution_count": 10,
   "id": "64280914-41f9-4148-8526-ea533a2d383f",
   "metadata": {},
   "outputs": [
    {
     "data": {},
     "execution_count": 10,
     "metadata": {},
     "output_type": "execute_result"
    }
   ],
   "source": [
    "const obj : Klass = { name : \"아지\", age : 33 };"
   ]
  },
  {
   "cell_type": "code",
   "execution_count": 12,
   "id": "1f27d6f4-05ff-4856-a485-788e9ea2cc04",
   "metadata": {},
   "outputs": [
    {
     "data": {
      "text/plain": [
       "\u001b[32m\"object\"\u001b[39m"
      ]
     },
     "execution_count": 12,
     "metadata": {},
     "output_type": "execute_result"
    }
   ],
   "source": [
    "typeof obj"
   ]
  },
  {
   "cell_type": "code",
   "execution_count": null,
   "id": "237cc29d-1fa3-4574-889d-eadd9a702254",
   "metadata": {},
   "outputs": [],
   "source": []
  },
  {
   "cell_type": "code",
   "execution_count": 13,
   "id": "c19d6c59-4bd6-4f4e-a41b-feead1d97eff",
   "metadata": {},
   "outputs": [
    {
     "data": {},
     "execution_count": 13,
     "metadata": {},
     "output_type": "execute_result"
    }
   ],
   "source": [
    "const Klass = 100;"
   ]
  },
  {
   "cell_type": "code",
   "execution_count": 14,
   "id": "6b2b3a74-26d2-43d8-9574-2504d5a31ad7",
   "metadata": {},
   "outputs": [
    {
     "data": {
      "text/plain": [
       "\u001b[33m100\u001b[39m"
      ]
     },
     "execution_count": 14,
     "metadata": {},
     "output_type": "execute_result"
    }
   ],
   "source": [
    "Klass"
   ]
  },
  {
   "cell_type": "markdown",
   "id": "0306b668-3589-474b-a7fe-0a4c30798453",
   "metadata": {},
   "source": [
    "## 인터페이스를 지정 "
   ]
  },
  {
   "cell_type": "code",
   "execution_count": 15,
   "id": "ec8dd963-4ce0-4d98-8aeb-31ff9677267d",
   "metadata": {},
   "outputs": [
    {
     "data": {},
     "execution_count": 15,
     "metadata": {},
     "output_type": "execute_result"
    }
   ],
   "source": [
    "interface Klass {\n",
    "    name : string;\n",
    "    age  : number;\n",
    "    type : string;\n",
    "}"
   ]
  },
  {
   "cell_type": "code",
   "execution_count": 17,
   "id": "b6de1eb6-fa27-4ccc-ae42-67f48f657bbb",
   "metadata": {},
   "outputs": [
    {
     "data": {},
     "execution_count": 17,
     "metadata": {},
     "output_type": "execute_result"
    }
   ],
   "source": [
    "const obj1 : Klass = { name : \"아지\", age : 33 , type:\"interface\"};"
   ]
  },
  {
   "cell_type": "code",
   "execution_count": 18,
   "id": "9bc5ed50-c164-4db0-a5ae-6240d7df8c17",
   "metadata": {},
   "outputs": [
    {
     "data": {
      "text/plain": [
       "\u001b[32m\"object\"\u001b[39m"
      ]
     },
     "execution_count": 18,
     "metadata": {},
     "output_type": "execute_result"
    }
   ],
   "source": [
    "typeof obj1"
   ]
  },
  {
   "cell_type": "markdown",
   "id": "ba8938e2-a9fe-4383-a809-23a3088d6efe",
   "metadata": {},
   "source": [
    "### 인터페이스는 객체가 아님 "
   ]
  },
  {
   "cell_type": "code",
   "execution_count": 25,
   "id": "fa4c8542-38a0-432c-bb31-c7876e2846a9",
   "metadata": {},
   "outputs": [
    {
     "ename": "TypeError",
     "evalue": "Right-hand side of 'instanceof' is not an object",
     "output_type": "error",
     "traceback": [
      "Stack trace:",
      "TypeError: Right-hand side of 'instanceof' is not an object",
      "    at <anonymous>:2:6"
     ]
    }
   ],
   "source": [
    "obj1 instanceof Klass"
   ]
  },
  {
   "cell_type": "markdown",
   "id": "40041138-059f-4927-ae68-7423b1d5aaf5",
   "metadata": {},
   "source": [
    "## 1-2 자료형 영역에 동일한 이름이 있어서 충돌 "
   ]
  },
  {
   "cell_type": "code",
   "execution_count": 19,
   "id": "a8367c0f-c03e-4d40-85c9-929ed7c3b72a",
   "metadata": {},
   "outputs": [
    {
     "ename": "SyntaxError",
     "evalue": "Identifier 'Klass' has already been declared",
     "output_type": "error",
     "traceback": [
      "Stack trace:",
      "SyntaxError: Identifier 'Klass' has already been declared"
     ]
    }
   ],
   "source": [
    "class Klass {\n",
    "    name : string = \"아욱\";\n",
    "    age : number = 44;\n",
    "}"
   ]
  },
  {
   "cell_type": "code",
   "execution_count": null,
   "id": "fa8c7fba-ab75-417b-ab90-ad0c985b7c09",
   "metadata": {},
   "outputs": [],
   "source": []
  },
  {
   "cell_type": "code",
   "execution_count": null,
   "id": "49027a72-4a5f-4f3f-a7cd-c4bcc8602702",
   "metadata": {},
   "outputs": [],
   "source": []
  },
  {
   "cell_type": "code",
   "execution_count": 20,
   "id": "99b42557-580d-4ff6-aef1-41784a0a77a0",
   "metadata": {},
   "outputs": [
    {
     "data": {},
     "execution_count": 20,
     "metadata": {},
     "output_type": "execute_result"
    }
   ],
   "source": [
    "class Klass1 {\n",
    "    name : string = \"아욱\";\n",
    "    age : number = 44;\n",
    "}"
   ]
  },
  {
   "cell_type": "code",
   "execution_count": 21,
   "id": "bfbc49b2-4b94-480d-9dfe-74f195664e41",
   "metadata": {},
   "outputs": [
    {
     "data": {},
     "execution_count": 21,
     "metadata": {},
     "output_type": "execute_result"
    }
   ],
   "source": [
    "const obj2 = new Klass1();"
   ]
  },
  {
   "cell_type": "code",
   "execution_count": 23,
   "id": "cc3ed2a2-fea5-4d7e-858d-8a260871a420",
   "metadata": {},
   "outputs": [
    {
     "data": {},
     "execution_count": 23,
     "metadata": {},
     "output_type": "execute_result"
    },
    {
     "name": "stdout",
     "output_type": "stream",
     "text": [
      "object\n"
     ]
    }
   ],
   "source": [
    "console.log(typeof obj2)"
   ]
  },
  {
   "cell_type": "code",
   "execution_count": 24,
   "id": "bf87f606-d47c-47f3-a364-c9df73752171",
   "metadata": {},
   "outputs": [
    {
     "data": {
      "text/plain": [
       "\u001b[33mtrue\u001b[39m"
      ]
     },
     "execution_count": 24,
     "metadata": {},
     "output_type": "execute_result"
    }
   ],
   "source": [
    "obj2 instanceof Klass1"
   ]
  },
  {
   "cell_type": "code",
   "execution_count": null,
   "id": "a367bb42-2287-42ea-9e12-752d7e818bc8",
   "metadata": {},
   "outputs": [],
   "source": []
  }
 ],
 "metadata": {
  "kernelspec": {
   "display_name": "Deno",
   "language": "typescript",
   "name": "deno"
  },
  "language_info": {
   "file_extension": ".ts",
   "mimetype": "text/x.typescript",
   "name": "typescript",
   "nb_converter": "script",
   "pygments_lexer": "typescript",
   "version": "5.2.2"
  }
 },
 "nbformat": 4,
 "nbformat_minor": 5
}
