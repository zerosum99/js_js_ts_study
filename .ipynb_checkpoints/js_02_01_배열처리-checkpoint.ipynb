{
 "cells": [
  {
   "cell_type": "code",
   "execution_count": null,
   "id": "d4709dbe-2770-4e35-86c9-913229dfa5ea",
   "metadata": {},
   "outputs": [],
   "source": []
  },
  {
   "cell_type": "markdown",
   "id": "c1a50de2-90e2-4a4f-b144-9955417429b5",
   "metadata": {},
   "source": [
    "# 1. 배열 생성자함수 및 프로토타입 메서드 확인하기 "
   ]
  },
  {
   "cell_type": "markdown",
   "id": "ebdeb6ac-7a36-4e58-87a5-cb0eb2927dba",
   "metadata": {},
   "source": [
    "## 1-1 배열 생성자함수 확인"
   ]
  },
  {
   "cell_type": "code",
   "execution_count": 1,
   "id": "0a864cbc-c81a-4121-8984-e303b1fb9d59",
   "metadata": {},
   "outputs": [
    {
     "data": {
      "text/plain": [
       "[ \u001b[32m\"length\"\u001b[39m, \u001b[32m\"name\"\u001b[39m, \u001b[32m\"prototype\"\u001b[39m, \u001b[32m\"isArray\"\u001b[39m, \u001b[32m\"from\"\u001b[39m, \u001b[32m\"of\"\u001b[39m ]"
      ]
     },
     "execution_count": 1,
     "metadata": {},
     "output_type": "execute_result"
    }
   ],
   "source": [
    "Object.getOwnPropertyNames(Array);"
   ]
  },
  {
   "cell_type": "markdown",
   "id": "9d0de429-004f-46c8-9a8e-4c9e1f73cb4d",
   "metadata": {},
   "source": [
    "## 1-2 배열의 프로토타입 내의 속성 및 메서드 "
   ]
  },
  {
   "cell_type": "code",
   "execution_count": 2,
   "id": "77c62df9-ac2c-4be5-af91-9bb5a4ec2127",
   "metadata": {},
   "outputs": [
    {
     "data": {
      "text/plain": [
       "[\n",
       "  \u001b[32m\"length\"\u001b[39m,        \u001b[32m\"constructor\"\u001b[39m,    \u001b[32m\"at\"\u001b[39m,\n",
       "  \u001b[32m\"concat\"\u001b[39m,        \u001b[32m\"copyWithin\"\u001b[39m,     \u001b[32m\"fill\"\u001b[39m,\n",
       "  \u001b[32m\"find\"\u001b[39m,          \u001b[32m\"findIndex\"\u001b[39m,      \u001b[32m\"findLast\"\u001b[39m,\n",
       "  \u001b[32m\"findLastIndex\"\u001b[39m, \u001b[32m\"lastIndexOf\"\u001b[39m,    \u001b[32m\"pop\"\u001b[39m,\n",
       "  \u001b[32m\"push\"\u001b[39m,          \u001b[32m\"reverse\"\u001b[39m,        \u001b[32m\"shift\"\u001b[39m,\n",
       "  \u001b[32m\"unshift\"\u001b[39m,       \u001b[32m\"slice\"\u001b[39m,          \u001b[32m\"sort\"\u001b[39m,\n",
       "  \u001b[32m\"splice\"\u001b[39m,        \u001b[32m\"includes\"\u001b[39m,       \u001b[32m\"indexOf\"\u001b[39m,\n",
       "  \u001b[32m\"join\"\u001b[39m,          \u001b[32m\"keys\"\u001b[39m,           \u001b[32m\"entries\"\u001b[39m,\n",
       "  \u001b[32m\"values\"\u001b[39m,        \u001b[32m\"forEach\"\u001b[39m,        \u001b[32m\"filter\"\u001b[39m,\n",
       "  \u001b[32m\"flat\"\u001b[39m,          \u001b[32m\"flatMap\"\u001b[39m,        \u001b[32m\"map\"\u001b[39m,\n",
       "  \u001b[32m\"every\"\u001b[39m,         \u001b[32m\"some\"\u001b[39m,           \u001b[32m\"reduce\"\u001b[39m,\n",
       "  \u001b[32m\"reduceRight\"\u001b[39m,   \u001b[32m\"toLocaleString\"\u001b[39m, \u001b[32m\"toString\"\u001b[39m,\n",
       "  \u001b[32m\"toReversed\"\u001b[39m,    \u001b[32m\"toSorted\"\u001b[39m,       \u001b[32m\"toSpliced\"\u001b[39m,\n",
       "  \u001b[32m\"with\"\u001b[39m\n",
       "]"
      ]
     },
     "execution_count": 2,
     "metadata": {},
     "output_type": "execute_result"
    }
   ],
   "source": [
    "Object.getOwnPropertyNames(Array.prototype);"
   ]
  },
  {
   "cell_type": "code",
   "execution_count": null,
   "id": "717d0d7c-fb95-469d-81f1-58e2de7b2869",
   "metadata": {},
   "outputs": [],
   "source": []
  },
  {
   "cell_type": "markdown",
   "id": "9f379dc2-d4d6-4733-9eed-4d1fa8b563fa",
   "metadata": {},
   "source": [
    "## 2. 배열 생성하기 "
   ]
  },
  {
   "cell_type": "markdown",
   "id": "62f88eb5-0a89-4deb-9d6c-b40daab38b9e",
   "metadata": {},
   "source": [
    "## 2-1 배열 리터럴 "
   ]
  },
  {
   "cell_type": "code",
   "execution_count": 3,
   "id": "89c3af6d-3f6c-4e33-9c5c-c24a73f68741",
   "metadata": {},
   "outputs": [
    {
     "data": {},
     "execution_count": 3,
     "metadata": {},
     "output_type": "execute_result"
    }
   ],
   "source": [
    "const ar0 : number[] = []"
   ]
  },
  {
   "cell_type": "code",
   "execution_count": 4,
   "id": "e2e6a633-7b22-44bf-8b8e-2d5fbb1a00ec",
   "metadata": {},
   "outputs": [
    {
     "data": {
      "text/plain": [
       "[]"
      ]
     },
     "execution_count": 4,
     "metadata": {},
     "output_type": "execute_result"
    }
   ],
   "source": [
    "ar0"
   ]
  },
  {
   "cell_type": "code",
   "execution_count": 5,
   "id": "b6ee4965-8bb1-41ce-b7d0-ff75d59fcebe",
   "metadata": {},
   "outputs": [
    {
     "data": {
      "text/plain": [
       "\u001b[32m\"object\"\u001b[39m"
      ]
     },
     "execution_count": 5,
     "metadata": {},
     "output_type": "execute_result"
    }
   ],
   "source": [
    "typeof ar0"
   ]
  },
  {
   "cell_type": "code",
   "execution_count": null,
   "id": "dbf28733-2232-4dc8-8368-5c3922dff413",
   "metadata": {},
   "outputs": [],
   "source": []
  },
  {
   "cell_type": "markdown",
   "id": "29c18f8b-db1b-47f2-8ae8-7847169c6369",
   "metadata": {},
   "source": [
    "## 2-2 생성자로 배열 생성 "
   ]
  },
  {
   "cell_type": "code",
   "execution_count": 6,
   "id": "6bde157a-6016-4a59-bda3-072a59cbe1a9",
   "metadata": {},
   "outputs": [
    {
     "data": {},
     "execution_count": 6,
     "metadata": {},
     "output_type": "execute_result"
    }
   ],
   "source": [
    "const ar1 : Array<number> = Array<number>();"
   ]
  },
  {
   "cell_type": "code",
   "execution_count": 7,
   "id": "dd7f10b9-0f77-48ec-bded-9010a797c830",
   "metadata": {},
   "outputs": [
    {
     "data": {
      "text/plain": [
       "[]"
      ]
     },
     "execution_count": 7,
     "metadata": {},
     "output_type": "execute_result"
    }
   ],
   "source": [
    "ar1"
   ]
  },
  {
   "cell_type": "code",
   "execution_count": 8,
   "id": "caa3bd73-f141-48cd-b6ac-d6270b8ff3bf",
   "metadata": {},
   "outputs": [
    {
     "data": {
      "text/plain": [
       "\u001b[32m\"object\"\u001b[39m"
      ]
     },
     "execution_count": 8,
     "metadata": {},
     "output_type": "execute_result"
    }
   ],
   "source": [
    "typeof ar1"
   ]
  },
  {
   "cell_type": "code",
   "execution_count": null,
   "id": "577023a9-a2cb-42ec-899f-fcbff424d963",
   "metadata": {},
   "outputs": [],
   "source": []
  },
  {
   "cell_type": "markdown",
   "id": "e7978e5c-4ff5-4f93-865d-513b6778caa6",
   "metadata": {},
   "source": [
    "## 2-3 배열 요소 접근"
   ]
  },
  {
   "cell_type": "code",
   "execution_count": 15,
   "id": "fdb5f33a-bd86-4c41-9c3e-be633b28d739",
   "metadata": {},
   "outputs": [
    {
     "data": {},
     "execution_count": 15,
     "metadata": {},
     "output_type": "execute_result"
    },
    {
     "name": "stdout",
     "output_type": "stream",
     "text": [
      "\u001b[33m1\u001b[39m\n",
      "[ \u001b[33m10\u001b[39m, \u001b[33m2\u001b[39m, \u001b[33m3\u001b[39m ]\n"
     ]
    }
   ],
   "source": [
    "// 배열의 요소를 읽고, 쓰고, 추가하고, 삭제하는 예제\n",
    "let numbers: number[] = [1, 2, 3];\n",
    "\n",
    "// 요소를 읽습니다.\n",
    "console.log(numbers[0]); // 1\n",
    "\n",
    "// 요소를 씁니다.\n",
    "numbers[0] = 10;\n",
    "console.log(numbers); // [10, 2, 3]"
   ]
  },
  {
   "cell_type": "code",
   "execution_count": null,
   "id": "b6d0825f-7d53-45ab-beeb-206a40ea4bd6",
   "metadata": {},
   "outputs": [],
   "source": []
  },
  {
   "cell_type": "markdown",
   "id": "0db90690-b403-4f1c-beda-9546dd7a1073",
   "metadata": {},
   "source": [
    "## 2-4 읽기전용 배열 만들기\n",
    "\n",
    "- readonly 키워드를 사용하여 배열의 요소를 읽기전용으로 선언합니다.\n",
    "- ReadonlyArray 타입을 사용하여 읽기전용 배열을 선언합니다."
   ]
  },
  {
   "cell_type": "markdown",
   "id": "a1062c04-9e13-4efe-877c-7224a5032b97",
   "metadata": {},
   "source": [
    "### deno에서는 읽기전용 제한이 작동하지 않음 "
   ]
  },
  {
   "cell_type": "code",
   "execution_count": 20,
   "id": "5267d62c-1937-40a4-a2db-86ca7d8d8206",
   "metadata": {},
   "outputs": [
    {
     "data": {
      "text/plain": [
       "\u001b[33m10\u001b[39m"
      ]
     },
     "execution_count": 20,
     "metadata": {},
     "output_type": "execute_result"
    }
   ],
   "source": [
    "let readonlyNumbers: readonly number[] = [1, 2, 3];\n",
    "// 읽기전용 배열의 요소를 변경하려고 하면 오류가 발생합니다.\n",
    "readonlyNumbers[0] = 10;"
   ]
  },
  {
   "cell_type": "code",
   "execution_count": null,
   "id": "092a5f98-a520-4d98-ad46-cf44b9ab3573",
   "metadata": {},
   "outputs": [],
   "source": []
  },
  {
   "cell_type": "code",
   "execution_count": 21,
   "id": "b7a78d62-351f-48d1-98ca-81856e06eb7f",
   "metadata": {},
   "outputs": [
    {
     "data": {
      "text/plain": [
       "\u001b[33m10\u001b[39m"
      ]
     },
     "execution_count": 21,
     "metadata": {},
     "output_type": "execute_result"
    }
   ],
   "source": [
    "let readonlyNumbers: ReadonlyArray<number> = [1, 2, 3];\n",
    "\n",
    "// 읽기전용 배열의 요소를 변경하려고 하면 오류가 발생합니다.\n",
    "readonlyNumbers[0] = 10;"
   ]
  },
  {
   "cell_type": "code",
   "execution_count": null,
   "id": "423e12f7-b4d1-4c8d-806e-0cd3d57f8a36",
   "metadata": {},
   "outputs": [],
   "source": []
  },
  {
   "cell_type": "code",
   "execution_count": null,
   "id": "ffb6b329-1976-4888-b387-d87525c678ec",
   "metadata": {},
   "outputs": [],
   "source": []
  },
  {
   "cell_type": "markdown",
   "id": "8f159dc9-c8eb-41b7-8e76-857e2c70a185",
   "metadata": {},
   "source": [
    "## 3. 배열 메서드 처리 "
   ]
  },
  {
   "cell_type": "markdown",
   "id": "f2c54b27-a8b2-4d1b-aaad-9718702ca2cb",
   "metadata": {},
   "source": [
    "## 3-1 배열 요소 추가 및 삭제 "
   ]
  },
  {
   "cell_type": "code",
   "execution_count": 16,
   "id": "676812af-afe3-4760-afa0-6633058f7f4b",
   "metadata": {},
   "outputs": [
    {
     "data": {},
     "execution_count": 16,
     "metadata": {},
     "output_type": "execute_result"
    },
    {
     "name": "stdout",
     "output_type": "stream",
     "text": [
      "\u001b[33m1\u001b[39m\n",
      "[ \u001b[33m10\u001b[39m, \u001b[33m2\u001b[39m, \u001b[33m3\u001b[39m ]\n",
      "[ \u001b[33m10\u001b[39m, \u001b[33m2\u001b[39m, \u001b[33m3\u001b[39m, \u001b[33m4\u001b[39m ]\n",
      "[ \u001b[33m10\u001b[39m, \u001b[33m2\u001b[39m, \u001b[33m3\u001b[39m ]\n",
      "\u001b[33m3\u001b[39m\n"
     ]
    }
   ],
   "source": [
    "// 배열의 요소를 읽고, 쓰고, 추가하고, 삭제하는 예제\n",
    "let numbers: number[] = [1, 2, 3];\n",
    "\n",
    "// 요소를 읽습니다.\n",
    "console.log(numbers[0]); // 1\n",
    "\n",
    "// 요소를 씁니다.\n",
    "numbers[0] = 10;\n",
    "console.log(numbers); // [10, 2, 3]\n",
    "\n",
    "// 요소를 추가합니다.\n",
    "numbers.push(4);\n",
    "console.log(numbers); // [10, 2, 3, 4]\n",
    "\n",
    "// 요소를 제거합니다.\n",
    "numbers.pop();\n",
    "console.log(numbers); // [10, 2, 3]\n",
    "\n",
    "// 배열의 길이를 확인합니다.\n",
    "console.log(numbers.length); // 3"
   ]
  },
  {
   "cell_type": "code",
   "execution_count": null,
   "id": "df022fe3-68d6-42c1-85ef-9273a1826497",
   "metadata": {},
   "outputs": [],
   "source": []
  },
  {
   "cell_type": "markdown",
   "id": "00a97f33-9417-4d3c-b6a8-84534b268b04",
   "metadata": {},
   "source": [
    "## 3-2 슬라이스 처리 하기 "
   ]
  },
  {
   "cell_type": "code",
   "execution_count": 9,
   "id": "0ec5e7e6-fd49-4a85-b8df-be9e699885ce",
   "metadata": {},
   "outputs": [
    {
     "data": {},
     "execution_count": 9,
     "metadata": {},
     "output_type": "execute_result"
    },
    {
     "name": "stdout",
     "output_type": "stream",
     "text": [
      "[ \u001b[33m1\u001b[39m, \u001b[33m2\u001b[39m ]\n"
     ]
    }
   ],
   "source": [
    "let numbers: number[] = [1, 2, 3, 4, 5];\n",
    "\n",
    "// 처음 두 요소를 슬라이스합니다.\n",
    "let firstTwoNumbers = numbers.slice(0, 2);\n",
    "\n",
    "console.log(firstTwoNumbers); // [1, 2]"
   ]
  },
  {
   "cell_type": "code",
   "execution_count": null,
   "id": "dd4b6131-4bb9-4170-b35d-f0a50c411878",
   "metadata": {},
   "outputs": [],
   "source": []
  },
  {
   "cell_type": "code",
   "execution_count": 10,
   "id": "dc023a3d-7397-41a4-9b92-338afaf5480b",
   "metadata": {},
   "outputs": [
    {
     "data": {},
     "execution_count": 10,
     "metadata": {},
     "output_type": "execute_result"
    },
    {
     "name": "stdout",
     "output_type": "stream",
     "text": [
      "[ \u001b[33m4\u001b[39m, \u001b[33m5\u001b[39m ]\n"
     ]
    }
   ],
   "source": [
    "// 마지막 두 요소를 슬라이스합니다.\n",
    "let lastTwoNumbers = numbers.slice(3);\n",
    "\n",
    "console.log(lastTwoNumbers); // [4, 5]"
   ]
  },
  {
   "cell_type": "code",
   "execution_count": null,
   "id": "f338539b-dc3f-4cf7-b26a-b84885375df3",
   "metadata": {},
   "outputs": [],
   "source": []
  },
  {
   "cell_type": "markdown",
   "id": "0576dc48-606d-4939-b49b-863356296019",
   "metadata": {},
   "source": [
    "## 슬라이스 메서드에 객체 연결해서 처리 하기  "
   ]
  },
  {
   "cell_type": "code",
   "execution_count": 12,
   "id": "9b5d5e7b-0c8d-415d-9a47-41e32511b40f",
   "metadata": {},
   "outputs": [
    {
     "data": {},
     "execution_count": 12,
     "metadata": {},
     "output_type": "execute_result"
    }
   ],
   "source": [
    "const array = Array.prototype.slice.call([1,2,3,4])"
   ]
  },
  {
   "cell_type": "code",
   "execution_count": 13,
   "id": "bc9a9cfb-7fd3-4fc7-ad42-ca4ca7c78c5a",
   "metadata": {},
   "outputs": [
    {
     "data": {
      "text/plain": [
       "[ \u001b[33m1\u001b[39m, \u001b[33m2\u001b[39m, \u001b[33m3\u001b[39m, \u001b[33m4\u001b[39m ]"
      ]
     },
     "execution_count": 13,
     "metadata": {},
     "output_type": "execute_result"
    }
   ],
   "source": [
    "array"
   ]
  },
  {
   "cell_type": "code",
   "execution_count": 14,
   "id": "a711eb8a-fc74-400b-b29e-847c0dc19c85",
   "metadata": {},
   "outputs": [
    {
     "data": {
      "text/plain": [
       "[ \u001b[33m4\u001b[39m ]"
      ]
     },
     "execution_count": 14,
     "metadata": {},
     "output_type": "execute_result"
    }
   ],
   "source": [
    "array.slice(3);"
   ]
  },
  {
   "cell_type": "code",
   "execution_count": null,
   "id": "b08a27ef-97d4-410b-8fc1-d3bb3a307779",
   "metadata": {},
   "outputs": [],
   "source": []
  },
  {
   "cell_type": "code",
   "execution_count": null,
   "id": "805b7b3c-d937-4ef7-812d-8bc494227d2c",
   "metadata": {},
   "outputs": [],
   "source": []
  },
  {
   "cell_type": "code",
   "execution_count": null,
   "id": "9e3b778e-6975-45e5-91c6-09fe324fc7b5",
   "metadata": {},
   "outputs": [],
   "source": []
  }
 ],
 "metadata": {
  "kernelspec": {
   "display_name": "Deno",
   "language": "typescript",
   "name": "deno"
  },
  "language_info": {
   "file_extension": ".ts",
   "mimetype": "text/x.typescript",
   "name": "typescript",
   "nb_converter": "script",
   "pygments_lexer": "typescript",
   "version": "5.2.2"
  }
 },
 "nbformat": 4,
 "nbformat_minor": 5
}
