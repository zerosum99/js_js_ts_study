{
 "cells": [
  {
   "cell_type": "code",
   "execution_count": null,
   "id": "c5f0e284-b94b-4c4d-97dd-2d25ba43d78a",
   "metadata": {},
   "outputs": [],
   "source": []
  },
  {
   "cell_type": "code",
   "execution_count": null,
   "id": "f26ac878-bdb3-40c6-8516-f1302421f598",
   "metadata": {},
   "outputs": [],
   "source": []
  },
  {
   "cell_type": "markdown",
   "id": "779cfc0a-b79d-47ba-b628-632bea56ff75",
   "metadata": {},
   "source": [
    "## 타입어센션 2가지 표기법 "
   ]
  },
  {
   "cell_type": "code",
   "execution_count": 1,
   "id": "f644e452-ee4f-4e49-8a53-5241fbe3cbf2",
   "metadata": {},
   "outputs": [
    {
     "data": {},
     "execution_count": 1,
     "metadata": {},
     "output_type": "execute_result"
    }
   ],
   "source": [
    "let someValue: any = \"Hello, TypeScript!\";\n",
    "let strLength: number = (someValue as string).length; // \"as\" 키워드로 타입 어설션\n"
   ]
  },
  {
   "cell_type": "code",
   "execution_count": null,
   "id": "bee216a2-41a7-4e2c-8922-5fc779ea961f",
   "metadata": {},
   "outputs": [],
   "source": []
  },
  {
   "cell_type": "code",
   "execution_count": 2,
   "id": "f120a81d-0fc2-4318-b1bc-751d1a0b916b",
   "metadata": {},
   "outputs": [
    {
     "data": {},
     "execution_count": 2,
     "metadata": {},
     "output_type": "execute_result"
    }
   ],
   "source": [
    "let someValue: any = \"Hello, TypeScript!\";\n",
    "let strLength: number = (<string>someValue).length; // \"<>\"를 사용한 방식\n"
   ]
  },
  {
   "cell_type": "code",
   "execution_count": null,
   "id": "3c48c1b0-4cc2-45e4-bb91-96b0798740c6",
   "metadata": {},
   "outputs": [],
   "source": []
  },
  {
   "cell_type": "markdown",
   "id": "b29f67ba-5f8b-4bb7-b918-f00bf2343a7d",
   "metadata": {},
   "source": [
    "## 타입추론보정"
   ]
  },
  {
   "cell_type": "code",
   "execution_count": 4,
   "id": "dfbbfc23-f796-451c-94aa-e687e26f155e",
   "metadata": {},
   "outputs": [
    {
     "data": {},
     "execution_count": 4,
     "metadata": {},
     "output_type": "execute_result"
    }
   ],
   "source": [
    "let value = \"42\"; // value는 문자열로 추론\n",
    "let numericValue = parseInt(value); // TypeScript는 이 때 number로 추론하지 못함\n",
    "let forceNumericValue = numericValue as number; // 명시적으로 타입을 지정\n"
   ]
  },
  {
   "cell_type": "code",
   "execution_count": null,
   "id": "ef367934-c082-4777-b5ae-1c4283e8b3de",
   "metadata": {},
   "outputs": [],
   "source": []
  },
  {
   "cell_type": "markdown",
   "id": "e1178dcf-b3a3-4a88-b02b-a4c1ebeb2c8a",
   "metadata": {},
   "source": [
    "## 타입확정 "
   ]
  },
  {
   "cell_type": "code",
   "execution_count": 3,
   "id": "fa8128c3-0a40-4e5a-bbe5-02bc651acdf8",
   "metadata": {},
   "outputs": [
    {
     "data": {},
     "execution_count": 3,
     "metadata": {},
     "output_type": "execute_result"
    }
   ],
   "source": [
    "let value: any = \"Hello, TypeScript!\";\n",
    "let strLength: number = (value as string).length; // 개발자가 value가 문자열임을 확신\n"
   ]
  },
  {
   "cell_type": "code",
   "execution_count": null,
   "id": "83bc0891-bb85-416b-8f10-830f46b490cb",
   "metadata": {},
   "outputs": [],
   "source": []
  },
  {
   "cell_type": "markdown",
   "id": "5c3bd7c3-f765-4b17-a41c-51cac263a5f3",
   "metadata": {},
   "source": [
    "### 타입변환 "
   ]
  },
  {
   "cell_type": "code",
   "execution_count": null,
   "id": "f9eee6ab-4bda-42a0-95c5-27fb31cd9d2e",
   "metadata": {},
   "outputs": [],
   "source": [
    "let numberValue: number = 42;\n",
    "let stringValue: string = numberValue.toString(); // toString 메서드로 타입 변환\n"
   ]
  },
  {
   "cell_type": "code",
   "execution_count": null,
   "id": "aded0745-d693-4748-be54-15a0fc8683c5",
   "metadata": {},
   "outputs": [],
   "source": []
  },
  {
   "cell_type": "code",
   "execution_count": null,
   "id": "c9ed8279-cd97-4462-bd4a-05e0f93acb8a",
   "metadata": {},
   "outputs": [],
   "source": []
  },
  {
   "cell_type": "markdown",
   "id": "71cf9ee5-f1c3-42b9-a25d-220855e04a70",
   "metadata": {},
   "source": [
    "## 3. 다양한 용도 "
   ]
  },
  {
   "cell_type": "markdown",
   "id": "7ca5d76f-2168-4c9f-b093-c5ecf5bdbd5b",
   "metadata": {},
   "source": [
    "## 복합 자료형 처리 "
   ]
  },
  {
   "cell_type": "code",
   "execution_count": 6,
   "id": "67915578-2bd4-442d-8e20-489bc6cb1f56",
   "metadata": {},
   "outputs": [
    {
     "data": {},
     "execution_count": 6,
     "metadata": {},
     "output_type": "execute_result"
    }
   ],
   "source": [
    "const data: string | number = \"42\";\n",
    "const length = (data as string).length; // 개발자가 data가 문자열임을 확신\n"
   ]
  },
  {
   "cell_type": "code",
   "execution_count": null,
   "id": "c89e6511-a54e-4444-a864-4a5cde53802c",
   "metadata": {},
   "outputs": [],
   "source": []
  },
  {
   "cell_type": "markdown",
   "id": "393e6f18-22db-4f61-890f-5d5db2f31a41",
   "metadata": {},
   "source": [
    "## 중첩 객체 "
   ]
  },
  {
   "cell_type": "code",
   "execution_count": 5,
   "id": "86c5db2f-36c4-488e-b548-09a2228d22df",
   "metadata": {},
   "outputs": [
    {
     "data": {},
     "execution_count": 5,
     "metadata": {},
     "output_type": "execute_result"
    }
   ],
   "source": [
    "const data: any = {\n",
    "  user: {\n",
    "    name: \"John\",\n",
    "    age: \"30\",\n",
    "  },\n",
    "};\n",
    "\n",
    "const name = (data.user as { name: string }).name;\n"
   ]
  },
  {
   "cell_type": "code",
   "execution_count": null,
   "id": "324726b0-ede0-498b-97ee-97bac4898621",
   "metadata": {},
   "outputs": [],
   "source": []
  },
  {
   "cell_type": "markdown",
   "id": "9b166c6b-56cd-49f2-86cf-d8990f830e85",
   "metadata": {},
   "source": [
    "### 함수 반환형 "
   ]
  },
  {
   "cell_type": "code",
   "execution_count": 7,
   "id": "2e934772-3ab9-4d20-8211-43ed9bd7c827",
   "metadata": {},
   "outputs": [
    {
     "data": {},
     "execution_count": 7,
     "metadata": {},
     "output_type": "execute_result"
    }
   ],
   "source": [
    "function generateId(): string {\n",
    "  return (Math.random() * 1000).toString(); // 명시적으로 반환 타입을 지정\n",
    "}\n"
   ]
  },
  {
   "cell_type": "code",
   "execution_count": null,
   "id": "6720e916-ae7d-431e-9c6f-1a4b4c8f223a",
   "metadata": {},
   "outputs": [],
   "source": []
  }
 ],
 "metadata": {
  "kernelspec": {
   "display_name": "Deno",
   "language": "typescript",
   "name": "deno"
  },
  "language_info": {
   "file_extension": ".ts",
   "mimetype": "text/x.typescript",
   "name": "typescript",
   "nb_converter": "script",
   "pygments_lexer": "typescript",
   "version": "5.2.2"
  }
 },
 "nbformat": 4,
 "nbformat_minor": 5
}
