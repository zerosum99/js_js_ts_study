{
 "cells": [
  {
   "cell_type": "markdown",
   "id": "d5b3d24f-9f08-4d66-b7e5-69b9a5165e47",
   "metadata": {},
   "source": [
    "## 접근자 프로퍼티 처리 "
   ]
  },
  {
   "cell_type": "code",
   "execution_count": 18,
   "id": "00cfd2d5-629c-4a24-8441-c243c4166e79",
   "metadata": {},
   "outputs": [
    {
     "data": {},
     "execution_count": 18,
     "metadata": {},
     "output_type": "execute_result"
    },
    {
     "name": "stdout",
     "output_type": "stream",
     "text": [
      "가을이방\n",
      "가을이윤\n"
     ]
    }
   ],
   "source": [
    "const person = {\n",
    "    firstname : \"가을이\",\n",
    "    lastname : \"방\",\n",
    "\n",
    "    get fullname() {\n",
    "        return this.firstname + this.lastname;\n",
    "    },\n",
    "\n",
    "    set fullname(value) {\n",
    "        this.lastname = value;\n",
    "    }\n",
    "}\n",
    "\n",
    "// get 메서드를 호출하여 firstName , lastnme 속성의 값을 가져옴\n",
    "console.log(person.fullname);\n",
    "\n",
    "// get 메서드를 호출하여 firstName 속성의 값을 가져옴\n",
    "person.fullname = \"윤\";\n",
    "// get 메서드를 호출하여 firstName 속성의 값을 가져옴\n",
    "console.log(person.fullname);"
   ]
  },
  {
   "cell_type": "code",
   "execution_count": null,
   "id": "ec9c152a-1d9a-4b22-89dc-4b2db13cacb2",
   "metadata": {},
   "outputs": [],
   "source": []
  },
  {
   "cell_type": "markdown",
   "id": "b6459dc2-9fb6-4d65-9ae9-2495a3c80fd1",
   "metadata": {},
   "source": [
    "## 데이터 프로퍼티 처리 "
   ]
  },
  {
   "cell_type": "code",
   "execution_count": 17,
   "id": "0b4c3cde-d91b-4843-911d-371bf562a5b1",
   "metadata": {},
   "outputs": [
    {
     "data": {},
     "execution_count": 17,
     "metadata": {},
     "output_type": "execute_result"
    },
    {
     "name": "stdout",
     "output_type": "stream",
     "text": [
      "\n",
      "Alice\n"
     ]
    },
    {
     "name": "stderr",
     "output_type": "stream",
     "text": [
      "Invalid input. First name must be a string.\n"
     ]
    },
    {
     "name": "stdout",
     "output_type": "stream",
     "text": [
      "Alice\n"
     ]
    }
   ],
   "source": [
    "const person1 = {\n",
    "    _firstName: \"\",\n",
    "\n",
    "    // get 메서드를 사용하여 firstName 속성의 값을 반환\n",
    "    get firstName() {\n",
    "        return this._firstName;\n",
    "    },\n",
    "\n",
    "    // set 메서드를 사용하여 firstName 속성의 값을 설정\n",
    "    set firstName(newName) {\n",
    "        if (typeof newName === \"string\") {\n",
    "            this._firstName = newName;\n",
    "        } else {\n",
    "            console.error(\"Invalid input. First name must be a string.\");\n",
    "        }\n",
    "    }\n",
    "};\n",
    "\n",
    "// get 메서드를 호출하여 firstName 속성의 값을 가져옴\n",
    "console.log(person1.firstName); // \"\"\n",
    "\n",
    "// set 메서드를 호출하여 firstName 속성의 값을 설정\n",
    "person1.firstName = \"Alice\";\n",
    "console.log(person1.firstName); // \"Alice\"\n",
    "\n",
    "// 잘못된 데이터 타입으로 설정하려고 하면 에러가 발생\n",
    "person1.firstName = 42; // Invalid input. First name must be a string.\n",
    "console.log(person1.firstName); // \"Alice\" (이전 값 유지)\n"
   ]
  },
  {
   "cell_type": "code",
   "execution_count": null,
   "id": "b2b30600-bd73-410d-a170-e09ba6fba6bc",
   "metadata": {},
   "outputs": [],
   "source": []
  },
  {
   "cell_type": "code",
   "execution_count": null,
   "id": "454a1abb-a14a-4fda-9469-aeaca17bfee5",
   "metadata": {},
   "outputs": [],
   "source": []
  },
  {
   "cell_type": "code",
   "execution_count": 1,
   "id": "e3911922-213b-4151-b36e-d61612b0eddc",
   "metadata": {},
   "outputs": [
    {
     "data": {},
     "execution_count": 1,
     "metadata": {},
     "output_type": "execute_result"
    },
    {
     "name": "stdout",
     "output_type": "stream",
     "text": [
      "Hello, Ada!\n"
     ]
    }
   ],
   "source": [
    "interface Person {\n",
    "  firstName: string,\n",
    "  lastName: string\n",
    "}\n",
    "\n",
    "function sayHello(p: Person): string {\n",
    "  return `Hello, ${p.firstName}!`;\n",
    "}\n",
    "\n",
    "const ada: Person = {\n",
    "  firstName: \"Ada\",\n",
    "  lastName: \"Lovelace\"\n",
    "};\n",
    "\n",
    "console.log(sayHello(ada));"
   ]
  },
  {
   "cell_type": "code",
   "execution_count": null,
   "id": "cbcf312a-65fe-4f82-89a2-b46bbbd4b784",
   "metadata": {},
   "outputs": [],
   "source": []
  },
  {
   "cell_type": "code",
   "execution_count": 2,
   "id": "0a36424e-aef5-468b-b3eb-8ec8e150d84b",
   "metadata": {},
   "outputs": [
    {
     "data": {},
     "execution_count": 2,
     "metadata": {},
     "output_type": "execute_result"
    }
   ],
   "source": [
    "const abc1 = {\n",
    "    name: \"가을이\",\n",
    "    \"age-gender\" : 100\n",
    "};"
   ]
  },
  {
   "cell_type": "code",
   "execution_count": 4,
   "id": "02894667-5b7a-4188-9216-7aa50768768e",
   "metadata": {},
   "outputs": [
    {
     "data": {},
     "execution_count": 4,
     "metadata": {},
     "output_type": "execute_result"
    },
    {
     "name": "stdout",
     "output_type": "stream",
     "text": [
      "\u001b[90mundefined\u001b[39m\n"
     ]
    }
   ],
   "source": [
    "console.log(abc1.age)"
   ]
  },
  {
   "cell_type": "code",
   "execution_count": 7,
   "id": "f6261a16-3778-49b8-b002-4745be0fdfbd",
   "metadata": {},
   "outputs": [
    {
     "ename": "ReferenceError",
     "evalue": "gender is not defined",
     "output_type": "error",
     "traceback": [
      "Stack trace:",
      "ReferenceError: gender is not defined",
      "    at <anonymous>:2:24"
     ]
    }
   ],
   "source": [
    "console.log(abc1.age-gender)"
   ]
  },
  {
   "cell_type": "code",
   "execution_count": null,
   "id": "a3221df5-7d6f-42fa-9740-3f94d2b2d12a",
   "metadata": {},
   "outputs": [],
   "source": []
  }
 ],
 "metadata": {
  "kernelspec": {
   "display_name": "Deno",
   "language": "typescript",
   "name": "deno"
  },
  "language_info": {
   "file_extension": ".ts",
   "mimetype": "text/x.typescript",
   "name": "typescript",
   "nb_converter": "script",
   "pygments_lexer": "typescript",
   "version": "5.2.2"
  }
 },
 "nbformat": 4,
 "nbformat_minor": 5
}
