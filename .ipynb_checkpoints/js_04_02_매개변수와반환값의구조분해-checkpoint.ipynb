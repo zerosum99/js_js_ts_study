{
 "cells": [
  {
   "cell_type": "code",
   "execution_count": null,
   "id": "a6cf5815-2114-4a0c-bce0-c62558e5a157",
   "metadata": {},
   "outputs": [],
   "source": []
  },
  {
   "cell_type": "markdown",
   "id": "48d78e75-0ac7-44dd-8461-db3326621b6b",
   "metadata": {},
   "source": [
    "## 1. 함수 매개변수와 함수 반환값의 구조분해 "
   ]
  },
  {
   "cell_type": "code",
   "execution_count": null,
   "id": "14107ea3-bb46-458b-8381-4a2eeaee1f8d",
   "metadata": {},
   "outputs": [],
   "source": []
  },
  {
   "cell_type": "markdown",
   "id": "596ad30e-19d1-4940-8859-1d19346ad5bf",
   "metadata": {},
   "source": [
    "## 1-1  매개변수의 구조분해 "
   ]
  },
  {
   "cell_type": "code",
   "execution_count": 1,
   "id": "a3c30e7e-818c-4add-be87-15f648dc5dde",
   "metadata": {},
   "outputs": [
    {
     "data": {},
     "execution_count": 1,
     "metadata": {},
     "output_type": "execute_result"
    }
   ],
   "source": [
    "type People = { name: string; age: number; };"
   ]
  },
  {
   "cell_type": "code",
   "execution_count": 2,
   "id": "f4613456-cfec-429b-8d2c-940e72fd7b46",
   "metadata": {},
   "outputs": [
    {
     "data": {},
     "execution_count": 2,
     "metadata": {},
     "output_type": "execute_result"
    }
   ],
   "source": [
    "function greet({name, age} : People) {\n",
    "  console.log(`Hello, ${name}! You are ${age} years old.`);\n",
    "}"
   ]
  },
  {
   "cell_type": "code",
   "execution_count": 3,
   "id": "be5d7920-4dd1-46cb-ad94-a2f4183f68dc",
   "metadata": {},
   "outputs": [
    {
     "data": {},
     "execution_count": 3,
     "metadata": {},
     "output_type": "execute_result"
    }
   ],
   "source": [
    "const p1: People = { name: \"John Doe\", age: 30 };"
   ]
  },
  {
   "cell_type": "code",
   "execution_count": 4,
   "id": "df585e1f-d635-4ec7-89bf-cfd2576ce2bd",
   "metadata": {},
   "outputs": [
    {
     "data": {},
     "execution_count": 4,
     "metadata": {},
     "output_type": "execute_result"
    },
    {
     "name": "stdout",
     "output_type": "stream",
     "text": [
      "Hello, John Doe! You are 30 years old.\n"
     ]
    }
   ],
   "source": [
    "greet(p1);"
   ]
  },
  {
   "cell_type": "code",
   "execution_count": null,
   "id": "dc02edc8-2218-4322-869a-3d41ea597d6a",
   "metadata": {},
   "outputs": [],
   "source": []
  },
  {
   "cell_type": "code",
   "execution_count": null,
   "id": "5c1db493-6aa8-4f40-a0e7-168fe3a1bfea",
   "metadata": {},
   "outputs": [],
   "source": []
  },
  {
   "cell_type": "markdown",
   "id": "68a50739-f65a-4aa6-bbe2-6783e962aab1",
   "metadata": {},
   "source": [
    "## 1-2 함수 반환값의 구조분해 "
   ]
  },
  {
   "cell_type": "code",
   "execution_count": 7,
   "id": "d1dd78b1-1f38-4583-a11b-3c76c7c55302",
   "metadata": {},
   "outputs": [
    {
     "data": {},
     "execution_count": 7,
     "metadata": {},
     "output_type": "execute_result"
    }
   ],
   "source": [
    "function getPerson() : People{\n",
    "  return {\n",
    "    name: \"John Doe\",\n",
    "    age: 30,\n",
    "  };\n",
    "}\n"
   ]
  },
  {
   "cell_type": "code",
   "execution_count": 8,
   "id": "0108883e-aab7-41b9-bd22-053b1cfb76a8",
   "metadata": {},
   "outputs": [
    {
     "data": {},
     "execution_count": 8,
     "metadata": {},
     "output_type": "execute_result"
    },
    {
     "name": "stdout",
     "output_type": "stream",
     "text": [
      "John Doe\n",
      "\u001b[33m30\u001b[39m\n"
     ]
    }
   ],
   "source": [
    "const { name, age } = getPerson();\n",
    "\n",
    "console.log(name); // John Doe\n",
    "console.log(age); // 30"
   ]
  },
  {
   "cell_type": "code",
   "execution_count": null,
   "id": "b028b2a6-5a0b-44fe-9785-5d791626832d",
   "metadata": {},
   "outputs": [],
   "source": []
  }
 ],
 "metadata": {
  "kernelspec": {
   "display_name": "Deno",
   "language": "typescript",
   "name": "deno"
  },
  "language_info": {
   "file_extension": ".ts",
   "mimetype": "text/x.typescript",
   "name": "typescript",
   "nb_converter": "script",
   "pygments_lexer": "typescript",
   "version": "5.2.2"
  }
 },
 "nbformat": 4,
 "nbformat_minor": 5
}
