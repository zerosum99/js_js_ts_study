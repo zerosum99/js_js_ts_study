{
 "cells": [
  {
   "cell_type": "code",
   "execution_count": null,
   "id": "533335d5-1fab-4a27-adaf-b7f1b5600fcc",
   "metadata": {},
   "outputs": [],
   "source": []
  },
  {
   "cell_type": "code",
   "execution_count": null,
   "id": "a68d616d-1e2d-421e-b0a2-47e3539a9899",
   "metadata": {},
   "outputs": [],
   "source": []
  },
  {
   "cell_type": "code",
   "execution_count": 1,
   "id": "2defcfeb-9b03-4f3a-8b54-ced59d9c9c81",
   "metadata": {},
   "outputs": [
    {
     "data": {
      "text/plain": [
       "\u001b[33m300\u001b[39m"
      ]
     },
     "execution_count": 1,
     "metadata": {},
     "output_type": "execute_result"
    }
   ],
   "source": [
    "100+200"
   ]
  },
  {
   "cell_type": "code",
   "execution_count": 2,
   "id": "054225cb-7989-4f12-826f-8882442f4f86",
   "metadata": {},
   "outputs": [
    {
     "data": {},
     "execution_count": 2,
     "metadata": {},
     "output_type": "execute_result"
    },
    {
     "name": "stdout",
     "output_type": "stream",
     "text": [
      "\u001b[33mfalse\u001b[39m\n"
     ]
    }
   ],
   "source": [
    "console.log({}.__proto__ === Object.prototype);"
   ]
  },
  {
   "cell_type": "code",
   "execution_count": null,
   "id": "fa283c65-6613-4a39-a8bc-6ba6f6d6dd50",
   "metadata": {},
   "outputs": [],
   "source": []
  },
  {
   "cell_type": "code",
   "execution_count": 3,
   "id": "8ec21910-423c-46d4-b975-3e85695a75a8",
   "metadata": {},
   "outputs": [
    {
     "data": {},
     "execution_count": 3,
     "metadata": {},
     "output_type": "execute_result"
    }
   ],
   "source": [
    "const obj = Object.create(null);"
   ]
  },
  {
   "cell_type": "code",
   "execution_count": 4,
   "id": "f32e6d9c-51d7-41a1-b253-f692a03ad976",
   "metadata": {},
   "outputs": [
    {
     "data": {
      "text/plain": [
       "\u001b[1mnull\u001b[22m"
      ]
     },
     "execution_count": 4,
     "metadata": {},
     "output_type": "execute_result"
    }
   ],
   "source": [
    "Object.getPrototypeOf(obj);"
   ]
  },
  {
   "cell_type": "code",
   "execution_count": 5,
   "id": "12836212-8aab-4b12-9268-cc0092c68bf1",
   "metadata": {},
   "outputs": [
    {
     "data": {},
     "execution_count": 5,
     "metadata": {},
     "output_type": "execute_result"
    }
   ],
   "source": [
    "obj.__proto__"
   ]
  },
  {
   "cell_type": "code",
   "execution_count": 6,
   "id": "6c2854ff-0a5b-47dd-85b7-c3dda1cfbfd9",
   "metadata": {},
   "outputs": [
    {
     "data": {},
     "execution_count": 6,
     "metadata": {},
     "output_type": "execute_result"
    }
   ],
   "source": [
    "const parent = {x : 1};"
   ]
  },
  {
   "cell_type": "code",
   "execution_count": 7,
   "id": "4b4a947d-65ae-49f4-bd6c-69b3987fc35c",
   "metadata": {},
   "outputs": [
    {
     "data": {
      "text/plain": [
       "{}"
      ]
     },
     "execution_count": 7,
     "metadata": {},
     "output_type": "execute_result"
    }
   ],
   "source": [
    "Object.setPrototypeOf(obj, parent);"
   ]
  },
  {
   "cell_type": "code",
   "execution_count": 8,
   "id": "30d7699d-1e07-4cc8-babc-0f8badd07c97",
   "metadata": {},
   "outputs": [
    {
     "data": {
      "text/plain": [
       "\u001b[33m1\u001b[39m"
      ]
     },
     "execution_count": 8,
     "metadata": {},
     "output_type": "execute_result"
    }
   ],
   "source": [
    "obj.x"
   ]
  },
  {
   "cell_type": "code",
   "execution_count": 9,
   "id": "60abed64-4313-43c3-ac0a-b33e4c4d7ceb",
   "metadata": {},
   "outputs": [
    {
     "data": {
      "text/plain": [
       "{ x: \u001b[33m1\u001b[39m }"
      ]
     },
     "execution_count": 9,
     "metadata": {},
     "output_type": "execute_result"
    }
   ],
   "source": [
    "Object.getPrototypeOf(obj);"
   ]
  },
  {
   "cell_type": "code",
   "execution_count": 11,
   "id": "ed7fb223-262a-44b7-8144-52c552ed2204",
   "metadata": {},
   "outputs": [
    {
     "data": {
      "text/plain": [
       "\u001b[33mtrue\u001b[39m"
      ]
     },
     "execution_count": 11,
     "metadata": {},
     "output_type": "execute_result"
    }
   ],
   "source": [
    "Object.getPrototypeOf(obj) === parent;"
   ]
  },
  {
   "cell_type": "code",
   "execution_count": null,
   "id": "f6bbd889-ec3e-4051-865d-ac2f17899bab",
   "metadata": {},
   "outputs": [],
   "source": []
  }
 ],
 "metadata": {
  "kernelspec": {
   "display_name": "Deno",
   "language": "typescript",
   "name": "deno"
  },
  "language_info": {
   "file_extension": ".ts",
   "mimetype": "text/x.typescript",
   "name": "typescript",
   "nb_converter": "script",
   "pygments_lexer": "typescript",
   "version": "5.2.2"
  }
 },
 "nbformat": 4,
 "nbformat_minor": 5
}
