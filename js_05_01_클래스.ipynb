{
 "cells": [
  {
   "cell_type": "code",
   "execution_count": null,
   "id": "b34618ad-db00-46c3-95b7-836473b3c3a3",
   "metadata": {},
   "outputs": [],
   "source": []
  },
  {
   "cell_type": "code",
   "execution_count": null,
   "id": "a794d3d0-b8c4-423e-a51f-8fb306557cb0",
   "metadata": {},
   "outputs": [],
   "source": []
  },
  {
   "cell_type": "code",
   "execution_count": 11,
   "id": "71fa0e3b-823f-4916-97f4-d9403eaf9c5f",
   "metadata": {},
   "outputs": [
    {
     "data": {},
     "execution_count": 11,
     "metadata": {},
     "output_type": "execute_result"
    }
   ],
   "source": [
    "class Person {\n",
    "    constructor(name, age) {\n",
    "        this.name = name;\n",
    "        this.age = age;\n",
    "    }\n",
    "\n",
    "    sayHello() {\n",
    "        console.log(`Hello, my name is ${this.name} and I'm ${this.age} years old.`);\n",
    "    }\n",
    "}\n"
   ]
  },
  {
   "cell_type": "code",
   "execution_count": 12,
   "id": "d560dead-c591-4800-9f57-42ba37b419a9",
   "metadata": {},
   "outputs": [
    {
     "data": {},
     "execution_count": 12,
     "metadata": {},
     "output_type": "execute_result"
    }
   ],
   "source": [
    "const p = new Person(\"겨울이\",33);"
   ]
  },
  {
   "cell_type": "code",
   "execution_count": 13,
   "id": "fe9ecd2e-3587-4908-872f-611bf905fa92",
   "metadata": {},
   "outputs": [
    {
     "data": {},
     "execution_count": 13,
     "metadata": {},
     "output_type": "execute_result"
    },
    {
     "name": "stdout",
     "output_type": "stream",
     "text": [
      "Hello, my name is 겨울이 and I'm 33 years old.\n"
     ]
    }
   ],
   "source": [
    "p.sayHello();"
   ]
  },
  {
   "cell_type": "code",
   "execution_count": null,
   "id": "97fcbc31-72aa-4887-a1c4-89286ff68359",
   "metadata": {},
   "outputs": [],
   "source": []
  },
  {
   "cell_type": "code",
   "execution_count": null,
   "id": "7e374455-4d39-4cfc-9201-d5e50d213af9",
   "metadata": {},
   "outputs": [],
   "source": []
  },
  {
   "cell_type": "code",
   "execution_count": 5,
   "id": "3b906270-ce83-40a9-a23a-b2f4d459aa03",
   "metadata": {},
   "outputs": [
    {
     "data": {},
     "execution_count": 5,
     "metadata": {},
     "output_type": "execute_result"
    }
   ],
   "source": [
    "const person1 = new Person(\"Alice\", 30);\n",
    "const person2 = new Person(\"Bob\", 25);"
   ]
  },
  {
   "cell_type": "code",
   "execution_count": 6,
   "id": "4fc88e26-90db-4833-9b4a-1bf99677f723",
   "metadata": {},
   "outputs": [
    {
     "data": {},
     "execution_count": 6,
     "metadata": {},
     "output_type": "execute_result"
    },
    {
     "name": "stdout",
     "output_type": "stream",
     "text": [
      "Hello, my name is Alice and I'm 30 years old.\n",
      "Hello, my name is Bob and I'm 25 years old.\n"
     ]
    }
   ],
   "source": [
    "person1.sayHello(); \n",
    "person2.sayHello();"
   ]
  },
  {
   "cell_type": "code",
   "execution_count": null,
   "id": "74aef277-5927-4bb2-8273-5cb1cd1e155a",
   "metadata": {},
   "outputs": [],
   "source": []
  },
  {
   "cell_type": "markdown",
   "id": "22268db1-d7e9-4c01-9569-a7239dab4c44",
   "metadata": {},
   "source": [
    "## 상속 "
   ]
  },
  {
   "cell_type": "code",
   "execution_count": 7,
   "id": "ccb2d093-2ef9-4132-b15e-c996677b2d7b",
   "metadata": {},
   "outputs": [
    {
     "data": {},
     "execution_count": 7,
     "metadata": {},
     "output_type": "execute_result"
    }
   ],
   "source": [
    "class Student extends Person {\n",
    "    constructor(name, age, grade) {\n",
    "        super(name, age); // 부모 클래스의 생성자 호출\n",
    "        this.grade = grade;\n",
    "    }\n",
    "\n",
    "    study() {\n",
    "        console.log(`${this.name} is studying in grade ${this.grade}.`);\n",
    "    }\n",
    "}"
   ]
  },
  {
   "cell_type": "code",
   "execution_count": null,
   "id": "b408a4a2-c62b-499e-b014-cacf12f42566",
   "metadata": {},
   "outputs": [],
   "source": []
  },
  {
   "cell_type": "code",
   "execution_count": 8,
   "id": "ed8fc95a-4100-43dd-804b-bac72938dc8b",
   "metadata": {},
   "outputs": [
    {
     "data": {},
     "execution_count": 8,
     "metadata": {},
     "output_type": "execute_result"
    }
   ],
   "source": [
    "const student1 = new Student(\"Eve\", 18, 12);"
   ]
  },
  {
   "cell_type": "code",
   "execution_count": null,
   "id": "71f9c1b8-a178-4a2f-8ba0-e3fbaac95f52",
   "metadata": {},
   "outputs": [],
   "source": []
  },
  {
   "cell_type": "code",
   "execution_count": 9,
   "id": "b82ef926-98b0-4963-bd8e-13e847748ef7",
   "metadata": {},
   "outputs": [
    {
     "data": {},
     "execution_count": 9,
     "metadata": {},
     "output_type": "execute_result"
    },
    {
     "name": "stdout",
     "output_type": "stream",
     "text": [
      "Hello, my name is Eve and I'm 18 years old.\n"
     ]
    }
   ],
   "source": [
    "student1.sayHello();"
   ]
  },
  {
   "cell_type": "code",
   "execution_count": 10,
   "id": "8f1b7b46-13b3-48fe-af66-dcaa6153dfd1",
   "metadata": {},
   "outputs": [
    {
     "data": {},
     "execution_count": 10,
     "metadata": {},
     "output_type": "execute_result"
    },
    {
     "name": "stdout",
     "output_type": "stream",
     "text": [
      "Eve is studying in grade 12.\n"
     ]
    }
   ],
   "source": [
    "student1.study();"
   ]
  },
  {
   "cell_type": "code",
   "execution_count": null,
   "id": "59bfbe6c-12b4-4fd3-a43a-b343c2ce0444",
   "metadata": {},
   "outputs": [],
   "source": []
  }
 ],
 "metadata": {
  "kernelspec": {
   "display_name": "Deno",
   "language": "typescript",
   "name": "deno"
  },
  "language_info": {
   "file_extension": ".ts",
   "mimetype": "text/x.typescript",
   "name": "typescript",
   "nb_converter": "script",
   "pygments_lexer": "typescript",
   "version": "5.2.2"
  }
 },
 "nbformat": 4,
 "nbformat_minor": 5
}
