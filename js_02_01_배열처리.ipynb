{
 "cells": [
  {
   "cell_type": "code",
   "execution_count": 4,
   "id": "0a864cbc-c81a-4121-8984-e303b1fb9d59",
   "metadata": {},
   "outputs": [
    {
     "data": {
      "text/plain": [
       "[ \u001b[32m\"length\"\u001b[39m, \u001b[32m\"name\"\u001b[39m, \u001b[32m\"prototype\"\u001b[39m, \u001b[32m\"isArray\"\u001b[39m, \u001b[32m\"from\"\u001b[39m, \u001b[32m\"of\"\u001b[39m ]"
      ]
     },
     "execution_count": 4,
     "metadata": {},
     "output_type": "execute_result"
    }
   ],
   "source": [
    "Object.getOwnPropertyNames(Array);"
   ]
  },
  {
   "cell_type": "code",
   "execution_count": 1,
   "id": "77c62df9-ac2c-4be5-af91-9bb5a4ec2127",
   "metadata": {},
   "outputs": [
    {
     "data": {
      "text/plain": [
       "[\n",
       "  \u001b[32m\"length\"\u001b[39m,        \u001b[32m\"constructor\"\u001b[39m,    \u001b[32m\"at\"\u001b[39m,\n",
       "  \u001b[32m\"concat\"\u001b[39m,        \u001b[32m\"copyWithin\"\u001b[39m,     \u001b[32m\"fill\"\u001b[39m,\n",
       "  \u001b[32m\"find\"\u001b[39m,          \u001b[32m\"findIndex\"\u001b[39m,      \u001b[32m\"findLast\"\u001b[39m,\n",
       "  \u001b[32m\"findLastIndex\"\u001b[39m, \u001b[32m\"lastIndexOf\"\u001b[39m,    \u001b[32m\"pop\"\u001b[39m,\n",
       "  \u001b[32m\"push\"\u001b[39m,          \u001b[32m\"reverse\"\u001b[39m,        \u001b[32m\"shift\"\u001b[39m,\n",
       "  \u001b[32m\"unshift\"\u001b[39m,       \u001b[32m\"slice\"\u001b[39m,          \u001b[32m\"sort\"\u001b[39m,\n",
       "  \u001b[32m\"splice\"\u001b[39m,        \u001b[32m\"includes\"\u001b[39m,       \u001b[32m\"indexOf\"\u001b[39m,\n",
       "  \u001b[32m\"join\"\u001b[39m,          \u001b[32m\"keys\"\u001b[39m,           \u001b[32m\"entries\"\u001b[39m,\n",
       "  \u001b[32m\"values\"\u001b[39m,        \u001b[32m\"forEach\"\u001b[39m,        \u001b[32m\"filter\"\u001b[39m,\n",
       "  \u001b[32m\"flat\"\u001b[39m,          \u001b[32m\"flatMap\"\u001b[39m,        \u001b[32m\"map\"\u001b[39m,\n",
       "  \u001b[32m\"every\"\u001b[39m,         \u001b[32m\"some\"\u001b[39m,           \u001b[32m\"reduce\"\u001b[39m,\n",
       "  \u001b[32m\"reduceRight\"\u001b[39m,   \u001b[32m\"toLocaleString\"\u001b[39m, \u001b[32m\"toString\"\u001b[39m,\n",
       "  \u001b[32m\"toReversed\"\u001b[39m,    \u001b[32m\"toSorted\"\u001b[39m,       \u001b[32m\"toSpliced\"\u001b[39m,\n",
       "  \u001b[32m\"with\"\u001b[39m\n",
       "]"
      ]
     },
     "execution_count": 1,
     "metadata": {},
     "output_type": "execute_result"
    }
   ],
   "source": [
    "Object.getOwnPropertyNames(Array.prototype);"
   ]
  },
  {
   "cell_type": "code",
   "execution_count": null,
   "id": "3d235321-d79b-4af2-8e9e-e87ec1159d04",
   "metadata": {},
   "outputs": [],
   "source": []
  },
  {
   "cell_type": "code",
   "execution_count": 2,
   "id": "9b5d5e7b-0c8d-415d-9a47-41e32511b40f",
   "metadata": {},
   "outputs": [
    {
     "data": {},
     "execution_count": 2,
     "metadata": {},
     "output_type": "execute_result"
    }
   ],
   "source": [
    "const array = Array.prototype.slice.call([1,2,3,4])"
   ]
  },
  {
   "cell_type": "code",
   "execution_count": 3,
   "id": "bc9a9cfb-7fd3-4fc7-ad42-ca4ca7c78c5a",
   "metadata": {},
   "outputs": [
    {
     "data": {
      "text/plain": [
       "[ \u001b[33m1\u001b[39m, \u001b[33m2\u001b[39m, \u001b[33m3\u001b[39m, \u001b[33m4\u001b[39m ]"
      ]
     },
     "execution_count": 3,
     "metadata": {},
     "output_type": "execute_result"
    }
   ],
   "source": [
    "array"
   ]
  },
  {
   "cell_type": "code",
   "execution_count": 11,
   "id": "a711eb8a-fc74-400b-b29e-847c0dc19c85",
   "metadata": {},
   "outputs": [
    {
     "data": {},
     "execution_count": 11,
     "metadata": {},
     "output_type": "execute_result"
    },
    {
     "name": "stdout",
     "output_type": "stream",
     "text": [
      "Object(0) []\n"
     ]
    }
   ],
   "source": [
    "console.dir(Array.prototype);"
   ]
  },
  {
   "cell_type": "code",
   "execution_count": null,
   "id": "b08a27ef-97d4-410b-8fc1-d3bb3a307779",
   "metadata": {},
   "outputs": [],
   "source": []
  },
  {
   "cell_type": "code",
   "execution_count": null,
   "id": "805b7b3c-d937-4ef7-812d-8bc494227d2c",
   "metadata": {},
   "outputs": [],
   "source": []
  },
  {
   "cell_type": "code",
   "execution_count": 12,
   "id": "78c593f4-e1aa-487a-a32b-df914620035f",
   "metadata": {},
   "outputs": [
    {
     "data": {},
     "execution_count": 12,
     "metadata": {},
     "output_type": "execute_result"
    }
   ],
   "source": [
    "function sum(...args) {\n",
    "    return args.reduce((pre, cur) => pre + cur, 0);\n",
    "}"
   ]
  },
  {
   "cell_type": "code",
   "execution_count": 13,
   "id": "061970bf-0cbe-419b-b903-47eab8fcbcaf",
   "metadata": {},
   "outputs": [
    {
     "data": {
      "text/plain": [
       "\u001b[33m4\u001b[39m"
      ]
     },
     "execution_count": 13,
     "metadata": {},
     "output_type": "execute_result"
    }
   ],
   "source": [
    "sum(1,3);"
   ]
  },
  {
   "cell_type": "code",
   "execution_count": 14,
   "id": "242406f2-1367-4c30-b850-4cf7dd512e91",
   "metadata": {},
   "outputs": [
    {
     "data": {
      "text/plain": [
       "\u001b[33m45\u001b[39m"
      ]
     },
     "execution_count": 14,
     "metadata": {},
     "output_type": "execute_result"
    }
   ],
   "source": [
    "sum(1,2,3,4,5,6,7,8,9)"
   ]
  },
  {
   "cell_type": "code",
   "execution_count": null,
   "id": "5f5e402b-7145-4edf-9322-d9df88dda953",
   "metadata": {},
   "outputs": [],
   "source": []
  },
  {
   "cell_type": "code",
   "execution_count": 15,
   "id": "de680a7b-dd5c-4e8b-bc1c-74a500e754b3",
   "metadata": {},
   "outputs": [
    {
     "data": {},
     "execution_count": 15,
     "metadata": {},
     "output_type": "execute_result"
    }
   ],
   "source": [
    "function foo(func) {\n",
    "    return func();\n",
    "}"
   ]
  },
  {
   "cell_type": "code",
   "execution_count": 16,
   "id": "67c0c019-1105-438e-b6a3-fce306b32db5",
   "metadata": {},
   "outputs": [
    {
     "data": {},
     "execution_count": 16,
     "metadata": {},
     "output_type": "execute_result"
    }
   ],
   "source": [
    "function bar() {\n",
    "    return 'caller : ' + bar.caller;\n",
    "}"
   ]
  },
  {
   "cell_type": "code",
   "execution_count": 17,
   "id": "3ca77b95-70e0-49ad-a0db-6f2d34d3a303",
   "metadata": {},
   "outputs": [
    {
     "ename": "TypeError",
     "evalue": "'caller', 'callee', and 'arguments' properties may not be accessed on strict mode functions or the arguments objects for calls to them",
     "output_type": "error",
     "traceback": [
      "Stack trace:",
      "TypeError: 'caller', 'callee', and 'arguments' properties may not be accessed on strict mode functions or the arguments objects for calls to them",
      "    at bar (<anonymous>:3:28)",
      "    at foo (<anonymous>:3:10)",
      "    at <anonymous>:2:1"
     ]
    }
   ],
   "source": [
    "foo(bar);"
   ]
  },
  {
   "cell_type": "code",
   "execution_count": null,
   "id": "3ce5abd3-0f1e-401a-911b-a65d973e4765",
   "metadata": {},
   "outputs": [],
   "source": []
  },
  {
   "cell_type": "code",
   "execution_count": 1,
   "id": "556c2984-53b3-4140-bee9-fb3b0d370ffc",
   "metadata": {},
   "outputs": [
    {
     "data": {},
     "execution_count": 1,
     "metadata": {},
     "output_type": "execute_result"
    }
   ],
   "source": [
    "const age : number = 100;"
   ]
  },
  {
   "cell_type": "code",
   "execution_count": 2,
   "id": "e8e38a94-d808-404d-828e-4612c4d40eed",
   "metadata": {},
   "outputs": [
    {
     "data": {
      "text/plain": [
       "\u001b[32m\"number\"\u001b[39m"
      ]
     },
     "execution_count": 2,
     "metadata": {},
     "output_type": "execute_result"
    }
   ],
   "source": [
    "typeof age"
   ]
  },
  {
   "cell_type": "code",
   "execution_count": 3,
   "id": "491fe057-cc16-49e0-9837-1f7a437fa958",
   "metadata": {},
   "outputs": [
    {
     "data": {},
     "execution_count": 3,
     "metadata": {},
     "output_type": "execute_result"
    }
   ],
   "source": [
    "type Age = typeof age;"
   ]
  },
  {
   "cell_type": "code",
   "execution_count": 4,
   "id": "3b5338e9-6a92-47aa-b47a-248b5b47f7e2",
   "metadata": {},
   "outputs": [
    {
     "data": {},
     "execution_count": 4,
     "metadata": {},
     "output_type": "execute_result"
    }
   ],
   "source": [
    "const aaa : Age = 100;"
   ]
  },
  {
   "cell_type": "code",
   "execution_count": null,
   "id": "9e3b778e-6975-45e5-91c6-09fe324fc7b5",
   "metadata": {},
   "outputs": [],
   "source": []
  }
 ],
 "metadata": {
  "kernelspec": {
   "display_name": "Deno",
   "language": "typescript",
   "name": "deno"
  },
  "language_info": {
   "file_extension": ".ts",
   "mimetype": "text/x.typescript",
   "name": "typescript",
   "nb_converter": "script",
   "pygments_lexer": "typescript",
   "version": "5.2.2"
  }
 },
 "nbformat": 4,
 "nbformat_minor": 5
}
