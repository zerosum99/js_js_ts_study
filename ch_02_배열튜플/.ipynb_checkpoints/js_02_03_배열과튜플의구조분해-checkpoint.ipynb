{
 "cells": [
  {
   "cell_type": "code",
   "execution_count": null,
   "id": "61d4e632-ebef-4d8f-907f-e87a3b9c7f19",
   "metadata": {},
   "outputs": [],
   "source": []
  },
  {
   "cell_type": "markdown",
   "id": "f11c5799-f5a3-4dba-bfc4-90b2e45b8ba5",
   "metadata": {},
   "source": [
    "## 1. 배열과 튜플의 구조분해 "
   ]
  },
  {
   "cell_type": "markdown",
   "id": "285b7a1e-15fb-4c98-8aac-ae1feda72b08",
   "metadata": {},
   "source": [
    "## 1-1. 배열의 구조분해"
   ]
  },
  {
   "cell_type": "markdown",
   "id": "b8a44ddc-05e7-4e86-a520-37cb194734dd",
   "metadata": {},
   "source": [
    "## 배열의 구조분해 "
   ]
  },
  {
   "cell_type": "code",
   "execution_count": 2,
   "id": "3b31743b-b373-4414-87cd-8f327fddb6aa",
   "metadata": {},
   "outputs": [
    {
     "data": {},
     "execution_count": 2,
     "metadata": {},
     "output_type": "execute_result"
    },
    {
     "name": "stdout",
     "output_type": "stream",
     "text": [
      "\u001b[33m1\u001b[39m\n",
      "\u001b[33m2\u001b[39m\n",
      "[ \u001b[33m3\u001b[39m, \u001b[33m4\u001b[39m, \u001b[33m5\u001b[39m ]\n"
     ]
    }
   ],
   "source": [
    "const numbers: number[] = [1, 2, 3, 4, 5];\n",
    "\n",
    "// 배열의 구조분해\n",
    "const [first, second, ...rest] = numbers;\n",
    "\n",
    "console.log(first); // 1\n",
    "console.log(second); // 2\n",
    "console.log(rest); // [3, 4, 5]\n"
   ]
  },
  {
   "cell_type": "markdown",
   "id": "3e1426ec-e153-4f27-bad5-e6ce11b1d481",
   "metadata": {},
   "source": [
    "## 특정 부분 사용하지 않기 "
   ]
  },
  {
   "cell_type": "code",
   "execution_count": null,
   "id": "f5d8667b-fdee-4cbe-8916-8a5dc4c9f6a4",
   "metadata": {},
   "outputs": [],
   "source": [
    "const [one, , three] = numbers;\n",
    "\n",
    "console.log(one); // 1\n",
    "console.log(three); // 3\n"
   ]
  },
  {
   "cell_type": "code",
   "execution_count": null,
   "id": "fbf982b7-835f-4c66-8145-18c2f002d59b",
   "metadata": {},
   "outputs": [],
   "source": []
  },
  {
   "cell_type": "markdown",
   "id": "2824e702-71fb-4350-872c-c306555f73de",
   "metadata": {},
   "source": [
    "## 1-2 튜플의 구조 분해 "
   ]
  },
  {
   "cell_type": "markdown",
   "id": "bc4d3538-6ba1-4912-a002-c5ce1ce16186",
   "metadata": {},
   "source": [
    "## 튜플의 구조분해"
   ]
  },
  {
   "cell_type": "code",
   "execution_count": 3,
   "id": "49f43176-4bc6-4729-aa14-42ff048b4bb1",
   "metadata": {},
   "outputs": [
    {
     "data": {},
     "execution_count": 3,
     "metadata": {},
     "output_type": "execute_result"
    },
    {
     "name": "stdout",
     "output_type": "stream",
     "text": [
      "Hello\n",
      "\u001b[33m42\u001b[39m\n",
      "\u001b[33mtrue\u001b[39m\n"
     ]
    }
   ],
   "source": [
    "const tuple: [string, number, boolean] = [\"Hello\", 42, true];\n",
    "\n",
    "// 튜플의 구조분해\n",
    "const [str, num, bool] = tuple;\n",
    "\n",
    "console.log(str); // \"Hello\"\n",
    "console.log(num); // 42\n",
    "console.log(bool); // true\n"
   ]
  },
  {
   "cell_type": "code",
   "execution_count": null,
   "id": "8c96d87a-37ff-4d94-a4ca-56bd6458ce4c",
   "metadata": {},
   "outputs": [],
   "source": []
  },
  {
   "cell_type": "markdown",
   "id": "9380123d-e41e-4b36-bdd4-8cc2ebba96d6",
   "metadata": {},
   "source": [
    "## 특정 요소 사용하지 않기 "
   ]
  },
  {
   "cell_type": "code",
   "execution_count": 4,
   "id": "fb66bbda-cdd0-4928-b7dc-d8f4c527061a",
   "metadata": {},
   "outputs": [
    {
     "data": {},
     "execution_count": 4,
     "metadata": {},
     "output_type": "execute_result"
    },
    {
     "name": "stdout",
     "output_type": "stream",
     "text": [
      "Hello\n",
      "\u001b[33mtrue\u001b[39m\n"
     ]
    }
   ],
   "source": [
    "const tuple: [string, number, boolean] = [\"Hello\", 42, true];\n",
    "\n",
    "// 튜플의 일부 요소 구조분해\n",
    "const [str, , bool] = tuple;\n",
    "\n",
    "console.log(str); // \"Hello\"\n",
    "console.log(bool); // true\n"
   ]
  },
  {
   "cell_type": "markdown",
   "id": "50660104-afd4-4cd1-9484-a6d8e6df83b6",
   "metadata": {},
   "source": [
    "## 나머지 연산자로 처리하기 "
   ]
  },
  {
   "cell_type": "code",
   "execution_count": 5,
   "id": "822bdcb8-8c77-4c03-89ae-d2b680c96664",
   "metadata": {},
   "outputs": [
    {
     "data": {},
     "execution_count": 5,
     "metadata": {},
     "output_type": "execute_result"
    }
   ],
   "source": [
    "// 튜플의 일부 요소 구조분해\n",
    "const [str2, ...bool1] = tuple;"
   ]
  },
  {
   "cell_type": "code",
   "execution_count": 6,
   "id": "527b43a8-28ab-4d05-a5cb-d252bfc131b7",
   "metadata": {},
   "outputs": [
    {
     "data": {},
     "execution_count": 6,
     "metadata": {},
     "output_type": "execute_result"
    },
    {
     "name": "stdout",
     "output_type": "stream",
     "text": [
      "Hello\n",
      "[ \u001b[33m42\u001b[39m, \u001b[33mtrue\u001b[39m ]\n"
     ]
    }
   ],
   "source": [
    "console.log(str2); \n",
    "console.log(bool1); "
   ]
  },
  {
   "cell_type": "code",
   "execution_count": null,
   "id": "398a4cce-309d-4121-81d6-7899f261fd75",
   "metadata": {},
   "outputs": [],
   "source": []
  }
 ],
 "metadata": {
  "kernelspec": {
   "display_name": "Deno",
   "language": "typescript",
   "name": "deno"
  },
  "language_info": {
   "file_extension": ".ts",
   "mimetype": "text/x.typescript",
   "name": "typescript",
   "nb_converter": "script",
   "pygments_lexer": "typescript",
   "version": "5.2.2"
  }
 },
 "nbformat": 4,
 "nbformat_minor": 5
}
