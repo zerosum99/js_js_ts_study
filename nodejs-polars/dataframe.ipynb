{
 "cells": [
  {
   "cell_type": "code",
   "execution_count": null,
   "id": "03adb325-22c8-4939-b016-98818472ec05",
   "metadata": {},
   "outputs": [],
   "source": []
  },
  {
   "cell_type": "code",
   "execution_count": null,
   "id": "dc402b77-10fe-4818-99c9-4359b80a8c01",
   "metadata": {},
   "outputs": [],
   "source": []
  },
  {
   "cell_type": "code",
   "execution_count": 1,
   "id": "2d1e97b2-349d-4a5c-959e-4d989e57f6da",
   "metadata": {},
   "outputs": [
    {
     "data": {},
     "execution_count": 1,
     "metadata": {},
     "output_type": "execute_result"
    }
   ],
   "source": [
    "import pl from 'npm:nodejs-polars';\n",
    "let df = pl.DataFrame({\n",
    "  integer: [1, 2, 3, 4, 5],\n",
    "  date: [\n",
    "    new Date(2022, 1, 1, 0, 0),\n",
    "    new Date(2022, 1, 2, 0, 0),\n",
    "    new Date(2022, 1, 3, 0, 0),\n",
    "    new Date(2022, 1, 4, 0, 0),\n",
    "    new Date(2022, 1, 5, 0, 0),\n",
    "  ],\n",
    "  float: [4.0, 5.0, 6.0, 7.0, 8.0],\n",
    "});"
   ]
  },
  {
   "cell_type": "code",
   "execution_count": 2,
   "id": "340d8950-e734-428a-85f7-d24adc6dc031",
   "metadata": {},
   "outputs": [
    {
     "data": {
      "text/plain": [
       "Object [DataFrame] {\n",
       "  integer: shape: (5,)\n",
       "  Series: 'integer' [f64]\n",
       "  [\n",
       "  \t1.0\n",
       "  \t2.0\n",
       "  \t3.0\n",
       "  \t4.0\n",
       "  \t5.0\n",
       "  ],\n",
       "  date: shape: (5,)\n",
       "  Series: 'date' [datetime[ms]]\n",
       "  [\n",
       "  \t2022-01-31 15:00:00\n",
       "  \t2022-02-01 15:00:00\n",
       "  \t2022-02-02 15:00:00\n",
       "  \t2022-02-03 15:00:00\n",
       "  \t2022-02-04 15:00:00\n",
       "  ],\n",
       "  float: shape: (5,)\n",
       "  Series: 'float' [f64]\n",
       "  [\n",
       "  \t4.0\n",
       "  \t5.0\n",
       "  \t6.0\n",
       "  \t7.0\n",
       "  \t8.0\n",
       "  ]\n",
       "}"
      ]
     },
     "execution_count": 2,
     "metadata": {},
     "output_type": "execute_result"
    }
   ],
   "source": [
    "df"
   ]
  },
  {
   "cell_type": "code",
   "execution_count": 3,
   "id": "b1645843-981f-4e0e-8585-137f8d76af3d",
   "metadata": {},
   "outputs": [
    {
     "ename": "{\"code\":-32000,\"message\":\"Promise was collected\"}",
     "evalue": " ",
     "output_type": "error",
     "traceback": []
    },
    {
     "name": "stdout",
     "output_type": "stream",
     "text": [
      "Object [DataFrame] {\n",
      "  integer: shape: (5,)\n",
      "  Series: 'integer' [f64]\n",
      "  [\n",
      "  \t1.0\n",
      "  \t2.0\n",
      "  \t3.0\n",
      "  \t4.0\n",
      "  \t5.0\n",
      "  ],\n",
      "  date: shape: (5,)\n",
      "  Series: 'date' [datetime[ms]]\n",
      "  [\n",
      "  \t2022-01-31 15:00:00\n",
      "  \t2022-02-01 15:00:00\n",
      "  \t2022-02-02 15:00:00\n",
      "  \t2022-02-03 15:00:00\n",
      "  \t2022-02-04 15:00:00\n",
      "  ],\n",
      "  float: shape: (5,)\n",
      "  Series: 'float' [f64]\n",
      "  [\n",
      "  \t4.0\n",
      "  \t5.0\n",
      "  \t6.0\n",
      "  \t7.0\n",
      "  \t8.0\n",
      "  ]\n",
      "}\n"
     ]
    }
   ],
   "source": [
    "console.log(df);"
   ]
  },
  {
   "cell_type": "code",
   "execution_count": null,
   "id": "145919ba-a94c-42c3-ac9b-e0a4ffd9c36b",
   "metadata": {},
   "outputs": [],
   "source": []
  }
 ],
 "metadata": {
  "kernelspec": {
   "display_name": "Deno",
   "language": "typescript",
   "name": "deno"
  },
  "language_info": {
   "file_extension": ".ts",
   "mimetype": "text/x.typescript",
   "name": "typescript",
   "nb_converter": "script",
   "pygments_lexer": "typescript",
   "version": "5.2.2"
  }
 },
 "nbformat": 4,
 "nbformat_minor": 5
}
