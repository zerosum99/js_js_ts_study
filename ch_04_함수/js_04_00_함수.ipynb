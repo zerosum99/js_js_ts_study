{
 "cells": [
  {
   "cell_type": "code",
   "execution_count": null,
   "id": "6310e824-1c12-4f84-ba62-44750ed2e080",
   "metadata": {},
   "outputs": [],
   "source": []
  },
  {
   "cell_type": "code",
   "execution_count": null,
   "id": "9d5d00aa-2f4c-439a-87ac-a3f3ab7d94a5",
   "metadata": {},
   "outputs": [],
   "source": []
  },
  {
   "cell_type": "markdown",
   "id": "a69707d3-e2ad-410e-afa9-e822d1fc83f5",
   "metadata": {},
   "source": [
    "## 1. 함수 정의\n",
    "\n",
    "- function 예약어 + 함수명 + (매개변수:자료형) : 반환타입 { 본문 }\n",
    "- 본문 내부에 반환값은 return으로 처리 "
   ]
  },
  {
   "cell_type": "markdown",
   "id": "24a2baae-7e28-44d7-8d7d-0824e8de9b58",
   "metadata": {},
   "source": [
    "## 함수 정의 "
   ]
  },
  {
   "cell_type": "code",
   "execution_count": 5,
   "id": "234ebb18-b174-478e-8b73-05a0a99fca4e",
   "metadata": {},
   "outputs": [
    {
     "data": {},
     "execution_count": 5,
     "metadata": {},
     "output_type": "execute_result"
    }
   ],
   "source": [
    "function add(x:number, y:number) : number {\n",
    "    return x+y;\n",
    "}"
   ]
  },
  {
   "cell_type": "markdown",
   "id": "c8f49b21-4395-4ea3-9855-2e15fad3a0bc",
   "metadata": {},
   "source": [
    "## 함수 호출 \n",
    "- 함수명(인자);\n"
   ]
  },
  {
   "cell_type": "code",
   "execution_count": 6,
   "id": "4783eea2-c55f-49b1-9a6f-40a319a02586",
   "metadata": {},
   "outputs": [
    {
     "data": {
      "text/plain": [
       "\u001b[33m300\u001b[39m"
      ]
     },
     "execution_count": 6,
     "metadata": {},
     "output_type": "execute_result"
    }
   ],
   "source": [
    "add(100,200);"
   ]
  },
  {
   "cell_type": "code",
   "execution_count": null,
   "id": "beee8aea-7405-4759-8c25-092f4115900e",
   "metadata": {},
   "outputs": [],
   "source": []
  },
  {
   "cell_type": "code",
   "execution_count": null,
   "id": "b51ecdda-37c0-4342-abb4-8aeec9bd3784",
   "metadata": {},
   "outputs": [],
   "source": []
  },
  {
   "cell_type": "code",
   "execution_count": null,
   "id": "1f2862fa-b054-4256-9dc3-5f4cc4483e23",
   "metadata": {},
   "outputs": [],
   "source": []
  },
  {
   "cell_type": "markdown",
   "id": "c39ce697-6b0a-4d1c-aeca-fd4d6156d921",
   "metadata": {},
   "source": [
    "## 2 함수 표현식 \n",
    "\n",
    "- 함수정의와 같지만 = 연산자 우측에 지정해서 변수에 저장\n",
    "- 함수정의와 차이점은 함수명으로 호출이 불가"
   ]
  },
  {
   "cell_type": "markdown",
   "id": "454f63e7-dbcc-42d3-8ceb-7f736db1210f",
   "metadata": {},
   "source": [
    "## 즉시 실행하기 \n",
    "\n",
    "-  함수표현식을 바로 정의하고 호출해서 처리하기 "
   ]
  },
  {
   "cell_type": "code",
   "execution_count": 1,
   "id": "1d834521-fde4-43c3-9a24-9837b93febf8",
   "metadata": {},
   "outputs": [
    {
     "data": {
      "text/plain": [
       "\u001b[33m60000\u001b[39m"
      ]
     },
     "execution_count": 1,
     "metadata": {},
     "output_type": "execute_result"
    }
   ],
   "source": [
    "(function mul(x:number, y:number) : number {\n",
    "                return x*y;\n",
    "})(200,300);"
   ]
  },
  {
   "cell_type": "markdown",
   "id": "03c97075-bb0b-456d-9c5f-68b665d3b70c",
   "metadata": {},
   "source": [
    "## 함수표현식을 변수에 할당하기 \n",
    "\n",
    "- 함수표현식은 한번 사용하면 재사용 불가해서 변수에 정의하면 다음에 호출해서 사용 가능 "
   ]
  },
  {
   "cell_type": "code",
   "execution_count": 9,
   "id": "342e66d2-ab06-4afe-ab00-fa1c10babb16",
   "metadata": {},
   "outputs": [
    {
     "data": {},
     "execution_count": 9,
     "metadata": {},
     "output_type": "execute_result"
    }
   ],
   "source": [
    "const mul = function mul(x:number, y:number) : number {\n",
    "                return x*y;\n",
    "             }"
   ]
  },
  {
   "cell_type": "code",
   "execution_count": 10,
   "id": "b06b5e9d-1dff-41ea-a9a4-c454f13f84d1",
   "metadata": {},
   "outputs": [
    {
     "data": {
      "text/plain": [
       "\u001b[33m20000\u001b[39m"
      ]
     },
     "execution_count": 10,
     "metadata": {},
     "output_type": "execute_result"
    }
   ],
   "source": [
    "mul(100,200);"
   ]
  },
  {
   "cell_type": "code",
   "execution_count": null,
   "id": "58cc9dac-5253-492c-8e9d-568e57ce959b",
   "metadata": {},
   "outputs": [],
   "source": []
  },
  {
   "cell_type": "markdown",
   "id": "efe174d5-73d7-4dac-8c45-d748beb9555e",
   "metadata": {},
   "source": [
    "## 3. 화살표 함수 "
   ]
  },
  {
   "cell_type": "markdown",
   "id": "9083b8cc-2d5a-401e-8f23-94516c51cfcf",
   "metadata": {},
   "source": [
    "## 즉시실행하기 "
   ]
  },
  {
   "cell_type": "code",
   "execution_count": 2,
   "id": "301bdefb-a758-49cf-8667-aa1781d67acf",
   "metadata": {},
   "outputs": [
    {
     "data": {
      "text/plain": [
       "\u001b[33m1000\u001b[39m"
      ]
     },
     "execution_count": 2,
     "metadata": {},
     "output_type": "execute_result"
    }
   ],
   "source": [
    "((x:number, y:number) : number =>  {\n",
    "                return x-y;\n",
    "             })(2000,1000);"
   ]
  },
  {
   "cell_type": "code",
   "execution_count": null,
   "id": "cb6d98d0-ad97-47a0-be3b-678be93a0adb",
   "metadata": {},
   "outputs": [],
   "source": []
  },
  {
   "cell_type": "markdown",
   "id": "ca97fc8b-3954-4cf2-9930-7cfe1a00849f",
   "metadata": {},
   "source": [
    "## 함수표현식에 대한 축약형 정의하기 \n",
    "\n",
    "- return 문과 {} 을 제거해서 한 문장 표현식으로 정리 가능\n",
    "- 표현식의 결과가 반환값이다"
   ]
  },
  {
   "cell_type": "code",
   "execution_count": 11,
   "id": "8ea6c595-6774-4093-9060-102c353621b9",
   "metadata": {},
   "outputs": [
    {
     "data": {},
     "execution_count": 11,
     "metadata": {},
     "output_type": "execute_result"
    }
   ],
   "source": [
    "const sub =  (x:number, y:number) : number =>  {\n",
    "                return x-y;\n",
    "             }"
   ]
  },
  {
   "cell_type": "code",
   "execution_count": 12,
   "id": "3f6cbf31-3793-48ee-a6a1-565331c58420",
   "metadata": {},
   "outputs": [
    {
     "data": {
      "text/plain": [
       "\u001b[33m-100\u001b[39m"
      ]
     },
     "execution_count": 12,
     "metadata": {},
     "output_type": "execute_result"
    }
   ],
   "source": [
    "sub(100,200);"
   ]
  },
  {
   "cell_type": "markdown",
   "id": "d32f2dec-9f31-4616-b22c-8813c05ee313",
   "metadata": {},
   "source": [
    "### 본문을 한문장 표현식으로 정리 "
   ]
  },
  {
   "cell_type": "code",
   "execution_count": 13,
   "id": "6df4b876-b3d0-4217-affe-3039dbe3f01c",
   "metadata": {},
   "outputs": [
    {
     "data": {},
     "execution_count": 13,
     "metadata": {},
     "output_type": "execute_result"
    }
   ],
   "source": [
    "const sub1 =  (x:number, y:number) : number =>  x-y;\n"
   ]
  },
  {
   "cell_type": "code",
   "execution_count": 14,
   "id": "9c825b29-569d-4359-87ee-50260dfbe7c6",
   "metadata": {},
   "outputs": [
    {
     "data": {
      "text/plain": [
       "\u001b[33m-100\u001b[39m"
      ]
     },
     "execution_count": 14,
     "metadata": {},
     "output_type": "execute_result"
    }
   ],
   "source": [
    "sub1(100,200);"
   ]
  },
  {
   "cell_type": "code",
   "execution_count": null,
   "id": "984b9a92-a62f-4da3-ab16-93322a8faea1",
   "metadata": {},
   "outputs": [],
   "source": []
  },
  {
   "cell_type": "code",
   "execution_count": null,
   "id": "1d12d9ae-c01e-4602-8f68-1c8dc8339123",
   "metadata": {},
   "outputs": [],
   "source": []
  },
  {
   "cell_type": "markdown",
   "id": "497daca0-1a71-443d-9649-9a3748ec683b",
   "metadata": {},
   "source": [
    "## 4. 반환값없는 함수 \n",
    "\n",
    "- 함수의 반환값 타입을 void로 지정해야 합니다.\n",
    "- 함수의 코드에서 반환값을 사용하지 않아야 합니다."
   ]
  },
  {
   "cell_type": "markdown",
   "id": "5110e3c7-7c17-4789-91cc-e836cb2e8883",
   "metadata": {},
   "source": [
    "## void 타입 처리하기"
   ]
  },
  {
   "cell_type": "code",
   "execution_count": 3,
   "id": "175d420c-2bd4-4001-b887-321bb3b30f3c",
   "metadata": {},
   "outputs": [
    {
     "data": {},
     "execution_count": 3,
     "metadata": {},
     "output_type": "execute_result"
    },
    {
     "name": "stdout",
     "output_type": "stream",
     "text": [
      "Hello, world!\n"
     ]
    }
   ],
   "source": [
    "function greet() :void {\n",
    "  console.log(\"Hello, world!\");\n",
    "}\n",
    "\n",
    "greet(); // Hello, world!\n"
   ]
  },
  {
   "cell_type": "code",
   "execution_count": null,
   "id": "04f147d7-91d5-4307-b91d-d1049e678a37",
   "metadata": {},
   "outputs": [],
   "source": []
  },
  {
   "cell_type": "markdown",
   "id": "5217e4ec-1174-4855-b162-3c67a2b171ff",
   "metadata": {},
   "source": [
    "## 반환값없이 처리하기 "
   ]
  },
  {
   "cell_type": "code",
   "execution_count": 4,
   "id": "ec9973b9-4f5b-42a6-b0cd-1f47bb6150f3",
   "metadata": {},
   "outputs": [
    {
     "data": {},
     "execution_count": 4,
     "metadata": {},
     "output_type": "execute_result"
    },
    {
     "name": "stdout",
     "output_type": "stream",
     "text": [
      "Hello, world!\n"
     ]
    }
   ],
   "source": [
    "function greet1() {\n",
    "  console.log(\"Hello, world!\");\n",
    "}\n",
    "\n",
    "greet1(); // Hello, world!"
   ]
  },
  {
   "cell_type": "code",
   "execution_count": null,
   "id": "ba423ee7-f9bb-4137-8ab4-ffce7eb23bda",
   "metadata": {},
   "outputs": [],
   "source": []
  }
 ],
 "metadata": {
  "kernelspec": {
   "display_name": "Deno",
   "language": "typescript",
   "name": "deno"
  },
  "language_info": {
   "file_extension": ".ts",
   "mimetype": "text/x.typescript",
   "name": "typescript",
   "nb_converter": "script",
   "pygments_lexer": "typescript",
   "version": "5.2.2"
  }
 },
 "nbformat": 4,
 "nbformat_minor": 5
}
