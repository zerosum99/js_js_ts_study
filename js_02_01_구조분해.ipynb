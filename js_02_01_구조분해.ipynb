{
 "cells": [
  {
   "cell_type": "code",
   "execution_count": null,
   "id": "649b762a-b3c4-4800-a592-42e09aff0d69",
   "metadata": {},
   "outputs": [],
   "source": []
  },
  {
   "cell_type": "markdown",
   "id": "94e3f80b-ffe8-4865-97c2-3964f15f94e9",
   "metadata": {},
   "source": [
    "# 1. 객체의 구조 분해 "
   ]
  },
  {
   "cell_type": "markdown",
   "id": "a5c840da-c633-4cfe-9f3f-12db5fc62207",
   "metadata": {},
   "source": [
    "## 1-1 객체 프로퍼티 구조분해 "
   ]
  },
  {
   "cell_type": "code",
   "execution_count": 2,
   "id": "dac02891-97fd-4e8c-a2e5-71cd1f9e0152",
   "metadata": {},
   "outputs": [
    {
     "data": {},
     "execution_count": 2,
     "metadata": {},
     "output_type": "execute_result"
    }
   ],
   "source": [
    "const obj = { name : \"섬머\", age : 24 };"
   ]
  },
  {
   "cell_type": "code",
   "execution_count": 3,
   "id": "6a80f107-ee04-4e38-94e6-d97cd79b9fbc",
   "metadata": {},
   "outputs": [
    {
     "data": {},
     "execution_count": 3,
     "metadata": {},
     "output_type": "execute_result"
    }
   ],
   "source": [
    "const { name,age } = obj"
   ]
  },
  {
   "cell_type": "code",
   "execution_count": 4,
   "id": "9fc683e5-a0de-4ace-9de8-a2fa041dc71e",
   "metadata": {},
   "outputs": [
    {
     "data": {},
     "execution_count": 4,
     "metadata": {},
     "output_type": "execute_result"
    },
    {
     "name": "stdout",
     "output_type": "stream",
     "text": [
      "섬머\n",
      "\u001b[33m24\u001b[39m\n"
     ]
    }
   ],
   "source": [
    "console.log(name);\n",
    "console.log(age);"
   ]
  },
  {
   "cell_type": "code",
   "execution_count": null,
   "id": "9fc35b5a-cbb5-47ce-bd7a-7b8e3ff5b43f",
   "metadata": {},
   "outputs": [],
   "source": []
  }
 ],
 "metadata": {
  "kernelspec": {
   "display_name": "Deno",
   "language": "typescript",
   "name": "deno"
  },
  "language_info": {
   "file_extension": ".ts",
   "mimetype": "text/x.typescript",
   "name": "typescript",
   "nb_converter": "script",
   "pygments_lexer": "typescript",
   "version": "5.2.2"
  }
 },
 "nbformat": 4,
 "nbformat_minor": 5
}
