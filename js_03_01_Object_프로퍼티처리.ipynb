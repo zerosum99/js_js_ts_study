{
 "cells": [
  {
   "cell_type": "code",
   "execution_count": null,
   "id": "765745ff-581a-42ed-978f-7b7769143538",
   "metadata": {},
   "outputs": [],
   "source": []
  },
  {
   "cell_type": "markdown",
   "id": "ef01c256-e766-4af7-81c0-581619b0e7ca",
   "metadata": {},
   "source": [
    "## 1. Object 내의 프로퍼터 "
   ]
  },
  {
   "cell_type": "code",
   "execution_count": 1,
   "id": "e81a6012-7e69-4ea5-8550-61b701d04c40",
   "metadata": {},
   "outputs": [
    {
     "data": {
      "text/plain": [
       "[\n",
       "  \u001b[32m\"length\"\u001b[39m,\n",
       "  \u001b[32m\"name\"\u001b[39m,\n",
       "  \u001b[32m\"prototype\"\u001b[39m,\n",
       "  \u001b[32m\"assign\"\u001b[39m,\n",
       "  \u001b[32m\"getOwnPropertyDescriptor\"\u001b[39m,\n",
       "  \u001b[32m\"getOwnPropertyDescriptors\"\u001b[39m,\n",
       "  \u001b[32m\"getOwnPropertyNames\"\u001b[39m,\n",
       "  \u001b[32m\"getOwnPropertySymbols\"\u001b[39m,\n",
       "  \u001b[32m\"hasOwn\"\u001b[39m,\n",
       "  \u001b[32m\"is\"\u001b[39m,\n",
       "  \u001b[32m\"preventExtensions\"\u001b[39m,\n",
       "  \u001b[32m\"seal\"\u001b[39m,\n",
       "  \u001b[32m\"create\"\u001b[39m,\n",
       "  \u001b[32m\"defineProperties\"\u001b[39m,\n",
       "  \u001b[32m\"defineProperty\"\u001b[39m,\n",
       "  \u001b[32m\"freeze\"\u001b[39m,\n",
       "  \u001b[32m\"getPrototypeOf\"\u001b[39m,\n",
       "  \u001b[32m\"setPrototypeOf\"\u001b[39m,\n",
       "  \u001b[32m\"isExtensible\"\u001b[39m,\n",
       "  \u001b[32m\"isFrozen\"\u001b[39m,\n",
       "  \u001b[32m\"isSealed\"\u001b[39m,\n",
       "  \u001b[32m\"keys\"\u001b[39m,\n",
       "  \u001b[32m\"entries\"\u001b[39m,\n",
       "  \u001b[32m\"fromEntries\"\u001b[39m,\n",
       "  \u001b[32m\"values\"\u001b[39m,\n",
       "  \u001b[32m\"groupBy\"\u001b[39m\n",
       "]"
      ]
     },
     "execution_count": 1,
     "metadata": {},
     "output_type": "execute_result"
    }
   ],
   "source": [
    "Object.getOwnPropertyNames(Object)"
   ]
  },
  {
   "cell_type": "code",
   "execution_count": null,
   "id": "dc3f0586-fed2-4fee-98dd-a45b9a5795d1",
   "metadata": {},
   "outputs": [],
   "source": []
  },
  {
   "cell_type": "code",
   "execution_count": null,
   "id": "9c609983-8439-4dae-9171-c946341dd929",
   "metadata": {},
   "outputs": [],
   "source": []
  },
  {
   "cell_type": "markdown",
   "id": "706e6377-e9b5-4c22-8b37-0fb19b95059b",
   "metadata": {},
   "source": [
    "## 2. Object.prototype 내의 프로퍼티 "
   ]
  },
  {
   "cell_type": "code",
   "execution_count": 2,
   "id": "7a6bccbd-50a3-420a-96a3-57ba9a521a1e",
   "metadata": {},
   "outputs": [
    {
     "data": {
      "text/plain": [
       "[\n",
       "  \u001b[32m\"constructor\"\u001b[39m,\n",
       "  \u001b[32m\"__defineGetter__\"\u001b[39m,\n",
       "  \u001b[32m\"__defineSetter__\"\u001b[39m,\n",
       "  \u001b[32m\"hasOwnProperty\"\u001b[39m,\n",
       "  \u001b[32m\"__lookupGetter__\"\u001b[39m,\n",
       "  \u001b[32m\"__lookupSetter__\"\u001b[39m,\n",
       "  \u001b[32m\"isPrototypeOf\"\u001b[39m,\n",
       "  \u001b[32m\"propertyIsEnumerable\"\u001b[39m,\n",
       "  \u001b[32m\"toString\"\u001b[39m,\n",
       "  \u001b[32m\"valueOf\"\u001b[39m,\n",
       "  \u001b[32m\"toLocaleString\"\u001b[39m\n",
       "]"
      ]
     },
     "execution_count": 2,
     "metadata": {},
     "output_type": "execute_result"
    }
   ],
   "source": [
    "Object.getOwnPropertyNames(Object.prototype)"
   ]
  },
  {
   "cell_type": "markdown",
   "id": "71f83ad7-47e9-41e1-9a26-f7ed3b482dd6",
   "metadata": {},
   "source": [
    "## 2-1. 객체에서 Object.prototype의 프로퍼터 참조하기 "
   ]
  },
  {
   "cell_type": "code",
   "execution_count": 5,
   "id": "16f38eb2-2afa-45d0-90f6-7601fa5901a7",
   "metadata": {},
   "outputs": [
    {
     "data": {},
     "execution_count": 5,
     "metadata": {},
     "output_type": "execute_result"
    }
   ],
   "source": [
    "const obj = {name : 100};"
   ]
  },
  {
   "cell_type": "code",
   "execution_count": 6,
   "id": "2838e571-bb39-4657-91cf-ba1789e7f88d",
   "metadata": {},
   "outputs": [
    {
     "data": {
      "text/plain": [
       "{ name: \u001b[33m100\u001b[39m }"
      ]
     },
     "execution_count": 6,
     "metadata": {},
     "output_type": "execute_result"
    }
   ],
   "source": [
    "obj.valueOf()"
   ]
  },
  {
   "cell_type": "code",
   "execution_count": 7,
   "id": "d0713c07-0f46-4a00-a684-e509a19da47d",
   "metadata": {},
   "outputs": [
    {
     "data": {
      "text/plain": [
       "\u001b[33mtrue\u001b[39m"
      ]
     },
     "execution_count": 7,
     "metadata": {},
     "output_type": "execute_result"
    }
   ],
   "source": [
    "obj.hasOwnProperty(\"name\");"
   ]
  },
  {
   "cell_type": "code",
   "execution_count": null,
   "id": "571e66aa-87f1-498b-b6e5-e8aca4612c36",
   "metadata": {},
   "outputs": [],
   "source": []
  }
 ],
 "metadata": {
  "kernelspec": {
   "display_name": "Deno",
   "language": "typescript",
   "name": "deno"
  },
  "language_info": {
   "file_extension": ".ts",
   "mimetype": "text/x.typescript",
   "name": "typescript",
   "nb_converter": "script",
   "pygments_lexer": "typescript",
   "version": "5.2.2"
  }
 },
 "nbformat": 4,
 "nbformat_minor": 5
}
