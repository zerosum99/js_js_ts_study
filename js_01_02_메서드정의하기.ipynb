{
 "cells": [
  {
   "cell_type": "markdown",
   "id": "240826ab-a56c-4275-b37e-a4d77d0db70b",
   "metadata": {},
   "source": [
    "## 메서드 정의하기 "
   ]
  },
  {
   "cell_type": "code",
   "execution_count": 1,
   "id": "8dd63cc9-2862-4c2f-a200-47333b5ed047",
   "metadata": {},
   "outputs": [
    {
     "data": {},
     "execution_count": 1,
     "metadata": {},
     "output_type": "execute_result"
    }
   ],
   "source": [
    "var circle = {\n",
    "    radius : 2,\n",
    "    getDiameter : function() {\n",
    "        return 2* this.radius;\n",
    "    }\n",
    "};"
   ]
  },
  {
   "cell_type": "code",
   "execution_count": 2,
   "id": "1f8f3bed-13ae-4363-8e9c-b6946f3e1df0",
   "metadata": {},
   "outputs": [
    {
     "data": {
      "text/plain": [
       "\u001b[33m4\u001b[39m"
      ]
     },
     "execution_count": 2,
     "metadata": {},
     "output_type": "execute_result"
    }
   ],
   "source": [
    "circle.getDiameter();"
   ]
  },
  {
   "cell_type": "code",
   "execution_count": null,
   "id": "8ea50286-a824-4c0f-b3d5-a7d04e45d6c9",
   "metadata": {},
   "outputs": [],
   "source": []
  }
 ],
 "metadata": {
  "kernelspec": {
   "display_name": "Deno",
   "language": "typescript",
   "name": "deno"
  },
  "language_info": {
   "file_extension": ".ts",
   "mimetype": "text/x.typescript",
   "name": "typescript",
   "nb_converter": "script",
   "pygments_lexer": "typescript",
   "version": "5.2.2"
  }
 },
 "nbformat": 4,
 "nbformat_minor": 5
}
