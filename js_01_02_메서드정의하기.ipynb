{
 "cells": [
  {
   "cell_type": "markdown",
   "id": "240826ab-a56c-4275-b37e-a4d77d0db70b",
   "metadata": {},
   "source": [
    "## 메서드 정의하기 "
   ]
  },
  {
   "cell_type": "markdown",
   "id": "99a30a55-eb83-46c1-8349-636834c470f6",
   "metadata": {},
   "source": [
    "## 익명함수로 처리 "
   ]
  },
  {
   "cell_type": "code",
   "execution_count": 1,
   "id": "8dd63cc9-2862-4c2f-a200-47333b5ed047",
   "metadata": {},
   "outputs": [
    {
     "data": {},
     "execution_count": 1,
     "metadata": {},
     "output_type": "execute_result"
    }
   ],
   "source": [
    "var circle = {\n",
    "    radius : 2,\n",
    "    getDiameter : function() {\n",
    "        return 2* this.radius;\n",
    "    }\n",
    "};"
   ]
  },
  {
   "cell_type": "code",
   "execution_count": 2,
   "id": "1f8f3bed-13ae-4363-8e9c-b6946f3e1df0",
   "metadata": {},
   "outputs": [
    {
     "data": {
      "text/plain": [
       "\u001b[33m4\u001b[39m"
      ]
     },
     "execution_count": 2,
     "metadata": {},
     "output_type": "execute_result"
    }
   ],
   "source": [
    "circle.getDiameter();"
   ]
  },
  {
   "cell_type": "code",
   "execution_count": null,
   "id": "8ea50286-a824-4c0f-b3d5-a7d04e45d6c9",
   "metadata": {},
   "outputs": [],
   "source": []
  },
  {
   "cell_type": "markdown",
   "id": "e2f8173f-2b77-41d5-bd72-771094a42324",
   "metadata": {},
   "source": [
    "## 메서드 표기법으로 처리 "
   ]
  },
  {
   "cell_type": "code",
   "execution_count": 3,
   "id": "c254984a-f9bc-4776-9a04-cfdb0ba72ad6",
   "metadata": {},
   "outputs": [
    {
     "data": {},
     "execution_count": 3,
     "metadata": {},
     "output_type": "execute_result"
    }
   ],
   "source": [
    "var circle1 = {\n",
    "    radius : 2,\n",
    "    getDiameter () {\n",
    "        return 2* this.radius;\n",
    "    }\n",
    "};"
   ]
  },
  {
   "cell_type": "code",
   "execution_count": 4,
   "id": "8ab6c8dd-0b76-4ff2-b1af-6adb4440a64c",
   "metadata": {},
   "outputs": [
    {
     "data": {
      "text/plain": [
       "\u001b[33m4\u001b[39m"
      ]
     },
     "execution_count": 4,
     "metadata": {},
     "output_type": "execute_result"
    }
   ],
   "source": [
    "circle1.getDiameter();"
   ]
  },
  {
   "cell_type": "code",
   "execution_count": null,
   "id": "bb6b5b97-d585-42f3-b80e-ba3fd7e0c96a",
   "metadata": {},
   "outputs": [],
   "source": []
  }
 ],
 "metadata": {
  "kernelspec": {
   "display_name": "Deno",
   "language": "typescript",
   "name": "deno"
  },
  "language_info": {
   "file_extension": ".ts",
   "mimetype": "text/x.typescript",
   "name": "typescript",
   "nb_converter": "script",
   "pygments_lexer": "typescript",
   "version": "5.2.2"
  }
 },
 "nbformat": 4,
 "nbformat_minor": 5
}
