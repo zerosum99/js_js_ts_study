{
 "cells": [
  {
   "cell_type": "code",
   "execution_count": null,
   "id": "4ccd8b82-377b-4cc6-83f0-be13b37c33a5",
   "metadata": {},
   "outputs": [],
   "source": []
  },
  {
   "cell_type": "code",
   "execution_count": 3,
   "id": "24816c92-a8bd-4c9c-a6f0-e55a79ab0b0c",
   "metadata": {},
   "outputs": [
    {
     "data": {},
     "execution_count": 3,
     "metadata": {},
     "output_type": "execute_result"
    },
    {
     "name": "stdout",
     "output_type": "stream",
     "text": [
      "\u001b[90mundefined\u001b[39m\n"
     ]
    }
   ],
   "source": [
    "// Deno에서 환경 변수 읽기\n",
    "console.log(Deno.env.get(\"NODE_ENV\"));"
   ]
  },
  {
   "cell_type": "code",
   "execution_count": null,
   "id": "fa55e92a-015a-49e0-a2ec-d14abd4f2e5b",
   "metadata": {},
   "outputs": [],
   "source": []
  },
  {
   "cell_type": "code",
   "execution_count": 4,
   "id": "8b7a5732-3412-4277-8c79-f30acaf644ca",
   "metadata": {},
   "outputs": [
    {
     "data": {},
     "execution_count": 4,
     "metadata": {},
     "output_type": "execute_result"
    },
    {
     "name": "stdout",
     "output_type": "stream",
     "text": [
      "[]\n"
     ]
    }
   ],
   "source": [
    "// Deno에서 명령행 인수 읽기\n",
    "console.log(Deno.args);"
   ]
  },
  {
   "cell_type": "code",
   "execution_count": 7,
   "id": "b204be08-c0c8-41c9-87b6-af0c32bf14a2",
   "metadata": {},
   "outputs": [
    {
     "data": {},
     "execution_count": 7,
     "metadata": {},
     "output_type": "execute_result"
    }
   ],
   "source": [
    "const dd = Object.getOwnPropertyNames(Deno)"
   ]
  },
  {
   "cell_type": "code",
   "execution_count": 8,
   "id": "0cdc4ad0-2fea-42c8-b3ce-df1cc18a3f18",
   "metadata": {},
   "outputs": [
    {
     "data": {
      "text/plain": [
       "[\n",
       "  \u001b[32m\"internal\"\u001b[39m,          \u001b[32m\"resources\"\u001b[39m,       \u001b[32m\"close\"\u001b[39m,\n",
       "  \u001b[32m\"metrics\"\u001b[39m,           \u001b[32m\"Process\"\u001b[39m,         \u001b[32m\"run\"\u001b[39m,\n",
       "  \u001b[32m\"isatty\"\u001b[39m,            \u001b[32m\"writeFileSync\"\u001b[39m,   \u001b[32m\"writeFile\"\u001b[39m,\n",
       "  \u001b[32m\"writeTextFileSync\"\u001b[39m, \u001b[32m\"writeTextFile\"\u001b[39m,   \u001b[32m\"readTextFile\"\u001b[39m,\n",
       "  \u001b[32m\"readTextFileSync\"\u001b[39m,  \u001b[32m\"readFile\"\u001b[39m,        \u001b[32m\"readFileSync\"\u001b[39m,\n",
       "  \u001b[32m\"watchFs\"\u001b[39m,           \u001b[32m\"chmodSync\"\u001b[39m,       \u001b[32m\"chmod\"\u001b[39m,\n",
       "  \u001b[32m\"chown\"\u001b[39m,             \u001b[32m\"chownSync\"\u001b[39m,       \u001b[32m\"copyFileSync\"\u001b[39m,\n",
       "  \u001b[32m\"cwd\"\u001b[39m,               \u001b[32m\"makeTempDirSync\"\u001b[39m, \u001b[32m\"makeTempDir\"\u001b[39m,\n",
       "  \u001b[32m\"makeTempFileSync\"\u001b[39m,  \u001b[32m\"makeTempFile\"\u001b[39m,    \u001b[32m\"memoryUsage\"\u001b[39m,\n",
       "  \u001b[32m\"mkdirSync\"\u001b[39m,         \u001b[32m\"mkdir\"\u001b[39m,           \u001b[32m\"chdir\"\u001b[39m,\n",
       "  \u001b[32m\"copyFile\"\u001b[39m,          \u001b[32m\"readDirSync\"\u001b[39m,     \u001b[32m\"readDir\"\u001b[39m,\n",
       "  \u001b[32m\"readLinkSync\"\u001b[39m,      \u001b[32m\"readLink\"\u001b[39m,        \u001b[32m\"realPathSync\"\u001b[39m,\n",
       "  \u001b[32m\"realPath\"\u001b[39m,          \u001b[32m\"removeSync\"\u001b[39m,      \u001b[32m\"remove\"\u001b[39m,\n",
       "  \u001b[32m\"renameSync\"\u001b[39m,        \u001b[32m\"rename\"\u001b[39m,          \u001b[32m\"version\"\u001b[39m,\n",
       "  \u001b[32m\"build\"\u001b[39m,             \u001b[32m\"statSync\"\u001b[39m,        \u001b[32m\"lstatSync\"\u001b[39m,\n",
       "  \u001b[32m\"stat\"\u001b[39m,              \u001b[32m\"lstat\"\u001b[39m,           \u001b[32m\"truncateSync\"\u001b[39m,\n",
       "  \u001b[32m\"truncate\"\u001b[39m,          \u001b[32m\"ftruncateSync\"\u001b[39m,   \u001b[32m\"ftruncate\"\u001b[39m,\n",
       "  \u001b[32m\"futime\"\u001b[39m,            \u001b[32m\"futimeSync\"\u001b[39m,      \u001b[32m\"errors\"\u001b[39m,\n",
       "  \u001b[32m\"customInspect\"\u001b[39m,     \u001b[32m\"inspect\"\u001b[39m,         \u001b[32m\"env\"\u001b[39m,\n",
       "  \u001b[32m\"exit\"\u001b[39m,              \u001b[32m\"execPath\"\u001b[39m,        \u001b[32m\"Buffer\"\u001b[39m,\n",
       "  \u001b[32m\"readAll\"\u001b[39m,           \u001b[32m\"readAllSync\"\u001b[39m,     \u001b[32m\"writeAll\"\u001b[39m,\n",
       "  \u001b[32m\"writeAllSync\"\u001b[39m,      \u001b[32m\"copy\"\u001b[39m,            \u001b[32m\"iter\"\u001b[39m,\n",
       "  \u001b[32m\"iterSync\"\u001b[39m,          \u001b[32m\"SeekMode\"\u001b[39m,        \u001b[32m\"read\"\u001b[39m,\n",
       "  \u001b[32m\"readSync\"\u001b[39m,          \u001b[32m\"write\"\u001b[39m,           \u001b[32m\"writeSync\"\u001b[39m,\n",
       "  \u001b[32m\"File\"\u001b[39m,              \u001b[32m\"FsFile\"\u001b[39m,          \u001b[32m\"open\"\u001b[39m,\n",
       "  \u001b[32m\"openSync\"\u001b[39m,          \u001b[32m\"create\"\u001b[39m,          \u001b[32m\"createSync\"\u001b[39m,\n",
       "  \u001b[32m\"stdin\"\u001b[39m,             \u001b[32m\"stdout\"\u001b[39m,          \u001b[32m\"stderr\"\u001b[39m,\n",
       "  \u001b[32m\"seek\"\u001b[39m,              \u001b[32m\"seekSync\"\u001b[39m,        \u001b[32m\"connect\"\u001b[39m,\n",
       "  \u001b[32m\"listen\"\u001b[39m,            \u001b[32m\"loadavg\"\u001b[39m,         \u001b[32m\"connectTls\"\u001b[39m,\n",
       "  \u001b[32m\"listenTls\"\u001b[39m,         \u001b[32m\"startTls\"\u001b[39m,        \u001b[32m\"shutdown\"\u001b[39m,\n",
       "  \u001b[32m\"fstatSync\"\u001b[39m,         \u001b[32m\"fstat\"\u001b[39m,           \u001b[32m\"fsyncSync\"\u001b[39m,\n",
       "  \u001b[32m\"fsync\"\u001b[39m,             \u001b[32m\"fdatasyncSync\"\u001b[39m,   \u001b[32m\"fdatasync\"\u001b[39m,\n",
       "  \u001b[32m\"symlink\"\u001b[39m,           \u001b[32m\"symlinkSync\"\u001b[39m,     \u001b[32m\"link\"\u001b[39m,\n",
       "  \u001b[32m\"linkSync\"\u001b[39m,\n",
       "  ... 51 more items\n",
       "]"
      ]
     },
     "execution_count": 8,
     "metadata": {},
     "output_type": "execute_result"
    }
   ],
   "source": [
    "dd"
   ]
  },
  {
   "cell_type": "code",
   "execution_count": null,
   "id": "5dada8d7-54b0-47a0-b763-7a9e788fdcfd",
   "metadata": {},
   "outputs": [],
   "source": []
  },
  {
   "cell_type": "code",
   "execution_count": 14,
   "id": "8976f81c-0afd-400c-8e61-d1870e4b7047",
   "metadata": {},
   "outputs": [
    {
     "data": {
      "text/plain": [
       "[\n",
       "  \u001b[32m\"futime\"\u001b[39m,               \u001b[32m\"futimeSync\"\u001b[39m,        \u001b[32m\"errors\"\u001b[39m,\n",
       "  \u001b[32m\"customInspect\"\u001b[39m,        \u001b[32m\"inspect\"\u001b[39m,           \u001b[32m\"env\"\u001b[39m,\n",
       "  \u001b[32m\"exit\"\u001b[39m,                 \u001b[32m\"execPath\"\u001b[39m,          \u001b[32m\"Buffer\"\u001b[39m,\n",
       "  \u001b[32m\"readAll\"\u001b[39m,              \u001b[32m\"readAllSync\"\u001b[39m,       \u001b[32m\"writeAll\"\u001b[39m,\n",
       "  \u001b[32m\"writeAllSync\"\u001b[39m,         \u001b[32m\"copy\"\u001b[39m,              \u001b[32m\"iter\"\u001b[39m,\n",
       "  \u001b[32m\"iterSync\"\u001b[39m,             \u001b[32m\"SeekMode\"\u001b[39m,          \u001b[32m\"read\"\u001b[39m,\n",
       "  \u001b[32m\"readSync\"\u001b[39m,             \u001b[32m\"write\"\u001b[39m,             \u001b[32m\"writeSync\"\u001b[39m,\n",
       "  \u001b[32m\"File\"\u001b[39m,                 \u001b[32m\"FsFile\"\u001b[39m,            \u001b[32m\"open\"\u001b[39m,\n",
       "  \u001b[32m\"openSync\"\u001b[39m,             \u001b[32m\"create\"\u001b[39m,            \u001b[32m\"createSync\"\u001b[39m,\n",
       "  \u001b[32m\"stdin\"\u001b[39m,                \u001b[32m\"stdout\"\u001b[39m,            \u001b[32m\"stderr\"\u001b[39m,\n",
       "  \u001b[32m\"seek\"\u001b[39m,                 \u001b[32m\"seekSync\"\u001b[39m,          \u001b[32m\"connect\"\u001b[39m,\n",
       "  \u001b[32m\"listen\"\u001b[39m,               \u001b[32m\"loadavg\"\u001b[39m,           \u001b[32m\"connectTls\"\u001b[39m,\n",
       "  \u001b[32m\"listenTls\"\u001b[39m,            \u001b[32m\"startTls\"\u001b[39m,          \u001b[32m\"shutdown\"\u001b[39m,\n",
       "  \u001b[32m\"fstatSync\"\u001b[39m,            \u001b[32m\"fstat\"\u001b[39m,             \u001b[32m\"fsyncSync\"\u001b[39m,\n",
       "  \u001b[32m\"fsync\"\u001b[39m,                \u001b[32m\"fdatasyncSync\"\u001b[39m,     \u001b[32m\"fdatasync\"\u001b[39m,\n",
       "  \u001b[32m\"symlink\"\u001b[39m,              \u001b[32m\"symlinkSync\"\u001b[39m,       \u001b[32m\"link\"\u001b[39m,\n",
       "  \u001b[32m\"linkSync\"\u001b[39m,             \u001b[32m\"permissions\"\u001b[39m,       \u001b[32m\"Permissions\"\u001b[39m,\n",
       "  \u001b[32m\"PermissionStatus\"\u001b[39m,     \u001b[32m\"serveHttp\"\u001b[39m,         \u001b[32m\"serve\"\u001b[39m,\n",
       "  \u001b[32m\"resolveDns\"\u001b[39m,           \u001b[32m\"upgradeWebSocket\"\u001b[39m,  \u001b[32m\"utime\"\u001b[39m,\n",
       "  \u001b[32m\"utimeSync\"\u001b[39m,            \u001b[32m\"kill\"\u001b[39m,              \u001b[32m\"addSignalListener\"\u001b[39m,\n",
       "  \u001b[32m\"removeSignalListener\"\u001b[39m, \u001b[32m\"refTimer\"\u001b[39m,          \u001b[32m\"unrefTimer\"\u001b[39m,\n",
       "  \u001b[32m\"osRelease\"\u001b[39m,            \u001b[32m\"osUptime\"\u001b[39m,          \u001b[32m\"hostname\"\u001b[39m,\n",
       "  \u001b[32m\"systemMemoryInfo\"\u001b[39m,     \u001b[32m\"networkInterfaces\"\u001b[39m, \u001b[32m\"consoleSize\"\u001b[39m,\n",
       "  \u001b[32m\"gid\"\u001b[39m,                  \u001b[32m\"uid\"\u001b[39m,               \u001b[32m\"Command\"\u001b[39m,\n",
       "  \u001b[32m\"ChildProcess\"\u001b[39m,         \u001b[32m\"bench\"\u001b[39m,             \u001b[32m\"test\"\u001b[39m,\n",
       "  \u001b[32m\"pid\"\u001b[39m,                  \u001b[32m\"ppid\"\u001b[39m,              \u001b[32m\"noColor\"\u001b[39m,\n",
       "  \u001b[32m\"args\"\u001b[39m,                 \u001b[32m\"mainModule\"\u001b[39m,        \u001b[32m\"listenDatagram\"\u001b[39m,\n",
       "  \u001b[32m\"umask\"\u001b[39m,                \u001b[32m\"HttpClient\"\u001b[39m,        \u001b[32m\"createHttpClient\"\u001b[39m,\n",
       "  \u001b[32m\"http\"\u001b[39m,                 \u001b[32m\"dlopen\"\u001b[39m,            \u001b[32m\"UnsafeCallback\"\u001b[39m,\n",
       "  \u001b[32m\"UnsafePointer\"\u001b[39m,        \u001b[32m\"UnsafePointerView\"\u001b[39m, \u001b[32m\"UnsafeFnPointer\"\u001b[39m,\n",
       "  \u001b[32m\"flock\"\u001b[39m,                \u001b[32m\"flockSync\"\u001b[39m,         \u001b[32m\"funlock\"\u001b[39m,\n",
       "  \u001b[32m\"funlockSync\"\u001b[39m,          \u001b[32m\"upgradeHttp\"\u001b[39m,       \u001b[32m\"openKv\"\u001b[39m,\n",
       "  \u001b[32m\"AtomicOperation\"\u001b[39m,      \u001b[32m\"Kv\"\u001b[39m,                \u001b[32m\"KvU64\"\u001b[39m,\n",
       "  \u001b[32m\"KvListIterator\"\u001b[39m\n",
       "]"
      ]
     },
     "execution_count": 14,
     "metadata": {},
     "output_type": "execute_result"
    }
   ],
   "source": [
    "dd.slice(51)"
   ]
  },
  {
   "cell_type": "code",
   "execution_count": null,
   "id": "b4f5b513-b718-44bb-ac42-92eba3006308",
   "metadata": {},
   "outputs": [],
   "source": []
  },
  {
   "cell_type": "code",
   "execution_count": null,
   "id": "66ec19be-8247-4a55-b88b-e4540c3a1d5f",
   "metadata": {},
   "outputs": [],
   "source": []
  },
  {
   "cell_type": "code",
   "execution_count": 6,
   "id": "3340c51b-4637-4f69-9707-5e9b744c7afe",
   "metadata": {},
   "outputs": [
    {
     "data": {
      "text/plain": [
       "{ deno: \u001b[32m\"1.37.0\"\u001b[39m, v8: \u001b[32m\"11.8.172.3\"\u001b[39m, typescript: \u001b[32m\"5.2.2\"\u001b[39m }"
      ]
     },
     "execution_count": 6,
     "metadata": {},
     "output_type": "execute_result"
    }
   ],
   "source": [
    "Deno.version"
   ]
  },
  {
   "cell_type": "code",
   "execution_count": 10,
   "id": "be280139-dcf4-4ed2-994c-5999a943226b",
   "metadata": {},
   "outputs": [
    {
     "data": {
      "text/plain": [
       "\u001b[32m\"undefined\"\u001b[39m"
      ]
     },
     "execution_count": 10,
     "metadata": {},
     "output_type": "execute_result"
    }
   ],
   "source": []
  },
  {
   "cell_type": "code",
   "execution_count": 12,
   "id": "68bd1394-46fd-468c-bc48-93c08bc44b9f",
   "metadata": {},
   "outputs": [
    {
     "data": {
      "text/plain": [
       "[ \u001b[32m\"length\"\u001b[39m, \u001b[32m\"name\"\u001b[39m, \u001b[32m\"prototype\"\u001b[39m ]"
      ]
     },
     "execution_count": 12,
     "metadata": {},
     "output_type": "execute_result"
    }
   ],
   "source": [
    "Object.getOwnPropertyNames(Deno.Process)"
   ]
  },
  {
   "cell_type": "code",
   "execution_count": 13,
   "id": "608377d5-cee8-4dc0-a936-ec3d54367858",
   "metadata": {},
   "outputs": [
    {
     "data": {
      "text/plain": [
       "[ \u001b[32m\"constructor\"\u001b[39m, \u001b[32m\"status\"\u001b[39m, \u001b[32m\"output\"\u001b[39m, \u001b[32m\"stderrOutput\"\u001b[39m, \u001b[32m\"close\"\u001b[39m, \u001b[32m\"kill\"\u001b[39m ]"
      ]
     },
     "execution_count": 13,
     "metadata": {},
     "output_type": "execute_result"
    }
   ],
   "source": [
    "Object.getOwnPropertyNames(Deno.Process.prototype)"
   ]
  },
  {
   "cell_type": "code",
   "execution_count": null,
   "id": "87e07327-f9d1-4236-adb9-305806dfc273",
   "metadata": {},
   "outputs": [],
   "source": []
  }
 ],
 "metadata": {
  "kernelspec": {
   "display_name": "Deno",
   "language": "typescript",
   "name": "deno"
  },
  "language_info": {
   "file_extension": ".ts",
   "mimetype": "text/x.typescript",
   "name": "typescript",
   "nb_converter": "script",
   "pygments_lexer": "typescript",
   "version": "5.2.2"
  }
 },
 "nbformat": 4,
 "nbformat_minor": 5
}
