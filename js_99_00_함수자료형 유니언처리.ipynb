{
 "cells": [
  {
   "cell_type": "code",
   "execution_count": null,
   "id": "4f1a2bc2-d4f3-484f-bd77-9acd1845e371",
   "metadata": {},
   "outputs": [],
   "source": []
  },
  {
   "cell_type": "code",
   "execution_count": null,
   "id": "b6bea643-3c54-45d8-ac1b-1d744460d9cf",
   "metadata": {},
   "outputs": [],
   "source": []
  },
  {
   "cell_type": "code",
   "execution_count": null,
   "id": "4fedf7d0-67b4-4c08-8843-1c399af80b9e",
   "metadata": {},
   "outputs": [],
   "source": [
    "type A = { name : string };"
   ]
  },
  {
   "cell_type": "code",
   "execution_count": 1,
   "id": "5d83de13-c0d0-4bdc-a596-25565e38fcd0",
   "metadata": {},
   "outputs": [
    {
     "data": {},
     "execution_count": 1,
     "metadata": {},
     "output_type": "execute_result"
    }
   ],
   "source": [
    "type B = { age : number };"
   ]
  },
  {
   "cell_type": "markdown",
   "id": "49aaf953-3b9a-411c-a6c9-1a6dae7c98dc",
   "metadata": {},
   "source": [
    "## 두개의 함수 자료형을 유니언처리 => 할당가능한 함수 자료형의 인자는 인자의 인터섹션 처리한 경우만 가능\n"
   ]
  },
  {
   "cell_type": "code",
   "execution_count": 7,
   "id": "4f10bc5b-301b-4228-94a3-544ff5ebbbc8",
   "metadata": {},
   "outputs": [
    {
     "data": {},
     "execution_count": 7,
     "metadata": {},
     "output_type": "execute_result"
    }
   ],
   "source": [
    "const ab : ((a:A) => string) | ((b:B) => number ) = (a : A & B ) => a.name;"
   ]
  },
  {
   "cell_type": "code",
   "execution_count": 8,
   "id": "32bd44de-b707-406e-9cc4-63e89502eb00",
   "metadata": {},
   "outputs": [
    {
     "data": {
      "text/plain": [
       "\u001b[32m\"가가\"\u001b[39m"
      ]
     },
     "execution_count": 8,
     "metadata": {},
     "output_type": "execute_result"
    }
   ],
   "source": [
    "ab({name:\"가가\", age:33});"
   ]
  },
  {
   "cell_type": "code",
   "execution_count": null,
   "id": "f228cc16-a5a9-473b-85fb-2b4951e48c4a",
   "metadata": {},
   "outputs": [],
   "source": []
  }
 ],
 "metadata": {
  "kernelspec": {
   "display_name": "Deno",
   "language": "typescript",
   "name": "deno"
  },
  "language_info": {
   "file_extension": ".ts",
   "mimetype": "text/x.typescript",
   "name": "typescript",
   "nb_converter": "script",
   "pygments_lexer": "typescript",
   "version": "5.2.2"
  }
 },
 "nbformat": 4,
 "nbformat_minor": 5
}
