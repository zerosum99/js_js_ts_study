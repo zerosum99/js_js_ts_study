{
 "cells": [
  {
   "cell_type": "code",
   "execution_count": null,
   "id": "e7502e38-18a5-4e99-8421-11f3ecb0d92b",
   "metadata": {},
   "outputs": [],
   "source": []
  },
  {
   "cell_type": "code",
   "execution_count": null,
   "id": "2104a90b-dffa-42d9-bd69-ce419512ae64",
   "metadata": {},
   "outputs": [],
   "source": []
  },
  {
   "cell_type": "markdown",
   "id": "60b48ea4-790e-4a96-a9fe-243321311985",
   "metadata": {},
   "source": [
    "## declare 키워드는 주로 다음과 같은 상황에서 사용됩니다:\n",
    "\n",
    "- 외부 라이브러리와의 통합: 외부 JavaScript 라이브러리를 TypeScript 프로젝트에 통합할 때 declare를 사용하여 해당 라이브러리의 타입 정보를 선언합니다.\n",
    "\n",
    "- 전역 변수 및 함수: 프로젝트 내에서 사용하는 전역 변수나 함수를 TypeScript에 알리는 데 사용됩니다.\n",
    "\n",
    "- 모듈 타입 선언: 모듈 시스템에서 외부 모듈의 타입 정보를 제공하기 위해 사용됩니다."
   ]
  },
  {
   "cell_type": "code",
   "execution_count": 1,
   "id": "a5d73940-61c7-4d95-8c64-74cb832fbf69",
   "metadata": {},
   "outputs": [
    {
     "data": {},
     "execution_count": 1,
     "metadata": {},
     "output_type": "execute_result"
    }
   ],
   "source": [
    "\n",
    "// 외부 라이브러리 또는 프레임워크의 타입을 정의합니다.\n",
    "declare namespace foo {\n",
    "  interface Bar {\n",
    "    name: string;\n",
    "  }\n",
    "}\n",
    "\n",
    "// 외부 라이브러리 또는 프레임워크를 사용할 수 있습니다.\n",
    "const bar: foo.Bar = {\n",
    "  name: \"bar\",\n",
    "};"
   ]
  },
  {
   "cell_type": "code",
   "execution_count": null,
   "id": "234b6714-8dfd-414f-b2b2-195d7bb9c965",
   "metadata": {},
   "outputs": [],
   "source": []
  }
 ],
 "metadata": {
  "kernelspec": {
   "display_name": "Deno",
   "language": "typescript",
   "name": "deno"
  },
  "language_info": {
   "file_extension": ".ts",
   "mimetype": "text/x.typescript",
   "name": "typescript",
   "nb_converter": "script",
   "pygments_lexer": "typescript",
   "version": "5.2.2"
  }
 },
 "nbformat": 4,
 "nbformat_minor": 5
}
