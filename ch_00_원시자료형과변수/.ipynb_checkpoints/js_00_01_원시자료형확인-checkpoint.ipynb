{
 "cells": [
  {
   "cell_type": "markdown",
   "id": "a199a34a-4e20-4a28-a9b1-9bda3d918fc2",
   "metadata": {},
   "source": [
    "## 1.  문자열 타입 \n",
    "\n",
    "- 생성자함수로 객체가 만들어짐\n",
    "- 프로퍼타입 객체 확인 "
   ]
  },
  {
   "cell_type": "markdown",
   "id": "b31de4da-9a92-4e9f-9ecd-ea5cf94a2378",
   "metadata": {},
   "source": [
    "## 1-1 문자열 관련 프로퍼티 확인 "
   ]
  },
  {
   "cell_type": "markdown",
   "id": "5004da9e-0620-4d3d-b849-51fabd153dfd",
   "metadata": {},
   "source": [
    "## 생성자함수의 프로퍼티 "
   ]
  },
  {
   "cell_type": "code",
   "execution_count": 32,
   "id": "5d6a282e-0608-4e4c-9533-84b6e2f0289c",
   "metadata": {},
   "outputs": [
    {
     "data": {
      "text/plain": [
       "[\n",
       "  \u001b[32m\"length\"\u001b[39m,\n",
       "  \u001b[32m\"name\"\u001b[39m,\n",
       "  \u001b[32m\"prototype\"\u001b[39m,\n",
       "  \u001b[32m\"fromCharCode\"\u001b[39m,\n",
       "  \u001b[32m\"fromCodePoint\"\u001b[39m,\n",
       "  \u001b[32m\"raw\"\u001b[39m\n",
       "]"
      ]
     },
     "execution_count": 32,
     "metadata": {},
     "output_type": "execute_result"
    }
   ],
   "source": [
    "Object.getOwnPropertyNames(String)"
   ]
  },
  {
   "cell_type": "markdown",
   "id": "330e7648-8914-4bb8-b93f-eacc8d0089ac",
   "metadata": {},
   "source": [
    "## 문자열 프러퍼티 객체의 프로퍼티"
   ]
  },
  {
   "cell_type": "code",
   "execution_count": 26,
   "id": "cd87b123-000d-4790-97db-9f0d6fe48598",
   "metadata": {},
   "outputs": [
    {
     "data": {
      "text/plain": [
       "[\n",
       "  \u001b[32m\"length\"\u001b[39m,            \u001b[32m\"constructor\"\u001b[39m,       \u001b[32m\"anchor\"\u001b[39m,\n",
       "  \u001b[32m\"at\"\u001b[39m,                \u001b[32m\"big\"\u001b[39m,               \u001b[32m\"blink\"\u001b[39m,\n",
       "  \u001b[32m\"bold\"\u001b[39m,              \u001b[32m\"charAt\"\u001b[39m,            \u001b[32m\"charCodeAt\"\u001b[39m,\n",
       "  \u001b[32m\"codePointAt\"\u001b[39m,       \u001b[32m\"concat\"\u001b[39m,            \u001b[32m\"endsWith\"\u001b[39m,\n",
       "  \u001b[32m\"fontcolor\"\u001b[39m,         \u001b[32m\"fontsize\"\u001b[39m,          \u001b[32m\"fixed\"\u001b[39m,\n",
       "  \u001b[32m\"includes\"\u001b[39m,          \u001b[32m\"indexOf\"\u001b[39m,           \u001b[32m\"italics\"\u001b[39m,\n",
       "  \u001b[32m\"lastIndexOf\"\u001b[39m,       \u001b[32m\"link\"\u001b[39m,              \u001b[32m\"localeCompare\"\u001b[39m,\n",
       "  \u001b[32m\"match\"\u001b[39m,             \u001b[32m\"matchAll\"\u001b[39m,          \u001b[32m\"normalize\"\u001b[39m,\n",
       "  \u001b[32m\"padEnd\"\u001b[39m,            \u001b[32m\"padStart\"\u001b[39m,          \u001b[32m\"repeat\"\u001b[39m,\n",
       "  \u001b[32m\"replace\"\u001b[39m,           \u001b[32m\"replaceAll\"\u001b[39m,        \u001b[32m\"search\"\u001b[39m,\n",
       "  \u001b[32m\"slice\"\u001b[39m,             \u001b[32m\"small\"\u001b[39m,             \u001b[32m\"split\"\u001b[39m,\n",
       "  \u001b[32m\"strike\"\u001b[39m,            \u001b[32m\"sub\"\u001b[39m,               \u001b[32m\"substr\"\u001b[39m,\n",
       "  \u001b[32m\"substring\"\u001b[39m,         \u001b[32m\"sup\"\u001b[39m,               \u001b[32m\"startsWith\"\u001b[39m,\n",
       "  \u001b[32m\"toString\"\u001b[39m,          \u001b[32m\"trim\"\u001b[39m,              \u001b[32m\"trimStart\"\u001b[39m,\n",
       "  \u001b[32m\"trimLeft\"\u001b[39m,          \u001b[32m\"trimEnd\"\u001b[39m,           \u001b[32m\"trimRight\"\u001b[39m,\n",
       "  \u001b[32m\"toLocaleLowerCase\"\u001b[39m, \u001b[32m\"toLocaleUpperCase\"\u001b[39m, \u001b[32m\"toLowerCase\"\u001b[39m,\n",
       "  \u001b[32m\"toUpperCase\"\u001b[39m,       \u001b[32m\"valueOf\"\u001b[39m,           \u001b[32m\"isWellFormed\"\u001b[39m,\n",
       "  \u001b[32m\"toWellFormed\"\u001b[39m\n",
       "]"
      ]
     },
     "execution_count": 26,
     "metadata": {},
     "output_type": "execute_result"
    }
   ],
   "source": [
    "Object.getOwnPropertyNames(String.prototype)"
   ]
  },
  {
   "cell_type": "code",
   "execution_count": null,
   "id": "241122be-7eef-4732-8e80-c63520d39b81",
   "metadata": {},
   "outputs": [],
   "source": []
  },
  {
   "cell_type": "markdown",
   "id": "f2491848-13ab-4fa9-891b-0a2b29fa3f26",
   "metadata": {},
   "source": [
    "## 1-2  문자열  객체 생성 "
   ]
  },
  {
   "cell_type": "markdown",
   "id": "b664624f-24d4-4fad-83ae-7623e23cb57a",
   "metadata": {},
   "source": [
    "## 리터럴 객체 생성 "
   ]
  },
  {
   "cell_type": "code",
   "execution_count": 1,
   "id": "0a248be6-4feb-489c-b16e-766189913a0e",
   "metadata": {},
   "outputs": [
    {
     "data": {},
     "execution_count": 1,
     "metadata": {},
     "output_type": "execute_result"
    }
   ],
   "source": [
    "const str : string = \"Hello\";"
   ]
  },
  {
   "cell_type": "code",
   "execution_count": 8,
   "id": "82aeb1b2-0345-4edb-b0a6-65fd34adf8ae",
   "metadata": {},
   "outputs": [
    {
     "data": {
      "text/plain": [
       "\u001b[33mtrue\u001b[39m"
      ]
     },
     "execution_count": 8,
     "metadata": {},
     "output_type": "execute_result"
    }
   ],
   "source": [
    "Object.getPrototypeOf(str) === String.prototype"
   ]
  },
  {
   "cell_type": "code",
   "execution_count": 7,
   "id": "35a640ab-eb88-4e26-b613-acdefc76ef45",
   "metadata": {},
   "outputs": [
    {
     "data": {
      "text/plain": [
       "{}"
      ]
     },
     "execution_count": 7,
     "metadata": {},
     "output_type": "execute_result"
    }
   ],
   "source": [
    "Object.getPrototypeOf(str)"
   ]
  },
  {
   "cell_type": "code",
   "execution_count": 13,
   "id": "c41919ea-70f0-4e19-a49c-01d242daec55",
   "metadata": {},
   "outputs": [
    {
     "data": {},
     "execution_count": 13,
     "metadata": {},
     "output_type": "execute_result"
    }
   ],
   "source": [
    "const str1 : string = new String(\"Hello String\");"
   ]
  },
  {
   "cell_type": "code",
   "execution_count": 14,
   "id": "0541b281-6224-4e29-b4f8-91bf5e834001",
   "metadata": {},
   "outputs": [
    {
     "data": {
      "text/plain": [
       "\u001b[33mtrue\u001b[39m"
      ]
     },
     "execution_count": 14,
     "metadata": {},
     "output_type": "execute_result"
    }
   ],
   "source": [
    "Object.getPrototypeOf(str1) === String.prototype"
   ]
  },
  {
   "cell_type": "code",
   "execution_count": null,
   "id": "36e34632-8023-47dd-aec1-98fa02343b8f",
   "metadata": {},
   "outputs": [],
   "source": []
  },
  {
   "cell_type": "markdown",
   "id": "0548bcca-6306-43bb-974e-4b1220ab5ef7",
   "metadata": {},
   "source": [
    "## 생성자함수로 객체 생성 "
   ]
  },
  {
   "cell_type": "code",
   "execution_count": 10,
   "id": "3fc944d2-1c00-44fd-abd3-ea009bdf5d2e",
   "metadata": {},
   "outputs": [
    {
     "data": {},
     "execution_count": 10,
     "metadata": {},
     "output_type": "execute_result"
    }
   ],
   "source": [
    "const str2 = new String(\"생성자함수로 객체생성\");"
   ]
  },
  {
   "cell_type": "code",
   "execution_count": 11,
   "id": "8fd9cf27-0e46-4184-94cd-85d55c9cb84c",
   "metadata": {},
   "outputs": [
    {
     "data": {},
     "execution_count": 11,
     "metadata": {},
     "output_type": "execute_result"
    },
    {
     "name": "stdout",
     "output_type": "stream",
     "text": [
      "{}\n"
     ]
    }
   ],
   "source": [
    "console.log(Object.getPrototypeOf(str2));"
   ]
  },
  {
   "cell_type": "code",
   "execution_count": 12,
   "id": "8337663e-5d59-473f-9221-cf401d317f59",
   "metadata": {},
   "outputs": [
    {
     "data": {
      "text/plain": [
       "\u001b[33mtrue\u001b[39m"
      ]
     },
     "execution_count": 12,
     "metadata": {},
     "output_type": "execute_result"
    }
   ],
   "source": [
    "Object.getPrototypeOf(str2) === String.prototype"
   ]
  },
  {
   "cell_type": "markdown",
   "id": "8e6784c2-05c7-4596-b6b9-889753b1458f",
   "metadata": {},
   "source": [
    "## 문자열 길이 프로퍼터"
   ]
  },
  {
   "cell_type": "code",
   "execution_count": 32,
   "id": "34307baa-1ad4-4521-a881-8d6145290c2e",
   "metadata": {},
   "outputs": [
    {
     "data": {
      "text/plain": [
       "\u001b[33m12\u001b[39m"
      ]
     },
     "execution_count": 32,
     "metadata": {},
     "output_type": "execute_result"
    }
   ],
   "source": [
    "str1.length"
   ]
  },
  {
   "cell_type": "code",
   "execution_count": 37,
   "id": "924b0a9d-82ea-454c-b068-78c8d13a3c64",
   "metadata": {},
   "outputs": [
    {
     "data": {
      "text/plain": [
       "\u001b[32m\"String\"\u001b[39m"
      ]
     },
     "execution_count": 37,
     "metadata": {},
     "output_type": "execute_result"
    }
   ],
   "source": [
    "String.name"
   ]
  },
  {
   "cell_type": "code",
   "execution_count": 36,
   "id": "201a4e3c-aa42-4771-b2b5-bf0372e372fc",
   "metadata": {},
   "outputs": [
    {
     "data": {
      "text/plain": [
       "\u001b[32m\"½+¾=\"\u001b[39m"
      ]
     },
     "execution_count": 36,
     "metadata": {},
     "output_type": "execute_result"
    }
   ],
   "source": [
    "String.fromCharCode(189, 43, 190, 61)"
   ]
  },
  {
   "cell_type": "code",
   "execution_count": 38,
   "id": "fe6dfc00-83c5-4b3c-8198-3f8276ad9575",
   "metadata": {},
   "outputs": [
    {
     "data": {
      "text/plain": [
       "\u001b[32m\"☃★♲你\"\u001b[39m"
      ]
     },
     "execution_count": 38,
     "metadata": {},
     "output_type": "execute_result"
    }
   ],
   "source": [
    "String.fromCodePoint(9731, 9733, 9842, 0x2f804)"
   ]
  },
  {
   "cell_type": "code",
   "execution_count": null,
   "id": "0b7ac513-666a-42a2-923e-70bcd05c2442",
   "metadata": {},
   "outputs": [],
   "source": []
  },
  {
   "cell_type": "code",
   "execution_count": null,
   "id": "b1a646e6-99f4-4e9f-a201-fb574c0d0001",
   "metadata": {},
   "outputs": [],
   "source": []
  },
  {
   "cell_type": "markdown",
   "id": "f50e933d-9466-496c-b04b-d9e5436dd863",
   "metadata": {},
   "source": [
    "## 2 숫자"
   ]
  },
  {
   "cell_type": "markdown",
   "id": "ba744818-ee72-4867-bced-aec21adab4cf",
   "metadata": {},
   "source": [
    "## 2-1 프로퍼티 확인 "
   ]
  },
  {
   "cell_type": "code",
   "execution_count": 33,
   "id": "b3a2cfa3-5d62-440f-a0bb-3d0950b0191b",
   "metadata": {},
   "outputs": [
    {
     "data": {
      "text/plain": [
       "[\n",
       "  \u001b[32m\"length\"\u001b[39m,            \u001b[32m\"name\"\u001b[39m,\n",
       "  \u001b[32m\"prototype\"\u001b[39m,         \u001b[32m\"isFinite\"\u001b[39m,\n",
       "  \u001b[32m\"isInteger\"\u001b[39m,         \u001b[32m\"isNaN\"\u001b[39m,\n",
       "  \u001b[32m\"isSafeInteger\"\u001b[39m,     \u001b[32m\"parseFloat\"\u001b[39m,\n",
       "  \u001b[32m\"parseInt\"\u001b[39m,          \u001b[32m\"MAX_VALUE\"\u001b[39m,\n",
       "  \u001b[32m\"MIN_VALUE\"\u001b[39m,         \u001b[32m\"NaN\"\u001b[39m,\n",
       "  \u001b[32m\"NEGATIVE_INFINITY\"\u001b[39m, \u001b[32m\"POSITIVE_INFINITY\"\u001b[39m,\n",
       "  \u001b[32m\"MAX_SAFE_INTEGER\"\u001b[39m,  \u001b[32m\"MIN_SAFE_INTEGER\"\u001b[39m,\n",
       "  \u001b[32m\"EPSILON\"\u001b[39m\n",
       "]"
      ]
     },
     "execution_count": 33,
     "metadata": {},
     "output_type": "execute_result"
    }
   ],
   "source": [
    "Object.getOwnPropertyNames(Number);"
   ]
  },
  {
   "cell_type": "code",
   "execution_count": 27,
   "id": "34668b75-facd-49f6-9e3c-d12e27996e13",
   "metadata": {},
   "outputs": [
    {
     "data": {
      "text/plain": [
       "[\n",
       "  \u001b[32m\"constructor\"\u001b[39m,\n",
       "  \u001b[32m\"toExponential\"\u001b[39m,\n",
       "  \u001b[32m\"toFixed\"\u001b[39m,\n",
       "  \u001b[32m\"toPrecision\"\u001b[39m,\n",
       "  \u001b[32m\"toString\"\u001b[39m,\n",
       "  \u001b[32m\"valueOf\"\u001b[39m,\n",
       "  \u001b[32m\"toLocaleString\"\u001b[39m\n",
       "]"
      ]
     },
     "execution_count": 27,
     "metadata": {},
     "output_type": "execute_result"
    }
   ],
   "source": [
    "Object.getOwnPropertyNames(Number.prototype)"
   ]
  },
  {
   "cell_type": "markdown",
   "id": "eb04a917-4871-4d90-99cf-308785d96dc0",
   "metadata": {},
   "source": [
    "## 2-2 숫자 객체 생성  "
   ]
  },
  {
   "cell_type": "markdown",
   "id": "d691021e-c387-44cb-8af9-9b1bd9c77f3f",
   "metadata": {},
   "source": [
    "## 숫자 리터럴로 생성 "
   ]
  },
  {
   "cell_type": "code",
   "execution_count": 17,
   "id": "6bd6888f-0c91-4d69-88ba-49c459235fc0",
   "metadata": {},
   "outputs": [
    {
     "data": {},
     "execution_count": 17,
     "metadata": {},
     "output_type": "execute_result"
    }
   ],
   "source": [
    "const num : numbdr = 100;"
   ]
  },
  {
   "cell_type": "code",
   "execution_count": 18,
   "id": "76c8c014-dc60-4520-926b-3b0aa4b543dd",
   "metadata": {},
   "outputs": [
    {
     "data": {
      "text/plain": [
       "\u001b[33m100\u001b[39m"
      ]
     },
     "execution_count": 18,
     "metadata": {},
     "output_type": "execute_result"
    }
   ],
   "source": [
    "num"
   ]
  },
  {
   "cell_type": "code",
   "execution_count": 31,
   "id": "87102eb7-c65b-4e91-b8a5-4bee5799f89c",
   "metadata": {},
   "outputs": [
    {
     "data": {
      "text/plain": [
       "\u001b[33m100\u001b[39m"
      ]
     },
     "execution_count": 31,
     "metadata": {},
     "output_type": "execute_result"
    }
   ],
   "source": [
    "num.valueOf()"
   ]
  },
  {
   "cell_type": "code",
   "execution_count": null,
   "id": "c675efa9-9d0d-42ee-99d2-dbd249a75568",
   "metadata": {},
   "outputs": [],
   "source": []
  },
  {
   "cell_type": "markdown",
   "id": "de934a4a-7cea-4672-ac11-d62c321485c7",
   "metadata": {},
   "source": [
    "## 숫자 생성자 함수 "
   ]
  },
  {
   "cell_type": "code",
   "execution_count": 15,
   "id": "59a02d41-3f6c-4300-84f3-c3ea1c63bbb0",
   "metadata": {},
   "outputs": [
    {
     "data": {},
     "execution_count": 15,
     "metadata": {},
     "output_type": "execute_result"
    }
   ],
   "source": [
    "const num1 = new Number(100);"
   ]
  },
  {
   "cell_type": "code",
   "execution_count": 16,
   "id": "d2bd6c47-7c0b-406e-af0e-b652206a1758",
   "metadata": {},
   "outputs": [
    {
     "data": {
      "text/plain": [
       "\u001b[33m[Number: 100]\u001b[39m"
      ]
     },
     "execution_count": 16,
     "metadata": {},
     "output_type": "execute_result"
    }
   ],
   "source": [
    "num1"
   ]
  },
  {
   "cell_type": "code",
   "execution_count": 30,
   "id": "10081c50-e460-4edf-9f46-209dc1333dd9",
   "metadata": {},
   "outputs": [
    {
     "data": {
      "text/plain": [
       "\u001b[33m100\u001b[39m"
      ]
     },
     "execution_count": 30,
     "metadata": {},
     "output_type": "execute_result"
    }
   ],
   "source": [
    "num1.valueOf()"
   ]
  },
  {
   "cell_type": "code",
   "execution_count": null,
   "id": "3631b88b-4d7b-4165-be26-750aafa3f8bf",
   "metadata": {},
   "outputs": [],
   "source": []
  },
  {
   "cell_type": "code",
   "execution_count": 40,
   "id": "197bc8aa-51e2-4edd-bf4f-6ba4e3d30f45",
   "metadata": {},
   "outputs": [
    {
     "data": {
      "text/plain": [
       "\u001b[33m1\u001b[39m"
      ]
     },
     "execution_count": 40,
     "metadata": {},
     "output_type": "execute_result"
    }
   ],
   "source": [
    "Number.length"
   ]
  },
  {
   "cell_type": "code",
   "execution_count": 41,
   "id": "596ad066-8f57-45bb-8abb-c29e9deb57ed",
   "metadata": {},
   "outputs": [
    {
     "data": {
      "text/plain": [
       "\u001b[32m\"Number\"\u001b[39m"
      ]
     },
     "execution_count": 41,
     "metadata": {},
     "output_type": "execute_result"
    }
   ],
   "source": [
    "Number.name"
   ]
  },
  {
   "cell_type": "code",
   "execution_count": null,
   "id": "97df1908-6979-4cfe-ae6f-3a6909e4ba07",
   "metadata": {},
   "outputs": [],
   "source": []
  },
  {
   "cell_type": "markdown",
   "id": "e01c90b3-1dfb-4ef1-9395-d7000d68f3a0",
   "metadata": {},
   "source": [
    "## 3 불리언"
   ]
  },
  {
   "cell_type": "code",
   "execution_count": 34,
   "id": "e7045432-8c43-4087-b491-fe0eb3fe0f66",
   "metadata": {},
   "outputs": [
    {
     "data": {
      "text/plain": [
       "[ \u001b[32m\"length\"\u001b[39m, \u001b[32m\"name\"\u001b[39m, \u001b[32m\"prototype\"\u001b[39m ]"
      ]
     },
     "execution_count": 34,
     "metadata": {},
     "output_type": "execute_result"
    }
   ],
   "source": [
    "Object.getOwnPropertyNames(Boolean)"
   ]
  },
  {
   "cell_type": "code",
   "execution_count": null,
   "id": "32698227-a77a-4bd5-9248-aab790d9ef37",
   "metadata": {},
   "outputs": [],
   "source": []
  },
  {
   "cell_type": "code",
   "execution_count": 28,
   "id": "d7a55e81-3126-4d01-9c42-30fd3182de05",
   "metadata": {},
   "outputs": [
    {
     "data": {
      "text/plain": [
       "[ \u001b[32m\"constructor\"\u001b[39m, \u001b[32m\"toString\"\u001b[39m, \u001b[32m\"valueOf\"\u001b[39m ]"
      ]
     },
     "execution_count": 28,
     "metadata": {},
     "output_type": "execute_result"
    }
   ],
   "source": [
    "Object.getOwnPropertyNames(Boolean.prototype)"
   ]
  },
  {
   "cell_type": "code",
   "execution_count": null,
   "id": "c46c6baf-af51-4364-8ba6-ec3f9878786c",
   "metadata": {},
   "outputs": [],
   "source": []
  },
  {
   "cell_type": "code",
   "execution_count": 22,
   "id": "0728b7bd-8f58-40df-98c7-2ce7df495ce9",
   "metadata": {},
   "outputs": [
    {
     "data": {},
     "execution_count": 22,
     "metadata": {},
     "output_type": "execute_result"
    }
   ],
   "source": [
    "const bool : boolean = true;"
   ]
  },
  {
   "cell_type": "code",
   "execution_count": 23,
   "id": "938fe39c-8628-4ac4-b708-8eecc6813c93",
   "metadata": {},
   "outputs": [
    {
     "data": {
      "text/plain": [
       "\u001b[33mtrue\u001b[39m"
      ]
     },
     "execution_count": 23,
     "metadata": {},
     "output_type": "execute_result"
    }
   ],
   "source": [
    "bool"
   ]
  },
  {
   "cell_type": "code",
   "execution_count": 19,
   "id": "d56e4456-d872-4b37-9c98-5e2da3a4ab2f",
   "metadata": {},
   "outputs": [
    {
     "data": {},
     "execution_count": 19,
     "metadata": {},
     "output_type": "execute_result"
    }
   ],
   "source": [
    "const bool1 = new Boolean(true);"
   ]
  },
  {
   "cell_type": "code",
   "execution_count": 20,
   "id": "8256478b-e80b-4889-a4f0-4c0641c7384b",
   "metadata": {},
   "outputs": [
    {
     "data": {
      "text/plain": [
       "\u001b[33m[Boolean: true]\u001b[39m"
      ]
     },
     "execution_count": 20,
     "metadata": {},
     "output_type": "execute_result"
    }
   ],
   "source": [
    "bool1"
   ]
  },
  {
   "cell_type": "code",
   "execution_count": null,
   "id": "803a6a69-58ba-44e7-ba90-bfb475539721",
   "metadata": {},
   "outputs": [],
   "source": []
  },
  {
   "cell_type": "code",
   "execution_count": 42,
   "id": "a9b53393-5bf1-4db2-b0b7-b0fe1a102cbc",
   "metadata": {},
   "outputs": [
    {
     "data": {
      "text/plain": [
       "\u001b[32m\"Boolean\"\u001b[39m"
      ]
     },
     "execution_count": 42,
     "metadata": {},
     "output_type": "execute_result"
    }
   ],
   "source": [
    "Boolean.name"
   ]
  },
  {
   "cell_type": "code",
   "execution_count": null,
   "id": "6fb57864-9671-4b50-8e20-e2a15eeb081d",
   "metadata": {},
   "outputs": [],
   "source": []
  },
  {
   "cell_type": "markdown",
   "id": "22f84aca-2625-4e29-b001-9f67cec5a961",
   "metadata": {},
   "source": [
    "## 4 아무것도 없는 객체 "
   ]
  },
  {
   "cell_type": "code",
   "execution_count": null,
   "id": "2faf30fa-145c-40d2-b799-c55e2ff6fe77",
   "metadata": {},
   "outputs": [],
   "source": []
  },
  {
   "cell_type": "code",
   "execution_count": 28,
   "id": "88a00f23-a43e-4d83-9efa-bb1665dfe8b4",
   "metadata": {},
   "outputs": [
    {
     "ename": "TypeError",
     "evalue": "Cannot convert undefined or null to object",
     "output_type": "error",
     "traceback": [
      "Stack trace:",
      "TypeError: Cannot convert undefined or null to object",
      "    at Function.getOwnPropertyNames (<anonymous>)",
      "    at <anonymous>:2:8"
     ]
    }
   ],
   "source": [
    "Object.getOwnPropertyNames(null);"
   ]
  },
  {
   "cell_type": "code",
   "execution_count": 24,
   "id": "9453b177-d6a4-47cd-b056-a31517aeb400",
   "metadata": {},
   "outputs": [
    {
     "data": {},
     "execution_count": 24,
     "metadata": {},
     "output_type": "execute_result"
    }
   ],
   "source": [
    "const n : null = null;"
   ]
  },
  {
   "cell_type": "code",
   "execution_count": 25,
   "id": "614c1b46-7578-4383-ad36-0910bef3bc3d",
   "metadata": {},
   "outputs": [
    {
     "data": {
      "text/plain": [
       "\u001b[1mnull\u001b[22m"
      ]
     },
     "execution_count": 25,
     "metadata": {},
     "output_type": "execute_result"
    }
   ],
   "source": [
    "n"
   ]
  },
  {
   "cell_type": "code",
   "execution_count": 29,
   "id": "6cf12ba1-73e8-429a-93dd-dc5daf0d12d7",
   "metadata": {},
   "outputs": [
    {
     "ename": "TypeError",
     "evalue": "Cannot convert undefined or null to object",
     "output_type": "error",
     "traceback": [
      "Stack trace:",
      "TypeError: Cannot convert undefined or null to object",
      "    at Function.getOwnPropertyNames (<anonymous>)",
      "    at <anonymous>:2:8"
     ]
    }
   ],
   "source": [
    "Object.getOwnPropertyNames(undefined);"
   ]
  },
  {
   "cell_type": "code",
   "execution_count": 26,
   "id": "e219628d-c743-4b2e-864e-d10298451834",
   "metadata": {},
   "outputs": [
    {
     "data": {},
     "execution_count": 26,
     "metadata": {},
     "output_type": "execute_result"
    }
   ],
   "source": [
    "const d : undefinde = undefined;"
   ]
  },
  {
   "cell_type": "code",
   "execution_count": 27,
   "id": "e0243ceb-3940-46c0-b9cb-c10f16df2d5a",
   "metadata": {},
   "outputs": [
    {
     "data": {},
     "execution_count": 27,
     "metadata": {},
     "output_type": "execute_result"
    }
   ],
   "source": [
    "d"
   ]
  },
  {
   "cell_type": "code",
   "execution_count": null,
   "id": "a7206281-8bba-49d1-859f-4fca97d17659",
   "metadata": {},
   "outputs": [],
   "source": []
  },
  {
   "cell_type": "code",
   "execution_count": null,
   "id": "2a83d1c8-61c4-47e5-be5f-85d36cc28e43",
   "metadata": {},
   "outputs": [],
   "source": []
  },
  {
   "cell_type": "markdown",
   "id": "f845190e-a39c-450f-9c38-fb5743f4e36c",
   "metadata": {},
   "source": [
    "## 5. 심벌 "
   ]
  },
  {
   "cell_type": "code",
   "execution_count": 35,
   "id": "84cbb530-9076-45c3-9d41-90955ea74b10",
   "metadata": {},
   "outputs": [
    {
     "data": {
      "text/plain": [
       "[\n",
       "  \u001b[32m\"length\"\u001b[39m,      \u001b[32m\"name\"\u001b[39m,\n",
       "  \u001b[32m\"prototype\"\u001b[39m,   \u001b[32m\"for\"\u001b[39m,\n",
       "  \u001b[32m\"keyFor\"\u001b[39m,      \u001b[32m\"asyncIterator\"\u001b[39m,\n",
       "  \u001b[32m\"hasInstance\"\u001b[39m, \u001b[32m\"isConcatSpreadable\"\u001b[39m,\n",
       "  \u001b[32m\"iterator\"\u001b[39m,    \u001b[32m\"match\"\u001b[39m,\n",
       "  \u001b[32m\"matchAll\"\u001b[39m,    \u001b[32m\"replace\"\u001b[39m,\n",
       "  \u001b[32m\"search\"\u001b[39m,      \u001b[32m\"species\"\u001b[39m,\n",
       "  \u001b[32m\"split\"\u001b[39m,       \u001b[32m\"toPrimitive\"\u001b[39m,\n",
       "  \u001b[32m\"toStringTag\"\u001b[39m, \u001b[32m\"unscopables\"\u001b[39m,\n",
       "  \u001b[32m\"dispose\"\u001b[39m,     \u001b[32m\"asyncDispose\"\u001b[39m\n",
       "]"
      ]
     },
     "execution_count": 35,
     "metadata": {},
     "output_type": "execute_result"
    }
   ],
   "source": [
    "Object.getOwnPropertyNames(Symbol)"
   ]
  },
  {
   "cell_type": "code",
   "execution_count": 36,
   "id": "0fee9138-0688-4db0-948e-bfc5dc5ea202",
   "metadata": {},
   "outputs": [
    {
     "data": {
      "text/plain": [
       "[ \u001b[32m\"constructor\"\u001b[39m, \u001b[32m\"toString\"\u001b[39m, \u001b[32m\"valueOf\"\u001b[39m, \u001b[32m\"description\"\u001b[39m ]"
      ]
     },
     "execution_count": 36,
     "metadata": {},
     "output_type": "execute_result"
    }
   ],
   "source": [
    "Object.getOwnPropertyNames(Symbol.prototype)"
   ]
  },
  {
   "cell_type": "code",
   "execution_count": 45,
   "id": "6b98ed0b-4855-4437-b359-4745c6a188d4",
   "metadata": {},
   "outputs": [
    {
     "data": {},
     "execution_count": 45,
     "metadata": {},
     "output_type": "execute_result"
    }
   ],
   "source": [
    "const sym : symbol = Symbol('sym');"
   ]
  },
  {
   "cell_type": "code",
   "execution_count": 47,
   "id": "3cc0ca08-b70a-4452-9347-9c3a0abe1343",
   "metadata": {},
   "outputs": [
    {
     "data": {
      "text/plain": [
       "\u001b[32mSymbol(sym)\u001b[39m"
      ]
     },
     "execution_count": 47,
     "metadata": {},
     "output_type": "execute_result"
    }
   ],
   "source": [
    "sym.valueOf()"
   ]
  },
  {
   "cell_type": "code",
   "execution_count": 48,
   "id": "16ac8f2c-cf29-452c-ad48-34489e43ab76",
   "metadata": {},
   "outputs": [
    {
     "data": {
      "text/plain": [
       "\u001b[32m\"Symbol(sym)\"\u001b[39m"
      ]
     },
     "execution_count": 48,
     "metadata": {},
     "output_type": "execute_result"
    }
   ],
   "source": [
    "sym.toString()"
   ]
  },
  {
   "cell_type": "code",
   "execution_count": 43,
   "id": "cace10b7-8399-4f6d-ad28-4928d3ebf409",
   "metadata": {},
   "outputs": [
    {
     "data": {
      "text/plain": [
       "\u001b[32m\"Symbol\"\u001b[39m"
      ]
     },
     "execution_count": 43,
     "metadata": {},
     "output_type": "execute_result"
    }
   ],
   "source": [
    "Symbol.name"
   ]
  },
  {
   "cell_type": "code",
   "execution_count": null,
   "id": "edd21179-5f40-4948-8cfa-a8472b5cffed",
   "metadata": {},
   "outputs": [],
   "source": []
  },
  {
   "cell_type": "markdown",
   "id": "8729b3a5-b7c3-4af5-b34f-0755b485ccb4",
   "metadata": {},
   "source": [
    "## 6. 큰수 처리"
   ]
  },
  {
   "cell_type": "code",
   "execution_count": 37,
   "id": "7bb5ad7d-c220-4cf8-91fd-443518d4f6fe",
   "metadata": {},
   "outputs": [
    {
     "data": {
      "text/plain": [
       "[ \u001b[32m\"length\"\u001b[39m, \u001b[32m\"name\"\u001b[39m, \u001b[32m\"prototype\"\u001b[39m, \u001b[32m\"asUintN\"\u001b[39m, \u001b[32m\"asIntN\"\u001b[39m ]"
      ]
     },
     "execution_count": 37,
     "metadata": {},
     "output_type": "execute_result"
    }
   ],
   "source": [
    "Object.getOwnPropertyNames(BigInt)"
   ]
  },
  {
   "cell_type": "code",
   "execution_count": null,
   "id": "8fd6b9fe-d5f8-4e67-baee-de679a470c57",
   "metadata": {},
   "outputs": [],
   "source": []
  },
  {
   "cell_type": "code",
   "execution_count": 30,
   "id": "f22d33c6-25a7-48af-9b3c-112c1925c267",
   "metadata": {},
   "outputs": [
    {
     "data": {
      "text/plain": [
       "[ \u001b[32m\"constructor\"\u001b[39m, \u001b[32m\"toLocaleString\"\u001b[39m, \u001b[32m\"toString\"\u001b[39m, \u001b[32m\"valueOf\"\u001b[39m ]"
      ]
     },
     "execution_count": 30,
     "metadata": {},
     "output_type": "execute_result"
    }
   ],
   "source": [
    "Object.getOwnPropertyNames(BigInt.prototype)"
   ]
  },
  {
   "cell_type": "code",
   "execution_count": 17,
   "id": "6f891f4e-d36b-437d-a772-de308dbdb42d",
   "metadata": {},
   "outputs": [
    {
     "data": {},
     "execution_count": 17,
     "metadata": {},
     "output_type": "execute_result"
    }
   ],
   "source": [
    "const big : bigint = 10000n;"
   ]
  },
  {
   "cell_type": "code",
   "execution_count": null,
   "id": "396976e1-0f84-4ac0-a217-c9a22b7fb3eb",
   "metadata": {},
   "outputs": [],
   "source": []
  },
  {
   "cell_type": "code",
   "execution_count": null,
   "id": "15efecd7-2e97-4245-a20c-b8deb3c00ee7",
   "metadata": {},
   "outputs": [],
   "source": []
  },
  {
   "cell_type": "markdown",
   "id": "11319ce0-2562-4f1f-9f5e-c324b60726c1",
   "metadata": {},
   "source": [
    "## 7. 객체 "
   ]
  },
  {
   "cell_type": "code",
   "execution_count": 38,
   "id": "d70fbed5-88f1-49a0-a9b7-807a2cfeae94",
   "metadata": {},
   "outputs": [
    {
     "data": {
      "text/plain": [
       "[\n",
       "  \u001b[32m\"length\"\u001b[39m,\n",
       "  \u001b[32m\"name\"\u001b[39m,\n",
       "  \u001b[32m\"prototype\"\u001b[39m,\n",
       "  \u001b[32m\"assign\"\u001b[39m,\n",
       "  \u001b[32m\"getOwnPropertyDescriptor\"\u001b[39m,\n",
       "  \u001b[32m\"getOwnPropertyDescriptors\"\u001b[39m,\n",
       "  \u001b[32m\"getOwnPropertyNames\"\u001b[39m,\n",
       "  \u001b[32m\"getOwnPropertySymbols\"\u001b[39m,\n",
       "  \u001b[32m\"hasOwn\"\u001b[39m,\n",
       "  \u001b[32m\"is\"\u001b[39m,\n",
       "  \u001b[32m\"preventExtensions\"\u001b[39m,\n",
       "  \u001b[32m\"seal\"\u001b[39m,\n",
       "  \u001b[32m\"create\"\u001b[39m,\n",
       "  \u001b[32m\"defineProperties\"\u001b[39m,\n",
       "  \u001b[32m\"defineProperty\"\u001b[39m,\n",
       "  \u001b[32m\"freeze\"\u001b[39m,\n",
       "  \u001b[32m\"getPrototypeOf\"\u001b[39m,\n",
       "  \u001b[32m\"setPrototypeOf\"\u001b[39m,\n",
       "  \u001b[32m\"isExtensible\"\u001b[39m,\n",
       "  \u001b[32m\"isFrozen\"\u001b[39m,\n",
       "  \u001b[32m\"isSealed\"\u001b[39m,\n",
       "  \u001b[32m\"keys\"\u001b[39m,\n",
       "  \u001b[32m\"entries\"\u001b[39m,\n",
       "  \u001b[32m\"fromEntries\"\u001b[39m,\n",
       "  \u001b[32m\"values\"\u001b[39m,\n",
       "  \u001b[32m\"groupBy\"\u001b[39m\n",
       "]"
      ]
     },
     "execution_count": 38,
     "metadata": {},
     "output_type": "execute_result"
    }
   ],
   "source": [
    "Object.getOwnPropertyNames(Object)"
   ]
  },
  {
   "cell_type": "code",
   "execution_count": null,
   "id": "ce388769-6dab-4e5f-9d99-f87faee45990",
   "metadata": {},
   "outputs": [],
   "source": []
  },
  {
   "cell_type": "code",
   "execution_count": 31,
   "id": "0fe11e32-caae-4985-b4f6-3468ba541ed4",
   "metadata": {},
   "outputs": [
    {
     "data": {
      "text/plain": [
       "[\n",
       "  \u001b[32m\"constructor\"\u001b[39m,\n",
       "  \u001b[32m\"__defineGetter__\"\u001b[39m,\n",
       "  \u001b[32m\"__defineSetter__\"\u001b[39m,\n",
       "  \u001b[32m\"hasOwnProperty\"\u001b[39m,\n",
       "  \u001b[32m\"__lookupGetter__\"\u001b[39m,\n",
       "  \u001b[32m\"__lookupSetter__\"\u001b[39m,\n",
       "  \u001b[32m\"isPrototypeOf\"\u001b[39m,\n",
       "  \u001b[32m\"propertyIsEnumerable\"\u001b[39m,\n",
       "  \u001b[32m\"toString\"\u001b[39m,\n",
       "  \u001b[32m\"valueOf\"\u001b[39m,\n",
       "  \u001b[32m\"toLocaleString\"\u001b[39m\n",
       "]"
      ]
     },
     "execution_count": 31,
     "metadata": {},
     "output_type": "execute_result"
    }
   ],
   "source": [
    "Object.getOwnPropertyNames(Object.prototype)"
   ]
  },
  {
   "cell_type": "code",
   "execution_count": 18,
   "id": "18b8afe9-db3c-474b-a1ee-9e1eb437e74a",
   "metadata": {},
   "outputs": [
    {
     "data": {},
     "execution_count": 18,
     "metadata": {},
     "output_type": "execute_result"
    }
   ],
   "source": [
    "const obj : object = { hello : ' world'};"
   ]
  },
  {
   "cell_type": "code",
   "execution_count": null,
   "id": "4485ba20-cf2b-4785-afad-e1959e7bd7d4",
   "metadata": {},
   "outputs": [],
   "source": []
  }
 ],
 "metadata": {
  "kernelspec": {
   "display_name": "Deno",
   "language": "typescript",
   "name": "deno"
  },
  "language_info": {
   "file_extension": ".ts",
   "mimetype": "text/x.typescript",
   "name": "typescript",
   "nb_converter": "script",
   "pygments_lexer": "typescript",
   "version": "5.2.2"
  }
 },
 "nbformat": 4,
 "nbformat_minor": 5
}
