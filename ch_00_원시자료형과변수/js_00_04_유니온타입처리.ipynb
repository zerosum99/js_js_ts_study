{
 "cells": [
  {
   "cell_type": "code",
   "execution_count": null,
   "id": "f3e62316-6c64-4d47-8a78-893c35c55547",
   "metadata": {},
   "outputs": [],
   "source": []
  },
  {
   "cell_type": "code",
   "execution_count": null,
   "id": "5d7b331b-f68c-49c2-ad94-a71520247859",
   "metadata": {},
   "outputs": [],
   "source": []
  },
  {
   "cell_type": "markdown",
   "id": "e5a954f9-4446-4f49-b145-b812b38a630b",
   "metadata": {},
   "source": [
    "## 유니온 타입\n",
    "\n",
    "- 하나의 변수가 여러 타입을 가질 수 있는 가능성을 표시"
   ]
  },
  {
   "cell_type": "code",
   "execution_count": 1,
   "id": "eb9e84c2-ef6d-4f32-ab4a-4c8ba71f9b12",
   "metadata": {},
   "outputs": [
    {
     "data": {
      "text/plain": [
       "\u001b[33m1234\u001b[39m"
      ]
     },
     "execution_count": 1,
     "metadata": {},
     "output_type": "execute_result"
    }
   ],
   "source": [
    "let strOrNum : string | number = \"hello\";\n",
    "strOrNum = 1234;"
   ]
  },
  {
   "cell_type": "code",
   "execution_count": null,
   "id": "5cff67f7-6e5f-4e9f-8ee0-8682fd8df55a",
   "metadata": {},
   "outputs": [],
   "source": []
  },
  {
   "cell_type": "code",
   "execution_count": 5,
   "id": "f549373a-f81d-4f7d-9486-c56a3a701800",
   "metadata": {},
   "outputs": [
    {
     "data": {},
     "execution_count": 5,
     "metadata": {},
     "output_type": "execute_result"
    }
   ],
   "source": [
    "const arr2 : (number | string)[] = [1,\"3\", 5];"
   ]
  },
  {
   "cell_type": "code",
   "execution_count": 7,
   "id": "25573ba8-1587-4962-99e6-a1ba96452c66",
   "metadata": {},
   "outputs": [
    {
     "data": {},
     "execution_count": 7,
     "metadata": {},
     "output_type": "execute_result"
    },
    {
     "name": "stdout",
     "output_type": "stream",
     "text": [
      "객체타입\n"
     ]
    }
   ],
   "source": [
    "if (typeof arr2 == \"object\" ) {\n",
    "    console.log(\"객체타입\");\n",
    "}"
   ]
  },
  {
   "cell_type": "code",
   "execution_count": 2,
   "id": "2b12d3ba-c62e-42e1-8438-c45923f44aee",
   "metadata": {},
   "outputs": [
    {
     "data": {},
     "execution_count": 2,
     "metadata": {},
     "output_type": "execute_result"
    }
   ],
   "source": [
    "const arr3 = [1,\"3\", 5];"
   ]
  },
  {
   "cell_type": "code",
   "execution_count": 9,
   "id": "7759bd39-822a-4837-a611-dedb259b999d",
   "metadata": {},
   "outputs": [
    {
     "data": {},
     "execution_count": 9,
     "metadata": {},
     "output_type": "execute_result"
    },
    {
     "name": "stdout",
     "output_type": "stream",
     "text": [
      "object\n"
     ]
    }
   ],
   "source": [
    "console.log(typeof arr3);"
   ]
  },
  {
   "cell_type": "code",
   "execution_count": null,
   "id": "596e90b2-3bab-4ab2-ac5f-7594282f4176",
   "metadata": {},
   "outputs": [],
   "source": []
  },
  {
   "cell_type": "markdown",
   "id": "965be675-97a6-4647-904c-c77c3ce92bb7",
   "metadata": {},
   "source": [
    "## 타입 좁히기 "
   ]
  },
  {
   "cell_type": "code",
   "execution_count": 13,
   "id": "d34ab142-6b90-4efb-8197-5a72f9ea86dd",
   "metadata": {},
   "outputs": [
    {
     "data": {},
     "execution_count": 13,
     "metadata": {},
     "output_type": "execute_result"
    },
    {
     "name": "stdout",
     "output_type": "stream",
     "text": [
      "hello\n",
      "\u001b[33m1234\u001b[39m\n"
     ]
    }
   ],
   "source": [
    "let var1 : string | number = \"hello\";\n",
    "\n",
    "console.log(var1.toString());\n",
    "\n",
    "\n",
    "var1 = 1234;\n",
    "if (typeof var1 === 'number') {\n",
    "    var1.toFixed();\n",
    "    console.log(var1);\n",
    "}"
   ]
  },
  {
   "cell_type": "code",
   "execution_count": null,
   "id": "f27f1069-e1aa-4637-8007-ecec7ed5918b",
   "metadata": {},
   "outputs": [],
   "source": []
  }
 ],
 "metadata": {
  "kernelspec": {
   "display_name": "Deno",
   "language": "typescript",
   "name": "deno"
  },
  "language_info": {
   "file_extension": ".ts",
   "mimetype": "text/x.typescript",
   "name": "typescript",
   "nb_converter": "script",
   "pygments_lexer": "typescript",
   "version": "5.2.2"
  }
 },
 "nbformat": 4,
 "nbformat_minor": 5
}
