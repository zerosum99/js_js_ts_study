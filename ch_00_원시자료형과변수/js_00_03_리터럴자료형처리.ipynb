{
 "cells": [
  {
   "cell_type": "code",
   "execution_count": null,
   "id": "b86b659e-c85c-46ba-9fff-72096a88e368",
   "metadata": {},
   "outputs": [],
   "source": []
  },
  {
   "cell_type": "markdown",
   "id": "f3f90547-9a4b-4115-ae2a-7623bf832785",
   "metadata": {},
   "source": [
    "## 1. 리터럴 표기법과 리터럴 자료형 "
   ]
  },
  {
   "cell_type": "markdown",
   "id": "c8c6eab1-9492-40e0-9fb3-a8f85513b5bc",
   "metadata": {},
   "source": [
    "## 1-1 const로 처리할 때는 각 리터럴 자료형으로 확정함 "
   ]
  },
  {
   "cell_type": "code",
   "execution_count": null,
   "id": "621aa558-6e44-4fa2-8339-d71d09410cbc",
   "metadata": {},
   "outputs": [],
   "source": [
    "// 정수 리터럴\n",
    "const number1 = 10;\n",
    "\n",
    "// 실수 리터럴\n",
    "const number2 = 1.234;\n",
    "\n",
    "// 부동 소수점 숫자 리터럴\n",
    "const number3 = 123.456e-5;"
   ]
  },
  {
   "cell_type": "code",
   "execution_count": null,
   "id": "81ebcf55-5c7c-4f7d-a579-93ebab427af9",
   "metadata": {},
   "outputs": [],
   "source": []
  },
  {
   "cell_type": "markdown",
   "id": "254a9b1a-082f-425f-b712-acb2d08bd1c2",
   "metadata": {},
   "source": [
    "## 1-2 자료형에 리터럴을 표시할 수 있음 \n",
    "\n",
    "-  상수에 대한 리터럴 타입은 컴파일 시에만 인식 "
   ]
  },
  {
   "cell_type": "code",
   "execution_count": 1,
   "id": "e9038121-fdb9-4ea2-810a-4a697617294d",
   "metadata": {},
   "outputs": [
    {
     "data": {},
     "execution_count": 1,
     "metadata": {},
     "output_type": "execute_result"
    }
   ],
   "source": [
    "const hello : \"hello\" = \"hello\";"
   ]
  },
  {
   "cell_type": "markdown",
   "id": "faefe506-889a-483a-962b-d3ff613aff77",
   "metadata": {},
   "source": [
    "### 실행할 경우는 string으로 표시"
   ]
  },
  {
   "cell_type": "code",
   "execution_count": 2,
   "id": "408671b0-233f-4e05-8fce-26ae076d2e54",
   "metadata": {},
   "outputs": [
    {
     "data": {
      "text/plain": [
       "\u001b[32m\"string\"\u001b[39m"
      ]
     },
     "execution_count": 2,
     "metadata": {},
     "output_type": "execute_result"
    }
   ],
   "source": [
    "typeof hello"
   ]
  },
  {
   "cell_type": "markdown",
   "id": "44d06c80-f481-4d8f-b01f-842ef83781c7",
   "metadata": {},
   "source": [
    "## let에 리터럴 자료형 지정 \n",
    "\n",
    "- deno에서 리터럴 자료형 인식이 안됨 "
   ]
  },
  {
   "cell_type": "code",
   "execution_count": 8,
   "id": "85914f27-f6e3-4223-9122-bdc387cff864",
   "metadata": {},
   "outputs": [
    {
     "data": {
      "text/plain": [
       "\u001b[32m\"world\"\u001b[39m"
      ]
     },
     "execution_count": 8,
     "metadata": {},
     "output_type": "execute_result"
    }
   ],
   "source": [
    "{ \n",
    "    let hello11 : \"hello\" = \"hello\";\n",
    "    hello11 = \"world\";\n",
    "}"
   ]
  },
  {
   "cell_type": "code",
   "execution_count": null,
   "id": "f674332e-3f5c-4994-a383-f4900426da05",
   "metadata": {},
   "outputs": [],
   "source": []
  },
  {
   "cell_type": "markdown",
   "id": "15065269-a1a2-4901-9b08-73b3c75b0636",
   "metadata": {},
   "source": [
    "## 1-3 리터럴 자료형 지정\n",
    "\n",
    "- 객체, 배열 리터럴 타입을 지정\n",
    "- 함수는 함수 자료형으로 지정해서 함수 할당하기 "
   ]
  },
  {
   "cell_type": "code",
   "execution_count": 9,
   "id": "3cbe1826-0487-4192-9b67-020d6eae8889",
   "metadata": {},
   "outputs": [
    {
     "data": {},
     "execution_count": 9,
     "metadata": {},
     "output_type": "execute_result"
    }
   ],
   "source": [
    "const obj : {name : 'zero'} = {name : 'zero'};\n",
    "const arr : [1,3,'five'] = [1,3,'five'];\n",
    "const func : (amount:number, unit : string) => string = (amount, unit) => amount + unit;"
   ]
  },
  {
   "cell_type": "code",
   "execution_count": null,
   "id": "f2670c4c-1c12-4efe-a6db-38febef0571e",
   "metadata": {},
   "outputs": [],
   "source": []
  },
  {
   "cell_type": "markdown",
   "id": "cf3163fb-74e8-472a-8b92-9cecc8529a92",
   "metadata": {},
   "source": [
    "### 함수일 경우는 함수표현식을 아닌 함수자료형을 명확히 지정해야 함 "
   ]
  },
  {
   "cell_type": "code",
   "execution_count": 10,
   "id": "ba8d61eb-0023-4dd6-8b04-350cda56766c",
   "metadata": {},
   "outputs": [
    {
     "ename": "Expected a semicolon at repl.ts:2:56\n\n  const func1 : (amount:number, unit : string) => amount + uni = (amount, unit) =>...\n                                                         ~",
     "evalue": " ",
     "output_type": "error",
     "traceback": []
    }
   ],
   "source": [
    "\n",
    "const func1 : (amount:number, unit : string) => amount + uni = (amount, unit) => amount + unit;\n"
   ]
  },
  {
   "cell_type": "code",
   "execution_count": null,
   "id": "f104ee44-ea16-44ec-bffe-9d60dec6bf0f",
   "metadata": {},
   "outputs": [],
   "source": []
  }
 ],
 "metadata": {
  "kernelspec": {
   "display_name": "Deno",
   "language": "typescript",
   "name": "deno"
  },
  "language_info": {
   "file_extension": ".ts",
   "mimetype": "text/x.typescript",
   "name": "typescript",
   "nb_converter": "script",
   "pygments_lexer": "typescript",
   "version": "5.2.2"
  }
 },
 "nbformat": 4,
 "nbformat_minor": 5
}
