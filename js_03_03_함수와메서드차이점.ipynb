{
 "cells": [
  {
   "cell_type": "code",
   "execution_count": null,
   "id": "56184a63-7654-4df7-ad57-5ceb67124e81",
   "metadata": {},
   "outputs": [],
   "source": []
  },
  {
   "cell_type": "code",
   "execution_count": null,
   "id": "71fb274a-ea51-4637-894c-daf001843287",
   "metadata": {},
   "outputs": [],
   "source": []
  },
  {
   "cell_type": "markdown",
   "id": "a122092b-d1d0-4d5c-981c-1f0dbb8a1f90",
   "metadata": {},
   "source": [
    "## 함수와 메서드 차이점"
   ]
  },
  {
   "cell_type": "markdown",
   "id": "026f45b4-3d62-4251-9594-acc11307a443",
   "metadata": {},
   "source": [
    "### 함수와 메서드 정의\n",
    "\n",
    "- 속성에 함수를 할당할 수 있다.\n",
    "- 메서드표기법을 구현하면 메서드 처리 "
   ]
  },
  {
   "cell_type": "code",
   "execution_count": 12,
   "id": "4bd38b52-0a13-4be9-936e-ca4a016b429b",
   "metadata": {},
   "outputs": [
    {
     "data": {},
     "execution_count": 12,
     "metadata": {},
     "output_type": "execute_result"
    }
   ],
   "source": [
    "class Car {\n",
    "  private speed: number = 0;\n",
    "\n",
    "  // 함수를 속성에 할당\n",
    "  accelerate: (value: number) => void = (value) => {\n",
    "    this.speed += value;\n",
    "  }\n",
    "\n",
    "  brake(value: number): void {\n",
    "    this.speed -= value;\n",
    "  }\n",
    "}\n"
   ]
  },
  {
   "cell_type": "code",
   "execution_count": 13,
   "id": "47ff237a-d152-4cfb-b683-f5d247e8be24",
   "metadata": {},
   "outputs": [
    {
     "data": {},
     "execution_count": 13,
     "metadata": {},
     "output_type": "execute_result"
    }
   ],
   "source": [
    "const c = new Car();"
   ]
  },
  {
   "cell_type": "code",
   "execution_count": 14,
   "id": "ea849080-1e7b-49f3-bedd-968abca7d8ef",
   "metadata": {},
   "outputs": [
    {
     "data": {},
     "execution_count": 14,
     "metadata": {},
     "output_type": "execute_result"
    }
   ],
   "source": [
    "const c1 = new Car();"
   ]
  },
  {
   "cell_type": "code",
   "execution_count": null,
   "id": "801c77f1-b3fb-45bf-a562-0d7d16452895",
   "metadata": {},
   "outputs": [],
   "source": []
  },
  {
   "cell_type": "markdown",
   "id": "bf9f50e9-afc6-4b07-837a-4270d5f5bc77",
   "metadata": {},
   "source": [
    "## 메서드는 prototype 객체에 저장"
   ]
  },
  {
   "cell_type": "code",
   "execution_count": 15,
   "id": "5f2bb5ab-db17-47db-b1c5-93c0a5f1e9d8",
   "metadata": {},
   "outputs": [
    {
     "data": {
      "text/plain": [
       "\u001b[33mtrue\u001b[39m"
      ]
     },
     "execution_count": 15,
     "metadata": {},
     "output_type": "execute_result"
    }
   ],
   "source": [
    "c.brake === c1.brake"
   ]
  },
  {
   "cell_type": "code",
   "execution_count": 17,
   "id": "bb79a92f-5833-422d-84ab-e02c8049cf23",
   "metadata": {},
   "outputs": [
    {
     "data": {
      "text/plain": [
       "[ \u001b[32m\"constructor\"\u001b[39m, \u001b[32m\"brake\"\u001b[39m ]"
      ]
     },
     "execution_count": 17,
     "metadata": {},
     "output_type": "execute_result"
    }
   ],
   "source": [
    "Object.getOwnPropertyNames(Car.prototype)"
   ]
  },
  {
   "cell_type": "markdown",
   "id": "43030f52-d8f8-4545-b7a7-b4f022fcab66",
   "metadata": {},
   "source": [
    "## 속성에 할당된 함수는 객체별로 생성 "
   ]
  },
  {
   "cell_type": "code",
   "execution_count": 16,
   "id": "28eb9e9f-f784-4c4b-99a7-fd82f8dc4cba",
   "metadata": {},
   "outputs": [
    {
     "data": {
      "text/plain": [
       "\u001b[33mfalse\u001b[39m"
      ]
     },
     "execution_count": 16,
     "metadata": {},
     "output_type": "execute_result"
    }
   ],
   "source": [
    "c.accelerate === c1.accelerate"
   ]
  },
  {
   "cell_type": "code",
   "execution_count": 18,
   "id": "128f1f32-9bd4-47a8-ac7a-e67beeca1e32",
   "metadata": {},
   "outputs": [
    {
     "data": {
      "text/plain": [
       "[ \u001b[32m\"speed\"\u001b[39m, \u001b[32m\"accelerate\"\u001b[39m ]"
      ]
     },
     "execution_count": 18,
     "metadata": {},
     "output_type": "execute_result"
    }
   ],
   "source": [
    "Object.getOwnPropertyNames(c)"
   ]
  },
  {
   "cell_type": "code",
   "execution_count": 19,
   "id": "a6868be7-ec60-4d2f-ba2d-f542b390f5f7",
   "metadata": {},
   "outputs": [
    {
     "data": {
      "text/plain": [
       "[ \u001b[32m\"speed\"\u001b[39m, \u001b[32m\"accelerate\"\u001b[39m ]"
      ]
     },
     "execution_count": 19,
     "metadata": {},
     "output_type": "execute_result"
    }
   ],
   "source": [
    "Object.getOwnPropertyNames(c1)"
   ]
  },
  {
   "cell_type": "code",
   "execution_count": null,
   "id": "ecf0bed7-e691-45d1-a1b3-9eabbf41a993",
   "metadata": {},
   "outputs": [],
   "source": []
  }
 ],
 "metadata": {
  "kernelspec": {
   "display_name": "Deno",
   "language": "typescript",
   "name": "deno"
  },
  "language_info": {
   "file_extension": ".ts",
   "mimetype": "text/x.typescript",
   "name": "typescript",
   "nb_converter": "script",
   "pygments_lexer": "typescript",
   "version": "5.2.2"
  }
 },
 "nbformat": 4,
 "nbformat_minor": 5
}
