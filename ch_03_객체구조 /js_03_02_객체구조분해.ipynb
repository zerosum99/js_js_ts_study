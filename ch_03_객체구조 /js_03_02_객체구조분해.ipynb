{
 "cells": [
  {
   "cell_type": "code",
   "execution_count": null,
   "id": "649b762a-b3c4-4800-a592-42e09aff0d69",
   "metadata": {},
   "outputs": [],
   "source": []
  },
  {
   "cell_type": "markdown",
   "id": "94e3f80b-ffe8-4865-97c2-3964f15f94e9",
   "metadata": {},
   "source": [
    "# 1. 객체의 구조 분해 "
   ]
  },
  {
   "cell_type": "markdown",
   "id": "a5c840da-c633-4cfe-9f3f-12db5fc62207",
   "metadata": {},
   "source": [
    "## 1-1 객체 프로퍼티 구조분해 "
   ]
  },
  {
   "cell_type": "code",
   "execution_count": 2,
   "id": "dac02891-97fd-4e8c-a2e5-71cd1f9e0152",
   "metadata": {},
   "outputs": [
    {
     "data": {},
     "execution_count": 2,
     "metadata": {},
     "output_type": "execute_result"
    }
   ],
   "source": [
    "const obj = { name : \"섬머\", age : 24 };"
   ]
  },
  {
   "cell_type": "code",
   "execution_count": 3,
   "id": "6a80f107-ee04-4e38-94e6-d97cd79b9fbc",
   "metadata": {},
   "outputs": [
    {
     "data": {},
     "execution_count": 3,
     "metadata": {},
     "output_type": "execute_result"
    }
   ],
   "source": [
    "const { name,age } = obj"
   ]
  },
  {
   "cell_type": "code",
   "execution_count": 4,
   "id": "9fc683e5-a0de-4ace-9de8-a2fa041dc71e",
   "metadata": {},
   "outputs": [
    {
     "data": {},
     "execution_count": 4,
     "metadata": {},
     "output_type": "execute_result"
    },
    {
     "name": "stdout",
     "output_type": "stream",
     "text": [
      "섬머\n",
      "\u001b[33m24\u001b[39m\n"
     ]
    }
   ],
   "source": [
    "console.log(name);\n",
    "console.log(age);"
   ]
  },
  {
   "cell_type": "code",
   "execution_count": null,
   "id": "9fc35b5a-cbb5-47ce-bd7a-7b8e3ff5b43f",
   "metadata": {},
   "outputs": [],
   "source": []
  },
  {
   "cell_type": "markdown",
   "id": "784e1253-f4d7-42ff-b0f6-36e6491b62c5",
   "metadata": {},
   "source": [
    "## 1-2 객체 프로퍼티에 다른 변수 지정하기 "
   ]
  },
  {
   "cell_type": "code",
   "execution_count": null,
   "id": "82a32b5e-51aa-4833-82c0-62370bd029e7",
   "metadata": {},
   "outputs": [],
   "source": []
  },
  {
   "cell_type": "code",
   "execution_count": 5,
   "id": "ae5918bc-f095-4b47-8cee-a7dd09e011d4",
   "metadata": {},
   "outputs": [
    {
     "data": {},
     "execution_count": 5,
     "metadata": {},
     "output_type": "execute_result"
    }
   ],
   "source": [
    "const { name : otherName,age } = obj"
   ]
  },
  {
   "cell_type": "code",
   "execution_count": 6,
   "id": "3242dcd5-438d-4a5c-a6b7-67e03f576128",
   "metadata": {},
   "outputs": [
    {
     "data": {},
     "execution_count": 6,
     "metadata": {},
     "output_type": "execute_result"
    },
    {
     "name": "stdout",
     "output_type": "stream",
     "text": [
      "섬머\n",
      "\u001b[33m24\u001b[39m\n"
     ]
    }
   ],
   "source": [
    "console.log(otherName);\n",
    "console.log(age);"
   ]
  },
  {
   "cell_type": "code",
   "execution_count": null,
   "id": "753f8586-a381-41dd-ae4f-68be9ea6b264",
   "metadata": {},
   "outputs": [],
   "source": []
  },
  {
   "cell_type": "markdown",
   "id": "bae6a0fa-b18c-4c0c-967f-0d6befa9f0f7",
   "metadata": {},
   "source": [
    "## 1-3 중첩 객체에 대한 구조분해 "
   ]
  },
  {
   "cell_type": "code",
   "execution_count": 1,
   "id": "bc9dbcb2-243f-42f9-bdf9-aa1ce6129fad",
   "metadata": {},
   "outputs": [
    {
     "data": {},
     "execution_count": 1,
     "metadata": {},
     "output_type": "execute_result"
    },
    {
     "name": "stdout",
     "output_type": "stream",
     "text": [
      "John Doe\n",
      "\u001b[33m30\u001b[39m\n",
      "Seoul\n",
      "South Korea\n"
     ]
    }
   ],
   "source": [
    "// 중첩 객체를 선언합니다.\n",
    "const object = {\n",
    "  name: \"John Doe\",\n",
    "  age: 30,\n",
    "  address: {\n",
    "    city: \"Seoul\",\n",
    "    country: \"South Korea\",\n",
    "  },\n",
    "};\n",
    "\n",
    "// 중첩구조분해를 사용하여 name, age, address를 추출합니다.\n",
    "const { name, age, address: { city, country } } = object;\n",
    "\n",
    "// name, age, city, country를 출력합니다.\n",
    "console.log(name); // John Doe\n",
    "console.log(age); // 30\n",
    "console.log(city); // Seoul\n",
    "console.log(country); // South Korea\n"
   ]
  },
  {
   "cell_type": "markdown",
   "id": "173f864a-22a3-4238-9efc-5aee1302f7d4",
   "metadata": {},
   "source": [
    "## 1-4 중첩구조에 대한 변수 처리 "
   ]
  },
  {
   "cell_type": "code",
   "execution_count": 2,
   "id": "d64beb2d-e68a-4bb1-a420-11254995f770",
   "metadata": {},
   "outputs": [
    {
     "data": {},
     "execution_count": 2,
     "metadata": {},
     "output_type": "execute_result"
    }
   ],
   "source": [
    "// 중첩구조분해를 사용하여 name, age, address를 추출합니다.\n",
    "const { name, age, address: { city:도시, country:국가 } } = object;"
   ]
  },
  {
   "cell_type": "code",
   "execution_count": 3,
   "id": "90065902-a675-4116-a6b0-fd06e3a78a04",
   "metadata": {},
   "outputs": [
    {
     "data": {
      "text/plain": [
       "\u001b[32m\"Seoul\"\u001b[39m"
      ]
     },
     "execution_count": 3,
     "metadata": {},
     "output_type": "execute_result"
    }
   ],
   "source": [
    "도시"
   ]
  },
  {
   "cell_type": "code",
   "execution_count": 4,
   "id": "22bb7a5c-110d-4490-b7ea-430d3336c0c3",
   "metadata": {},
   "outputs": [
    {
     "data": {
      "text/plain": [
       "\u001b[32m\"South Korea\"\u001b[39m"
      ]
     },
     "execution_count": 4,
     "metadata": {},
     "output_type": "execute_result"
    }
   ],
   "source": [
    "국가"
   ]
  },
  {
   "cell_type": "code",
   "execution_count": null,
   "id": "6ac02a3d-a9ab-42a0-a133-11c79caf7b20",
   "metadata": {},
   "outputs": [],
   "source": []
  },
  {
   "cell_type": "markdown",
   "id": "681c9828-8d39-428b-9604-e2bf70cac27a",
   "metadata": {},
   "source": [
    "## 1-5 분해할당에 대한 기본값 처리 "
   ]
  },
  {
   "cell_type": "markdown",
   "id": "7bf95a99-8847-40c1-a7ee-b196f8b0604a",
   "metadata": {},
   "source": [
    "## 분해할당에 초기값 처리 확인 "
   ]
  },
  {
   "cell_type": "code",
   "execution_count": 17,
   "id": "1313a28d-055a-40f8-85fd-36ed1a8fe300",
   "metadata": {},
   "outputs": [
    {
     "data": {},
     "execution_count": 17,
     "metadata": {},
     "output_type": "execute_result"
    }
   ],
   "source": [
    "type Obj = { foo?: number};"
   ]
  },
  {
   "cell_type": "code",
   "execution_count": 18,
   "id": "7e855d62-779d-47b6-a4aa-0ec3a9df20d5",
   "metadata": {},
   "outputs": [
    {
     "data": {},
     "execution_count": 18,
     "metadata": {},
     "output_type": "execute_result"
    }
   ],
   "source": [
    "const obj1 : Obj = {};\n",
    "const obj2 : Obj = { foo : 1234 };"
   ]
  },
  {
   "cell_type": "code",
   "execution_count": 19,
   "id": "3dffdb8b-7197-4103-aa1d-b8cc507626dc",
   "metadata": {},
   "outputs": [
    {
     "data": {},
     "execution_count": 19,
     "metadata": {},
     "output_type": "execute_result"
    },
    {
     "name": "stdout",
     "output_type": "stream",
     "text": [
      "\u001b[33m500\u001b[39m\n"
     ]
    }
   ],
   "source": [
    "const  { foo = 500 } = obj1;\n",
    "console.log(foo);"
   ]
  },
  {
   "cell_type": "code",
   "execution_count": 20,
   "id": "c7c2d959-2c1e-424b-8a3e-4a9d710a23ec",
   "metadata": {},
   "outputs": [
    {
     "data": {},
     "execution_count": 20,
     "metadata": {},
     "output_type": "execute_result"
    },
    {
     "name": "stdout",
     "output_type": "stream",
     "text": [
      "\u001b[33m1234\u001b[39m\n"
     ]
    }
   ],
   "source": [
    "const  { foo = 500 } = obj2;\n",
    "console.log(foo);"
   ]
  },
  {
   "cell_type": "code",
   "execution_count": null,
   "id": "64855932-28f2-4f7b-8280-9528312d0beb",
   "metadata": {},
   "outputs": [],
   "source": []
  },
  {
   "cell_type": "markdown",
   "id": "aff19da3-ff89-4ed2-8791-0939d59613c5",
   "metadata": {},
   "source": [
    "## 1-6 나머지 연산자 처리로 나머지 얻기 "
   ]
  },
  {
   "cell_type": "code",
   "execution_count": 21,
   "id": "e0045ef1-60a0-4798-bf2d-c771507badf9",
   "metadata": {},
   "outputs": [
    {
     "data": {},
     "execution_count": 21,
     "metadata": {},
     "output_type": "execute_result"
    }
   ],
   "source": [
    "const { name, age, ...rest } = object;"
   ]
  },
  {
   "cell_type": "code",
   "execution_count": 22,
   "id": "f2b38a14-86e2-49bb-a2ec-528babcc189e",
   "metadata": {},
   "outputs": [
    {
     "data": {
      "text/plain": [
       "{ address: { city: \u001b[32m\"Seoul\"\u001b[39m, country: \u001b[32m\"South Korea\"\u001b[39m } }"
      ]
     },
     "execution_count": 22,
     "metadata": {},
     "output_type": "execute_result"
    }
   ],
   "source": [
    "rest"
   ]
  },
  {
   "cell_type": "code",
   "execution_count": null,
   "id": "4f960745-84e0-4a8d-96eb-c32c5588e5b3",
   "metadata": {},
   "outputs": [],
   "source": []
  }
 ],
 "metadata": {
  "kernelspec": {
   "display_name": "Deno",
   "language": "typescript",
   "name": "deno"
  },
  "language_info": {
   "file_extension": ".ts",
   "mimetype": "text/x.typescript",
   "name": "typescript",
   "nb_converter": "script",
   "pygments_lexer": "typescript",
   "version": "5.2.2"
  }
 },
 "nbformat": 4,
 "nbformat_minor": 5
}
