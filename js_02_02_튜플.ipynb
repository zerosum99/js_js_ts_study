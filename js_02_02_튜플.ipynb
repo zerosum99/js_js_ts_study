{
 "cells": [
  {
   "cell_type": "code",
   "execution_count": null,
   "id": "0b031d3a-3dfd-4587-911c-02797d629f32",
   "metadata": {},
   "outputs": [],
   "source": []
  },
  {
   "cell_type": "code",
   "execution_count": null,
   "id": "a1169a32-ce56-4e9c-8fab-708e08b2baa1",
   "metadata": {},
   "outputs": [],
   "source": []
  },
  {
   "cell_type": "markdown",
   "id": "dd935305-1dfe-40a2-8b29-6458ed4405c7",
   "metadata": {},
   "source": [
    "## 1. 튜플 \n",
    "- 튜플은 길이와 타입이 고정된 배열입니다. \n",
    "- 길이와 타입이 고정되어 있습니다.\n",
    "- 배열의 요소를 읽고, 쓰고, 추가하고, 삭제할 수 있습니다.\n",
    "- 타입스크립트의 타입 시스템을 사용하여 타입 검사를 수행할 수 있습니다."
   ]
  },
  {
   "cell_type": "code",
   "execution_count": null,
   "id": "66018c79-9725-4c95-b4a4-7913db6f6b0a",
   "metadata": {},
   "outputs": [],
   "source": []
  },
  {
   "cell_type": "markdown",
   "id": "2086f9b2-67d9-46c1-b736-40a4f2152c55",
   "metadata": {},
   "source": [
    "## 1-1 튜플을 정의하가 "
   ]
  },
  {
   "cell_type": "code",
   "execution_count": 1,
   "id": "82b7f90a-584e-4b9b-b34d-cf5371e46c1d",
   "metadata": {},
   "outputs": [
    {
     "data": {},
     "execution_count": 1,
     "metadata": {},
     "output_type": "execute_result"
    }
   ],
   "source": [
    "// 길이가 2이고, 요소의 타입이 number와 string인 튜플\n",
    "let tuple1: [number, string];\n",
    "\n",
    "// 길이가 3이고, 요소의 타입이 number, string, boolean인 튜플\n",
    "let tuple2: [number, string, boolean];"
   ]
  },
  {
   "cell_type": "markdown",
   "id": "48ca6217-6063-4f4e-b8f9-c460af1f319a",
   "metadata": {},
   "source": [
    "## 1-2 튜플의 값을 넣고 처리하기"
   ]
  },
  {
   "cell_type": "code",
   "execution_count": 3,
   "id": "12e14a43-c2f5-4864-b727-1741d5df87c3",
   "metadata": {},
   "outputs": [
    {
     "data": {},
     "execution_count": 3,
     "metadata": {},
     "output_type": "execute_result"
    },
    {
     "name": "stdout",
     "output_type": "stream",
     "text": [
      "\u001b[33m10\u001b[39m\n",
      "hello world\n"
     ]
    }
   ],
   "source": [
    "// 길이가 2이고, 요소의 타입이 number와 string인 튜플을 선언합니다.\n",
    "let tuple: [number, string] = [10,\"hello world\"];\n",
    "\n",
    "\n",
    "// 튜플의 요소를 확인합니다.\n",
    "console.log(tuple[0]); // 10\n",
    "console.log(tuple[1]); // \"Hello, world!\""
   ]
  },
  {
   "cell_type": "code",
   "execution_count": 4,
   "id": "4405dcaf-ad09-4741-aaee-a7b5ea506357",
   "metadata": {},
   "outputs": [
    {
     "data": {},
     "execution_count": 4,
     "metadata": {},
     "output_type": "execute_result"
    },
    {
     "name": "stdout",
     "output_type": "stream",
     "text": [
      "\u001b[33m2\u001b[39m\n"
     ]
    }
   ],
   "source": [
    "// 튜플의 길이를 확인합니다.\n",
    "console.log(tuple.length); // 2"
   ]
  },
  {
   "cell_type": "code",
   "execution_count": 6,
   "id": "50c0e9e6-9f44-4e28-ac66-58ec682c8913",
   "metadata": {},
   "outputs": [
    {
     "data": {
      "text/plain": [
       "\u001b[33m100\u001b[39m"
      ]
     },
     "execution_count": 6,
     "metadata": {},
     "output_type": "execute_result"
    }
   ],
   "source": [
    "tuple[0] = 100;"
   ]
  },
  {
   "cell_type": "code",
   "execution_count": 7,
   "id": "2d4b6b21-2304-4079-9cd2-598d45e34d2a",
   "metadata": {},
   "outputs": [
    {
     "data": {
      "text/plain": [
       "[ \u001b[33m100\u001b[39m, \u001b[32m\"hello world\"\u001b[39m ]"
      ]
     },
     "execution_count": 7,
     "metadata": {},
     "output_type": "execute_result"
    }
   ],
   "source": [
    "tuple"
   ]
  },
  {
   "cell_type": "code",
   "execution_count": null,
   "id": "e6f79091-72de-4033-89e0-23a11f0ab5b2",
   "metadata": {},
   "outputs": [],
   "source": []
  }
 ],
 "metadata": {
  "kernelspec": {
   "display_name": "Deno",
   "language": "typescript",
   "name": "deno"
  },
  "language_info": {
   "file_extension": ".ts",
   "mimetype": "text/x.typescript",
   "name": "typescript",
   "nb_converter": "script",
   "pygments_lexer": "typescript",
   "version": "5.2.2"
  }
 },
 "nbformat": 4,
 "nbformat_minor": 5
}
