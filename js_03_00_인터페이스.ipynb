{
 "cells": [
  {
   "cell_type": "code",
   "execution_count": null,
   "id": "bb6ec2eb-3a08-4007-beca-dcf154d14d9e",
   "metadata": {},
   "outputs": [],
   "source": []
  },
  {
   "cell_type": "markdown",
   "id": "7d88ebc0-d474-4a72-8071-30f528486b2f",
   "metadata": {},
   "source": [
    "## 인터페이스 정의 \n",
    "\n",
    "- 타입스크립트에서 인터페이스는 객체의 구조를 정의하는 데 사용되며, 특정한 속성과 그들의 타입을 명시할 때 주로 사용됩니다"
   ]
  },
  {
   "cell_type": "code",
   "execution_count": null,
   "id": "de9e220c-2d70-4e93-94a6-705472200738",
   "metadata": {},
   "outputs": [],
   "source": [
    "interface InterfaceName {\n",
    "  // 속성과 메서드 정의\n",
    "  propertyName: propertyType;\n",
    "  methodName(): returnType;\n",
    "}\n"
   ]
  },
  {
   "cell_type": "code",
   "execution_count": null,
   "id": "911c0b89-0454-4097-8a34-f1539ed4ed50",
   "metadata": {},
   "outputs": [],
   "source": []
  },
  {
   "cell_type": "code",
   "execution_count": null,
   "id": "69497d48-4a3b-4c47-a5ee-1f9b4c9a0990",
   "metadata": {},
   "outputs": [],
   "source": []
  },
  {
   "cell_type": "code",
   "execution_count": null,
   "id": "08aeb622-7943-49fa-a2ee-56d70915f2fa",
   "metadata": {},
   "outputs": [],
   "source": []
  },
  {
   "cell_type": "markdown",
   "id": "e52dbfd0-643b-4cdc-904e-92d418ad217c",
   "metadata": {},
   "source": [
    "## 인터페이스의 선택 속성 정의 : ? (Optional Property):\n",
    "\n",
    "? 기호는 인터페이스나 타입 정의 내에서 속성 뒤에 사용되며, 해당 속성이 선택적임을 나타냅니다. 즉, 해당 속성이 있을 수도 있고 없을 수도 있다는 것을 의미합니다.\n",
    "이것은 객체를 생성하거나 할당할 때 해당 속성을 생략할 수 있음을 나타냅니다."
   ]
  },
  {
   "cell_type": "code",
   "execution_count": null,
   "id": "ae971e7e-56ad-4364-867e-21ca053936e2",
   "metadata": {},
   "outputs": [],
   "source": []
  },
  {
   "cell_type": "code",
   "execution_count": 1,
   "id": "2c0f5eb4-3097-40cc-a53e-40cc2f9ea04f",
   "metadata": {},
   "outputs": [
    {
     "data": {},
     "execution_count": 1,
     "metadata": {},
     "output_type": "execute_result"
    }
   ],
   "source": [
    "interface Person {\n",
    "  name: string;\n",
    "  age?: number; // age 속성은 선택적\n",
    "}\n",
    "\n",
    "let person1: Person = { name: \"Alice\" }; // age 속성을 생략\n",
    "let person2: Person = { name: \"Bob\", age: 30 }; // age 속성을 포함\n"
   ]
  },
  {
   "cell_type": "markdown",
   "id": "cf0bdc29-460d-4298-9817-f10d9ad6cb71",
   "metadata": {},
   "source": [
    "## 인터페이스 상속 \n",
    "\n",
    "- 타입스크립트에서 인터페이스도 다른 인터페이스를 상속받을 수 있습니다.\n",
    "- 인터페이스 상속을 통해 기존 인터페이스의 속성과 메서드를 재사용하면서 새로운 요구사항을 추가할 수 있습니다."
   ]
  },
  {
   "cell_type": "code",
   "execution_count": 2,
   "id": "e3a1bbd5-2772-4aa8-9bcc-5a711e700f96",
   "metadata": {},
   "outputs": [
    {
     "data": {},
     "execution_count": 2,
     "metadata": {},
     "output_type": "execute_result"
    }
   ],
   "source": [
    "interface Vehicle {\n",
    "  startEngine(): void;\n",
    "  stopEngine(): void;\n",
    "}\n",
    "\n",
    "interface Car extends Vehicle {\n",
    "  accelerate(): void;\n",
    "  brake(): void;\n",
    "}\n",
    "\n",
    "// Car 인터페이스는 Vehicle 인터페이스의 모든 메서드를 상속받음\n",
    "// 그리고 새로운 메서드인 accelerate와 brake를 추가함\n"
   ]
  },
  {
   "cell_type": "code",
   "execution_count": null,
   "id": "4be29ce3-9cca-450b-85f6-0f64e83cbca8",
   "metadata": {},
   "outputs": [],
   "source": []
  },
  {
   "cell_type": "code",
   "execution_count": null,
   "id": "f255ebd9-0ef4-4bc9-ad39-d344303584fb",
   "metadata": {},
   "outputs": [],
   "source": []
  },
  {
   "cell_type": "markdown",
   "id": "8e704de2-a74e-4509-90c3-70637d86eede",
   "metadata": {},
   "source": [
    "## 인터페이스 병합 \n",
    "\n",
    "- 타입스크립트에서 인터페이스 병합(Interface Merging)은 동일한 이름의 인터페이스를 여러 번 정의할 때 이들을 자동으로 합쳐서 하나의 인터페이스로 간주하는 기능입니다.\n",
    "- 이것은 코드를 모듈화하고 여러 곳에서 인터페이스를 확장하여 사용할 때 유용합니다.\n",
    "\n",
    "### 인터페이스 병합은 다음과 같은 상황에서 발생합니다:\n",
    "\n",
    "- 동일한 이름의 인터페이스를 여러 파일에서 정의하는 경우.\n",
    "- 동일한 이름의 인터페이스를 다른 인터페이스에서 확장하는 경우."
   ]
  },
  {
   "cell_type": "markdown",
   "id": "8d7e74be-332b-449e-89dd-c4cc0393052d",
   "metadata": {},
   "source": [
    "### 두 개의 파일에서 인터페이스 이름이 같을 경우 \n",
    "\n",
    "// 병합된 Person 인터페이스\n",
    "interface Person {\n",
    "  name: string;\n",
    "  age: number;\n",
    "}\n"
   ]
  },
  {
   "cell_type": "code",
   "execution_count": 4,
   "id": "90496a6f-577f-4ebe-814d-7282dbc47783",
   "metadata": {},
   "outputs": [
    {
     "data": {},
     "execution_count": 4,
     "metadata": {},
     "output_type": "execute_result"
    }
   ],
   "source": [
    "// file1.ts\n",
    "interface Person {\n",
    "  name: string;\n",
    "}\n",
    "\n",
    "// file2.ts\n",
    "interface Person {\n",
    "  age: number;\n",
    "}\n"
   ]
  },
  {
   "cell_type": "markdown",
   "id": "73d421ec-4ae8-4ccb-b332-b886eacd282a",
   "metadata": {},
   "source": [
    "### 같은 파일 내에서 병합 \n",
    "\n",
    "interface Person {\n",
    "  name: string;\n",
    "  age: number;\n",
    "}"
   ]
  },
  {
   "cell_type": "code",
   "execution_count": 5,
   "id": "a036d5da-894d-4e98-a58b-3657be40b843",
   "metadata": {},
   "outputs": [
    {
     "data": {},
     "execution_count": 5,
     "metadata": {},
     "output_type": "execute_result"
    }
   ],
   "source": [
    "interface Person {\n",
    "  name: string;\n",
    "}\n",
    "\n",
    "interface Person {\n",
    "  age: number;\n",
    "}\n"
   ]
  },
  {
   "cell_type": "code",
   "execution_count": null,
   "id": "7dc73a4b-a0be-467f-b1eb-22754bba11eb",
   "metadata": {},
   "outputs": [],
   "source": []
  }
 ],
 "metadata": {
  "kernelspec": {
   "display_name": "Deno",
   "language": "typescript",
   "name": "deno"
  },
  "language_info": {
   "file_extension": ".ts",
   "mimetype": "text/x.typescript",
   "name": "typescript",
   "nb_converter": "script",
   "pygments_lexer": "typescript",
   "version": "5.2.2"
  }
 },
 "nbformat": 4,
 "nbformat_minor": 5
}
