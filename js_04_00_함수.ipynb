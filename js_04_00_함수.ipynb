{
 "cells": [
  {
   "cell_type": "code",
   "execution_count": null,
   "id": "6310e824-1c12-4f84-ba62-44750ed2e080",
   "metadata": {},
   "outputs": [],
   "source": []
  },
  {
   "cell_type": "code",
   "execution_count": null,
   "id": "9d5d00aa-2f4c-439a-87ac-a3f3ab7d94a5",
   "metadata": {},
   "outputs": [],
   "source": []
  },
  {
   "cell_type": "markdown",
   "id": "a69707d3-e2ad-410e-afa9-e822d1fc83f5",
   "metadata": {},
   "source": [
    "## 1. 함수 정의"
   ]
  },
  {
   "cell_type": "code",
   "execution_count": 5,
   "id": "234ebb18-b174-478e-8b73-05a0a99fca4e",
   "metadata": {},
   "outputs": [
    {
     "data": {},
     "execution_count": 5,
     "metadata": {},
     "output_type": "execute_result"
    }
   ],
   "source": [
    "function add(x:number, y:number) : number {\n",
    "    return x+y;\n",
    "}"
   ]
  },
  {
   "cell_type": "code",
   "execution_count": 6,
   "id": "4783eea2-c55f-49b1-9a6f-40a319a02586",
   "metadata": {},
   "outputs": [
    {
     "data": {
      "text/plain": [
       "\u001b[33m300\u001b[39m"
      ]
     },
     "execution_count": 6,
     "metadata": {},
     "output_type": "execute_result"
    }
   ],
   "source": [
    "add(100,200);"
   ]
  },
  {
   "cell_type": "code",
   "execution_count": null,
   "id": "beee8aea-7405-4759-8c25-092f4115900e",
   "metadata": {},
   "outputs": [],
   "source": []
  },
  {
   "cell_type": "code",
   "execution_count": null,
   "id": "b51ecdda-37c0-4342-abb4-8aeec9bd3784",
   "metadata": {},
   "outputs": [],
   "source": []
  },
  {
   "cell_type": "code",
   "execution_count": null,
   "id": "1f2862fa-b054-4256-9dc3-5f4cc4483e23",
   "metadata": {},
   "outputs": [],
   "source": []
  },
  {
   "cell_type": "markdown",
   "id": "c39ce697-6b0a-4d1c-aeca-fd4d6156d921",
   "metadata": {},
   "source": [
    "## 2 함수 표현식 "
   ]
  },
  {
   "cell_type": "code",
   "execution_count": null,
   "id": "1d834521-fde4-43c3-9a24-9837b93febf8",
   "metadata": {},
   "outputs": [],
   "source": []
  },
  {
   "cell_type": "code",
   "execution_count": 9,
   "id": "342e66d2-ab06-4afe-ab00-fa1c10babb16",
   "metadata": {},
   "outputs": [
    {
     "data": {},
     "execution_count": 9,
     "metadata": {},
     "output_type": "execute_result"
    }
   ],
   "source": [
    "const mul = function mul(x:number, y:number) : number {\n",
    "                return x*y;\n",
    "             }"
   ]
  },
  {
   "cell_type": "code",
   "execution_count": 10,
   "id": "b06b5e9d-1dff-41ea-a9a4-c454f13f84d1",
   "metadata": {},
   "outputs": [
    {
     "data": {
      "text/plain": [
       "\u001b[33m20000\u001b[39m"
      ]
     },
     "execution_count": 10,
     "metadata": {},
     "output_type": "execute_result"
    }
   ],
   "source": [
    "mul(100,200);"
   ]
  },
  {
   "cell_type": "code",
   "execution_count": null,
   "id": "58cc9dac-5253-492c-8e9d-568e57ce959b",
   "metadata": {},
   "outputs": [],
   "source": []
  },
  {
   "cell_type": "markdown",
   "id": "efe174d5-73d7-4dac-8c45-d748beb9555e",
   "metadata": {},
   "source": [
    "## 3. 화살표 함수 "
   ]
  },
  {
   "cell_type": "code",
   "execution_count": null,
   "id": "8ea6c595-6774-4093-9060-102c353621b9",
   "metadata": {},
   "outputs": [],
   "source": [
    "const sub =  (x:number, y:number) : number {\n",
    "                return x*y;\n",
    "             }"
   ]
  }
 ],
 "metadata": {
  "kernelspec": {
   "display_name": "Deno",
   "language": "typescript",
   "name": "deno"
  },
  "language_info": {
   "file_extension": ".ts",
   "mimetype": "text/x.typescript",
   "name": "typescript",
   "nb_converter": "script",
   "pygments_lexer": "typescript",
   "version": "5.2.2"
  }
 },
 "nbformat": 4,
 "nbformat_minor": 5
}
