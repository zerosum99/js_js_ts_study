{
 "cells": [
  {
   "cell_type": "code",
   "execution_count": null,
   "id": "9849e8c0-a665-434d-b4b4-36d75e39e1d6",
   "metadata": {},
   "outputs": [],
   "source": []
  },
  {
   "cell_type": "markdown",
   "id": "96f777ce-0cce-4737-9417-f78ccd0d8502",
   "metadata": {},
   "source": [
    "## 부모 클래스 생성 "
   ]
  },
  {
   "cell_type": "code",
   "execution_count": 1,
   "id": "a2665ada-5eb7-4859-8c2d-bd9d98cc0562",
   "metadata": {},
   "outputs": [
    {
     "data": {
      "text/plain": [
       "\u001b[36m[Function (anonymous)]\u001b[39m"
      ]
     },
     "execution_count": 1,
     "metadata": {},
     "output_type": "execute_result"
    }
   ],
   "source": [
    "function Person(name, age) {\n",
    "    this.name = name;\n",
    "    this.age = age;\n",
    "}\n",
    "\n",
    "Person.prototype.sayHello = function() {\n",
    "    console.log(`Hello, my name is ${this.name} and I'm ${this.age} years old.`);\n",
    "};\n"
   ]
  },
  {
   "cell_type": "code",
   "execution_count": null,
   "id": "e6aaee15-a558-438a-b8d3-123c0878b72d",
   "metadata": {},
   "outputs": [],
   "source": []
  },
  {
   "cell_type": "markdown",
   "id": "5add4382-b83d-4de0-84ff-9a01c54e6eb4",
   "metadata": {},
   "source": [
    "## 자식 클래스 생성 "
   ]
  },
  {
   "cell_type": "code",
   "execution_count": 3,
   "id": "3f229efe-4986-480c-9fa7-cfbfd3434563",
   "metadata": {},
   "outputs": [
    {
     "data": {},
     "execution_count": 3,
     "metadata": {},
     "output_type": "execute_result"
    }
   ],
   "source": [
    "function Student(name, age, grade) {\n",
    "    Person.call(this, name, age);          // 부모 클래스 생성자 호출\n",
    "    this.grade = grade;\n",
    "}\n",
    "\n"
   ]
  },
  {
   "cell_type": "markdown",
   "id": "2b28e210-d16d-407f-b0d2-670688bd14c0",
   "metadata": {},
   "source": [
    "### Object.create()는 \n",
    "- JavaScript에서 새로운 객체를 생성하는 메서드 중 하나입니다.\n",
    "-  이 메서드는 주어진 객체를 상속받는 새로운 객체를 생성합니다.\n",
    "-  Object.create()를 사용하면 기존 객체의 프로퍼티와 메서드를 상속받을 수 있으며, 이를 통해 객체 간의 상속 관계를 구현할 수 있습니다."
   ]
  },
  {
   "cell_type": "code",
   "execution_count": null,
   "id": "cc8128e1-1275-43d9-8647-fdedeb380e46",
   "metadata": {},
   "outputs": [],
   "source": []
  },
  {
   "cell_type": "code",
   "execution_count": 13,
   "id": "d1064aaa-7754-483a-b1f0-ab432e59ea7f",
   "metadata": {},
   "outputs": [
    {
     "data": {},
     "execution_count": 13,
     "metadata": {},
     "output_type": "execute_result"
    },
    {
     "name": "stdout",
     "output_type": "stream",
     "text": [
      "Hello from parent!\n",
      "\u001b[90mundefined\u001b[39m\n",
      "[object Object]\n"
     ]
    }
   ],
   "source": [
    "const parent = {\n",
    "    greet: function() {\n",
    "        console.log(\"Hello from parent!\");\n",
    "    }\n",
    "};\n",
    "\n",
    "\n",
    "\n",
    "const child = Object.create(parent);\n",
    "\n",
    "child.greet();                           // \"Hello from parent!\" (부모의 greet 메서드 상속)\n",
    "console.log(child.prototype); \n",
    "console.log(child.toString());            // \"[object Object]\" (부모의 toString 메서드 상속)\n"
   ]
  },
  {
   "cell_type": "markdown",
   "id": "7f636c96-fffb-4fcf-b623-6e4e66a3cd90",
   "metadata": {},
   "source": [
    "## 부모 클래스의 프로토타입을 상속"
   ]
  },
  {
   "cell_type": "code",
   "execution_count": 4,
   "id": "afffcf0f-7025-4f3a-8b46-1c7ce583420c",
   "metadata": {},
   "outputs": [
    {
     "data": {
      "text/plain": [
       "\u001b[36m[Function: Student]\u001b[39m"
      ]
     },
     "execution_count": 4,
     "metadata": {},
     "output_type": "execute_result"
    }
   ],
   "source": [
    "Student.prototype = Object.create(Person.prototype);\n",
    "Student.prototype.constructor = Student;                // 생성자를 자식 클래스로 설정"
   ]
  },
  {
   "cell_type": "code",
   "execution_count": null,
   "id": "cf038b54-7850-422c-a6f3-38073feebf67",
   "metadata": {},
   "outputs": [],
   "source": []
  },
  {
   "cell_type": "markdown",
   "id": "f35af056-cf2a-4360-a428-96df86151139",
   "metadata": {},
   "source": [
    "## 자식 클래스에 메서드 추가 "
   ]
  },
  {
   "cell_type": "code",
   "execution_count": 5,
   "id": "0cdf41be-1b3c-42f3-a9be-f190f9b44578",
   "metadata": {},
   "outputs": [
    {
     "data": {
      "text/plain": [
       "\u001b[36m[Function (anonymous)]\u001b[39m"
      ]
     },
     "execution_count": 5,
     "metadata": {},
     "output_type": "execute_result"
    }
   ],
   "source": [
    "Student.prototype.study = function() {\n",
    "    console.log(`${this.name} is studying in grade ${this.grade}.`);\n",
    "};\n"
   ]
  },
  {
   "cell_type": "code",
   "execution_count": null,
   "id": "6e37fd1a-3860-4699-9370-355ae95b3b51",
   "metadata": {},
   "outputs": [],
   "source": []
  },
  {
   "cell_type": "markdown",
   "id": "3fd4a0c6-bcdb-4937-bd59-f534232d27c8",
   "metadata": {},
   "source": [
    "## 객체 생성 및 활용 "
   ]
  },
  {
   "cell_type": "code",
   "execution_count": 6,
   "id": "c51a564a-f08c-4774-9228-c678632c777e",
   "metadata": {},
   "outputs": [
    {
     "data": {},
     "execution_count": 6,
     "metadata": {},
     "output_type": "execute_result"
    },
    {
     "name": "stdout",
     "output_type": "stream",
     "text": [
      "Hello, my name is Eve and I'm 18 years old.\n",
      "Eve is studying in grade 12.\n"
     ]
    }
   ],
   "source": [
    "const student1 = new Student(\"Eve\", 18, 12);\n",
    "student1.sayHello(); // \"Hello, my name is Eve and I'm 18 years old.\"\n",
    "student1.study(); // \"Eve is studying in grade 12.\"\n"
   ]
  },
  {
   "cell_type": "code",
   "execution_count": null,
   "id": "93d0a7cb-c885-433d-aae4-4bec9c11edab",
   "metadata": {},
   "outputs": [],
   "source": []
  }
 ],
 "metadata": {
  "kernelspec": {
   "display_name": "Deno",
   "language": "typescript",
   "name": "deno"
  },
  "language_info": {
   "file_extension": ".ts",
   "mimetype": "text/x.typescript",
   "name": "typescript",
   "nb_converter": "script",
   "pygments_lexer": "typescript",
   "version": "5.2.2"
  }
 },
 "nbformat": 4,
 "nbformat_minor": 5
}
