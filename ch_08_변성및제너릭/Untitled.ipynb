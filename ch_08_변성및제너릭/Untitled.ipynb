{
 "cells": [
  {
   "cell_type": "code",
   "execution_count": null,
   "id": "541577f4-5d21-4822-aac8-fac35a1cb168",
   "metadata": {},
   "outputs": [],
   "source": []
  },
  {
   "cell_type": "code",
   "execution_count": null,
   "id": "58c09dea-c2a1-45a8-bfc6-bb30d6a96e93",
   "metadata": {},
   "outputs": [],
   "source": []
  },
  {
   "cell_type": "markdown",
   "id": "1f08d551-d999-4480-979e-be47a53d5fe4",
   "metadata": {},
   "source": [
    "## 변성처리 \n",
    "\n",
    "### 변성은 타입의 상속 관계에서 허용되는 타입의 대입 관계를 말합니다. 타입스크립트에서는 다음과 같은 4가지 변성이 있습니다.\n",
    "\n",
    "- 공변성(Covariance): 하위 타입은 상위 타입에 할당할 수 있습니다.\n",
    "- 반공변성(Contravariance): 상위 타입은 하위 타입에 할당할 수 있습니다.\n",
    "- 무공변성(Invariance): 타입은 서로 할당할 수 없습니다."
   ]
  },
  {
   "cell_type": "code",
   "execution_count": null,
   "id": "d572d7f1-1528-42fa-844c-f11869fa0caa",
   "metadata": {},
   "outputs": [],
   "source": []
  },
  {
   "cell_type": "markdown",
   "id": "4029bbfc-e6a3-42f3-9938-1eae11064c0a",
   "metadata": {},
   "source": [
    "## 1. 공변성 "
   ]
  },
  {
   "cell_type": "code",
   "execution_count": null,
   "id": "aec605c4-4870-46e9-9480-a37384a47372",
   "metadata": {},
   "outputs": [],
   "source": []
  },
  {
   "cell_type": "code",
   "execution_count": 6,
   "id": "0f991de0-6f44-4f07-99b1-6eefbd59c08a",
   "metadata": {},
   "outputs": [
    {
     "data": {},
     "execution_count": 6,
     "metadata": {},
     "output_type": "execute_result"
    }
   ],
   "source": [
    "interface Super { \n",
    "    name:string;\n",
    "}"
   ]
  },
  {
   "cell_type": "code",
   "execution_count": 7,
   "id": "ffb535cd-4436-4374-94ed-2bd4c56fec58",
   "metadata": {},
   "outputs": [
    {
     "data": {},
     "execution_count": 7,
     "metadata": {},
     "output_type": "execute_result"
    }
   ],
   "source": [
    "interface Sub extends Super { \n",
    "    age:number;\n",
    "}"
   ]
  },
  {
   "cell_type": "code",
   "execution_count": 11,
   "id": "bc28a5b7-c256-4af9-a5f9-729169ca5112",
   "metadata": {},
   "outputs": [
    {
     "data": {},
     "execution_count": 11,
     "metadata": {},
     "output_type": "execute_result"
    }
   ],
   "source": [
    "const ss : Sub = { name : \"가을이\", age:33 };"
   ]
  },
  {
   "cell_type": "code",
   "execution_count": 12,
   "id": "d538f6ce-2c9c-482c-8430-5b0dcec87b2c",
   "metadata": {},
   "outputs": [
    {
     "data": {},
     "execution_count": 12,
     "metadata": {},
     "output_type": "execute_result"
    }
   ],
   "source": [
    "const ss1 : Super = ss;"
   ]
  },
  {
   "cell_type": "code",
   "execution_count": null,
   "id": "bdb3a085-284e-4634-b392-2ac2dcbfd47b",
   "metadata": {},
   "outputs": [],
   "source": []
  }
 ],
 "metadata": {
  "kernelspec": {
   "display_name": "Deno",
   "language": "typescript",
   "name": "deno"
  },
  "language_info": {
   "file_extension": ".ts",
   "mimetype": "text/x.typescript",
   "name": "typescript",
   "nb_converter": "script",
   "pygments_lexer": "typescript",
   "version": "5.2.2"
  }
 },
 "nbformat": 4,
 "nbformat_minor": 5
}
