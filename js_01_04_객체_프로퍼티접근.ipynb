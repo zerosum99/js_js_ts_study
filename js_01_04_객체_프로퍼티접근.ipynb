{
 "cells": [
  {
   "cell_type": "code",
   "execution_count": null,
   "id": "5a54fba5-3713-409a-9757-d7f03259f6fa",
   "metadata": {},
   "outputs": [],
   "source": []
  },
  {
   "cell_type": "markdown",
   "id": "3bb261eb-5f29-4239-a5ba-cb92351d9607",
   "metadata": {},
   "source": [
    "## 프로퍼티 접근\n",
    "\n",
    "- 점연산자\n",
    "- 대돨호표기"
   ]
  },
  {
   "cell_type": "code",
   "execution_count": null,
   "id": "0a02da41-a38f-4658-9a52-1fb5d9a4fbd3",
   "metadata": {},
   "outputs": [],
   "source": []
  },
  {
   "cell_type": "code",
   "execution_count": 6,
   "id": "40662ba6-fbf8-4fb0-8687-90e582cb7f63",
   "metadata": {},
   "outputs": [
    {
     "data": {},
     "execution_count": 6,
     "metadata": {},
     "output_type": "execute_result"
    }
   ],
   "source": [
    "var person = { name : \"가을이\" ,\n",
    "             'lase-name' : \"강\",\n",
    "             1 : 10}"
   ]
  },
  {
   "cell_type": "markdown",
   "id": "afc7bbab-ba57-4b53-a575-19a7fc7f99ed",
   "metadata": {},
   "source": [
    "### 점 표기법"
   ]
  },
  {
   "cell_type": "code",
   "execution_count": 7,
   "id": "74a2bbbd-0a10-47df-950c-d0af107675ed",
   "metadata": {},
   "outputs": [
    {
     "data": {
      "text/plain": [
       "\u001b[32m\"가을이\"\u001b[39m"
      ]
     },
     "execution_count": 7,
     "metadata": {},
     "output_type": "execute_result"
    }
   ],
   "source": [
    "person.name"
   ]
  },
  {
   "cell_type": "markdown",
   "id": "f86819ac-352f-4ac8-b99b-d298b2027058",
   "metadata": {},
   "source": [
    "## 대괄호표기법"
   ]
  },
  {
   "cell_type": "code",
   "execution_count": 8,
   "id": "193d2ce3-c4be-4b7b-95b6-b9479a11b2fb",
   "metadata": {},
   "outputs": [
    {
     "data": {
      "text/plain": [
       "\u001b[32m\"가을이\"\u001b[39m"
      ]
     },
     "execution_count": 8,
     "metadata": {},
     "output_type": "execute_result"
    }
   ],
   "source": [
    "person['name']"
   ]
  },
  {
   "cell_type": "markdown",
   "id": "776d8b1c-f41d-45c5-b9f2-46fc2bcfb649",
   "metadata": {},
   "source": [
    "## 존재하지 않은 프로퍼티 접근하기"
   ]
  },
  {
   "cell_type": "code",
   "execution_count": 9,
   "id": "a9e04b31-7a74-4d35-b898-540a6ecd2845",
   "metadata": {},
   "outputs": [
    {
     "data": {},
     "execution_count": 9,
     "metadata": {},
     "output_type": "execute_result"
    },
    {
     "name": "stdout",
     "output_type": "stream",
     "text": [
      "\u001b[90mundefined\u001b[39m\n"
     ]
    }
   ],
   "source": [
    "console.log(person.age);"
   ]
  },
  {
   "cell_type": "markdown",
   "id": "00eff7e0-d27e-4b05-b168-3cbcc93b1f14",
   "metadata": {},
   "source": [
    "## 프로퍼티 이름이 식별자 표기법이 아닐 경우 \n",
    "\n",
    "- 문자열로 처리하지 않으면 에러 "
   ]
  },
  {
   "cell_type": "code",
   "execution_count": 10,
   "id": "d22123c5-6a7e-4b66-83f0-4baef247c75f",
   "metadata": {},
   "outputs": [
    {
     "ename": "ReferenceError",
     "evalue": "name is not defined",
     "output_type": "error",
     "traceback": [
      "Stack trace:",
      "ReferenceError: name is not defined",
      "    at <anonymous>:2:15"
     ]
    }
   ],
   "source": [
    "person.lase-name"
   ]
  },
  {
   "cell_type": "code",
   "execution_count": 11,
   "id": "7b9fc559-959e-4e8c-bc5a-a72474202547",
   "metadata": {},
   "outputs": [
    {
     "ename": "ReferenceError",
     "evalue": "lase is not defined",
     "output_type": "error",
     "traceback": [
      "Stack trace:",
      "ReferenceError: lase is not defined",
      "    at <anonymous>:2:8"
     ]
    }
   ],
   "source": [
    "person[lase-name]"
   ]
  },
  {
   "cell_type": "code",
   "execution_count": 12,
   "id": "2d8038bb-4b98-4e72-93f3-7150269c85f8",
   "metadata": {},
   "outputs": [
    {
     "data": {
      "text/plain": [
       "\u001b[32m\"강\"\u001b[39m"
      ]
     },
     "execution_count": 12,
     "metadata": {},
     "output_type": "execute_result"
    }
   ],
   "source": [
    "person['lase-name']"
   ]
  },
  {
   "cell_type": "markdown",
   "id": "b5ee28cd-54e5-42e9-852b-b98d80e333f8",
   "metadata": {},
   "source": [
    "## 프로퍼티가 숫자일 경우 처리 방식 \n",
    "\n",
    "- 대괄호 표기법에서 숫자나 문자열로 처리 가능 \n",
    "- 점 표기법 처리 안됨 "
   ]
  },
  {
   "cell_type": "code",
   "execution_count": 13,
   "id": "817af04c-0329-4c70-a136-106e21d9f84c",
   "metadata": {},
   "outputs": [
    {
     "ename": "Expected ';', '}' or <eof> at repl.ts:1:7\n\n  person.1\n        ~~",
     "evalue": " ",
     "output_type": "error",
     "traceback": []
    }
   ],
   "source": [
    "person.1"
   ]
  },
  {
   "cell_type": "code",
   "execution_count": 14,
   "id": "cc5a8424-da2f-4038-8f4d-4e98da9eb46a",
   "metadata": {},
   "outputs": [
    {
     "data": {
      "text/plain": [
       "\u001b[33m10\u001b[39m"
      ]
     },
     "execution_count": 14,
     "metadata": {},
     "output_type": "execute_result"
    }
   ],
   "source": [
    "person[1]"
   ]
  },
  {
   "cell_type": "code",
   "execution_count": 15,
   "id": "d374fdf6-4482-436e-9345-54dca3817a54",
   "metadata": {},
   "outputs": [
    {
     "data": {
      "text/plain": [
       "\u001b[33m10\u001b[39m"
      ]
     },
     "execution_count": 15,
     "metadata": {},
     "output_type": "execute_result"
    }
   ],
   "source": [
    "person['1']"
   ]
  },
  {
   "cell_type": "code",
   "execution_count": null,
   "id": "eb0eaa7a-252d-4896-a2c3-bf6c09e27777",
   "metadata": {},
   "outputs": [],
   "source": []
  }
 ],
 "metadata": {
  "kernelspec": {
   "display_name": "Deno",
   "language": "typescript",
   "name": "deno"
  },
  "language_info": {
   "file_extension": ".ts",
   "mimetype": "text/x.typescript",
   "name": "typescript",
   "nb_converter": "script",
   "pygments_lexer": "typescript",
   "version": "5.2.2"
  }
 },
 "nbformat": 4,
 "nbformat_minor": 5
}
