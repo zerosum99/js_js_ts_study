{
 "cells": [
  {
   "cell_type": "code",
   "execution_count": null,
   "id": "5630bbfe-d3c7-4015-b653-279dcefe1e46",
   "metadata": {},
   "outputs": [],
   "source": []
  },
  {
   "cell_type": "code",
   "execution_count": null,
   "id": "68d6b5f0-7d39-49f6-9b86-46c4bf6c7ffa",
   "metadata": {},
   "outputs": [],
   "source": []
  },
  {
   "cell_type": "markdown",
   "id": "33a88750-9d30-4368-b16f-bf62aba20672",
   "metadata": {},
   "source": [
    "## any \n",
    "\n",
    "\n",
    "- 기존 JavaScript 코드를 TypeScript로 전환할 때, 타입 정보를 부분적으로 포함하거나 생략하고 싶을 때.\n",
    "\n",
    "- 동적 타입 검사가 필요한 특정 상황에서, 일부 코드가 타입 검사를 필요로 하지 않는 경우.\n",
    "\n",
    "- 타입을 알 수 없는 외부 라이브러리와 상호작용해야 할 때."
   ]
  },
  {
   "cell_type": "code",
   "execution_count": null,
   "id": "f782089d-660d-4ef5-8eee-cdb74b127962",
   "metadata": {},
   "outputs": [],
   "source": []
  },
  {
   "cell_type": "code",
   "execution_count": 30,
   "id": "c9611603-a704-4795-90fd-9477793f040f",
   "metadata": {},
   "outputs": [
    {
     "data": {
      "text/plain": [
       "\u001b[32m\"Hello\"\u001b[39m"
      ]
     },
     "execution_count": 30,
     "metadata": {},
     "output_type": "execute_result"
    }
   ],
   "source": [
    "let value: any;\n",
    "\n",
    "value = 5; // 유효, value는 어떤 값도 가질 수 있음\n",
    "value = \"Hello\"; // 유효, 여전히 어떤 값도 가질 수 있음\n",
    "\n",
    "// TypeScript의 타입 검사를 우회\n",
    "const length: number = value.length; // 에러가 발생하지 않음\n"
   ]
  },
  {
   "cell_type": "code",
   "execution_count": null,
   "id": "2e2ac87b-caae-4ca7-98bf-5ee3ff3a631b",
   "metadata": {},
   "outputs": [],
   "source": []
  },
  {
   "cell_type": "code",
   "execution_count": 2,
   "id": "ba5f7327-be0a-4d5e-b73c-99cd7c3db3c3",
   "metadata": {},
   "outputs": [
    {
     "data": {},
     "execution_count": 2,
     "metadata": {},
     "output_type": "execute_result"
    }
   ],
   "source": [
    "let str : any = 'hello';\n",
    "\n",
    "const result = str.length;"
   ]
  },
  {
   "cell_type": "code",
   "execution_count": 3,
   "id": "22d89edf-463c-46a8-a77a-fb7f35d2932a",
   "metadata": {},
   "outputs": [
    {
     "data": {},
     "execution_count": 3,
     "metadata": {},
     "output_type": "execute_result"
    }
   ],
   "source": [
    "const result = str.length;"
   ]
  },
  {
   "cell_type": "code",
   "execution_count": 4,
   "id": "9af359dd-2a4b-442c-b818-f67c9ce67f46",
   "metadata": {},
   "outputs": [
    {
     "data": {
      "text/plain": [
       "\u001b[32m\"string\"\u001b[39m"
      ]
     },
     "execution_count": 4,
     "metadata": {},
     "output_type": "execute_result"
    }
   ],
   "source": [
    "typeof str"
   ]
  },
  {
   "cell_type": "code",
   "execution_count": 9,
   "id": "07820f4b-652e-49cd-abc0-29f2c1537a33",
   "metadata": {},
   "outputs": [
    {
     "data": {
      "text/plain": [
       "\u001b[33m300.333\u001b[39m"
      ]
     },
     "execution_count": 9,
     "metadata": {},
     "output_type": "execute_result"
    }
   ],
   "source": [
    "str = 300.333;"
   ]
  },
  {
   "cell_type": "code",
   "execution_count": 10,
   "id": "529465ba-0f7d-4124-8521-90a05277d185",
   "metadata": {},
   "outputs": [
    {
     "data": {
      "text/plain": [
       "\u001b[32m\"300\"\u001b[39m"
      ]
     },
     "execution_count": 10,
     "metadata": {},
     "output_type": "execute_result"
    }
   ],
   "source": [
    "str.toFixed();"
   ]
  },
  {
   "cell_type": "code",
   "execution_count": 11,
   "id": "85aba4e3-b9d2-4759-af4c-b6e296f96e99",
   "metadata": {},
   "outputs": [
    {
     "data": {
      "text/plain": [
       "\u001b[32m\"number\"\u001b[39m"
      ]
     },
     "execution_count": 11,
     "metadata": {},
     "output_type": "execute_result"
    }
   ],
   "source": [
    "typeof str"
   ]
  },
  {
   "cell_type": "code",
   "execution_count": 12,
   "id": "83f7adfd-11ca-4050-8003-661cb27bfc69",
   "metadata": {},
   "outputs": [
    {
     "data": {},
     "execution_count": 12,
     "metadata": {},
     "output_type": "execute_result"
    }
   ],
   "source": [
    "let var1 : number = str;"
   ]
  },
  {
   "cell_type": "code",
   "execution_count": 13,
   "id": "abbee0c6-f355-4d81-bc1f-4c9f339d7d50",
   "metadata": {},
   "outputs": [
    {
     "data": {
      "text/plain": [
       "\u001b[33m300.333\u001b[39m"
      ]
     },
     "execution_count": 13,
     "metadata": {},
     "output_type": "execute_result"
    }
   ],
   "source": [
    "var1"
   ]
  },
  {
   "cell_type": "code",
   "execution_count": null,
   "id": "31d6c44a-ead3-4d48-87d3-23230184ada7",
   "metadata": {},
   "outputs": [],
   "source": []
  },
  {
   "cell_type": "markdown",
   "id": "9d3bc9ff-90b9-4986-ad7a-8b7c95ada30e",
   "metadata": {},
   "source": [
    "## unknown\n",
    "\n",
    "\n",
    "### unknown 타입을 사용하는 주요 특징은 다음과 같습니다:\n",
    "\n",
    "- unknown 타입은 모든 값의 타입을 나타냅니다. 따라서 어떤 값을 unknown에 할당해도 타입 오류가 발생하지 않습니다.\n",
    "\n",
    "- unknown 타입의 값은 직접 사용하기 어렵기 때문에 사용 전에 타입을 명시적으로 확인해야 합니다.\n",
    "\n",
    "- unknown 값을 다른 타입으로 타입 단언 (Type Assertion)을 통해 변환할 수 있습니다. 이때 주의해야 합니다. "
   ]
  },
  {
   "cell_type": "code",
   "execution_count": 5,
   "id": "cc941bce-0ec3-423b-8822-a8deb5cd2e6a",
   "metadata": {},
   "outputs": [
    {
     "data": {},
     "execution_count": 5,
     "metadata": {},
     "output_type": "execute_result"
    }
   ],
   "source": [
    "let userInput: unknown;\n",
    "\n",
    "userInput = 5;\n",
    "userInput = \"Hello\";\n",
    "\n",
    "// 타입 단언을 사용하여 unknown을 string으로 변환\n",
    "const str11: string = userInput as string;\n",
    "\n",
    "if (typeof userInput === \"string\") {\n",
    "  // typeof 검사를 통해 안전하게 string으로 변환\n",
    "  const str12: string = userInput;\n",
    "}\n",
    "\n"
   ]
  },
  {
   "cell_type": "code",
   "execution_count": 7,
   "id": "c4b73ba7-1974-42a3-867b-01a50fd5e965",
   "metadata": {},
   "outputs": [
    {
     "data": {
      "text/plain": [
       "\u001b[33m5\u001b[39m"
      ]
     },
     "execution_count": 7,
     "metadata": {},
     "output_type": "execute_result"
    }
   ],
   "source": [
    "userInput.length"
   ]
  },
  {
   "cell_type": "markdown",
   "id": "cb1411c8-3435-4c09-bca7-fdecc55b9dde",
   "metadata": {},
   "source": [
    "### vscode 에서 에러 발생 "
   ]
  },
  {
   "cell_type": "code",
   "execution_count": 6,
   "id": "cd672a9d-bb22-4445-aa43-33419a29c5bd",
   "metadata": {},
   "outputs": [
    {
     "data": {},
     "execution_count": 6,
     "metadata": {},
     "output_type": "execute_result"
    }
   ],
   "source": [
    "\n",
    "// 다른 타입으로 변환할 수 없는 경우 에러가 발생\n",
    "// const num11: number = userInput; // 에러: Type 'unknown' is not assignable to type 'number'."
   ]
  },
  {
   "cell_type": "code",
   "execution_count": null,
   "id": "48692616-254f-404c-a633-20096bc14187",
   "metadata": {},
   "outputs": [],
   "source": []
  },
  {
   "cell_type": "code",
   "execution_count": null,
   "id": "e6c630d6-488d-44e1-a2d1-5948b9320c9f",
   "metadata": {},
   "outputs": [],
   "source": []
  },
  {
   "cell_type": "markdown",
   "id": "b0adb507-aaf6-4897-b51e-6eaf8d0543c1",
   "metadata": {},
   "source": [
    "## {} Object 타입 "
   ]
  },
  {
   "cell_type": "code",
   "execution_count": null,
   "id": "51b51c32-0e0b-4f17-8924-c9255662f189",
   "metadata": {},
   "outputs": [],
   "source": []
  },
  {
   "cell_type": "code",
   "execution_count": 34,
   "id": "7095f9af-cb3c-4ac7-a07c-a85d5ef20e25",
   "metadata": {},
   "outputs": [
    {
     "data": {},
     "execution_count": 34,
     "metadata": {},
     "output_type": "execute_result"
    }
   ],
   "source": [
    "// {} 타입에 undefined, null을 할당할 수 없습니다.\n",
    "const object1: {} = undefined; // error\n",
    "const object2: {} = null; // error"
   ]
  },
  {
   "cell_type": "code",
   "execution_count": null,
   "id": "5f58e599-a1fa-4a03-b399-c4919acfacb3",
   "metadata": {},
   "outputs": [],
   "source": []
  },
  {
   "cell_type": "code",
   "execution_count": null,
   "id": "88868be1-8b58-47d2-a39a-46400a07cf4d",
   "metadata": {},
   "outputs": [],
   "source": []
  },
  {
   "cell_type": "code",
   "execution_count": null,
   "id": "cd8aa927-c143-443b-9e49-86f72fd54bc1",
   "metadata": {},
   "outputs": [],
   "source": []
  },
  {
   "cell_type": "markdown",
   "id": "e7d46335-a4fd-434b-add2-1bcc98b9633b",
   "metadata": {},
   "source": [
    "## void\n"
   ]
  },
  {
   "cell_type": "code",
   "execution_count": 22,
   "id": "5b46df87-9873-404f-a40f-07e0b1a6ba8a",
   "metadata": {},
   "outputs": [
    {
     "data": {},
     "execution_count": 22,
     "metadata": {},
     "output_type": "execute_result"
    }
   ],
   "source": [
    "const func : () => void = () => 3;"
   ]
  },
  {
   "cell_type": "code",
   "execution_count": 23,
   "id": "9d33211e-9643-43e5-b5ea-cbf57bbf3564",
   "metadata": {},
   "outputs": [
    {
     "data": {
      "text/plain": [
       "\u001b[33m3\u001b[39m"
      ]
     },
     "execution_count": 23,
     "metadata": {},
     "output_type": "execute_result"
    }
   ],
   "source": [
    "func()"
   ]
  },
  {
   "cell_type": "markdown",
   "id": "9d6e8866-eb01-4f81-aaec-2d027ddd1547",
   "metadata": {},
   "source": [
    "### vscode에서는 전부 에러가 발생함  "
   ]
  },
  {
   "cell_type": "code",
   "execution_count": 16,
   "id": "b8420397-e8fa-4902-a8c9-f94569dac119",
   "metadata": {},
   "outputs": [
    {
     "data": {},
     "execution_count": 16,
     "metadata": {},
     "output_type": "execute_result"
    }
   ],
   "source": [
    "const func1:() => void  = ():void => 3;"
   ]
  },
  {
   "cell_type": "code",
   "execution_count": 17,
   "id": "b1b6ab83-2878-45fd-a698-9d4538ae090a",
   "metadata": {},
   "outputs": [
    {
     "data": {},
     "execution_count": 17,
     "metadata": {},
     "output_type": "execute_result"
    },
    {
     "name": "stdout",
     "output_type": "stream",
     "text": [
      "\u001b[33m3\u001b[39m\n"
     ]
    }
   ],
   "source": [
    "console.log(func1());"
   ]
  },
  {
   "cell_type": "code",
   "execution_count": 14,
   "id": "451417eb-0512-4322-a873-9235f471ce63",
   "metadata": {},
   "outputs": [
    {
     "data": {},
     "execution_count": 14,
     "metadata": {},
     "output_type": "execute_result"
    }
   ],
   "source": [
    "const func2 = ():void => 3;"
   ]
  },
  {
   "cell_type": "code",
   "execution_count": 15,
   "id": "fec479fc-097e-4837-b09c-30f1bcfe6fe0",
   "metadata": {},
   "outputs": [
    {
     "data": {},
     "execution_count": 15,
     "metadata": {},
     "output_type": "execute_result"
    },
    {
     "name": "stdout",
     "output_type": "stream",
     "text": [
      "\u001b[33m3\u001b[39m\n"
     ]
    }
   ],
   "source": [
    "console.log(func2());"
   ]
  },
  {
   "cell_type": "code",
   "execution_count": null,
   "id": "ad54b06c-f2bd-4397-bc10-56119e6806fe",
   "metadata": {},
   "outputs": [],
   "source": []
  },
  {
   "cell_type": "code",
   "execution_count": 19,
   "id": "d35229c2-096f-4722-a359-61ed8fb262d5",
   "metadata": {},
   "outputs": [
    {
     "data": {},
     "execution_count": 19,
     "metadata": {},
     "output_type": "execute_result"
    }
   ],
   "source": [
    "const func3:() => void | undefined  = ():void => 3;"
   ]
  },
  {
   "cell_type": "code",
   "execution_count": 20,
   "id": "54bf74d2-425c-4bd8-a405-b3fc5e2f17d8",
   "metadata": {},
   "outputs": [
    {
     "data": {},
     "execution_count": 20,
     "metadata": {},
     "output_type": "execute_result"
    },
    {
     "name": "stdout",
     "output_type": "stream",
     "text": [
      "\u001b[33m3\u001b[39m\n"
     ]
    }
   ],
   "source": [
    "console.log(func3());"
   ]
  },
  {
   "cell_type": "code",
   "execution_count": null,
   "id": "bc90cfa2-69fa-4656-990d-4d9799fe474f",
   "metadata": {},
   "outputs": [],
   "source": []
  }
 ],
 "metadata": {
  "kernelspec": {
   "display_name": "Deno",
   "language": "typescript",
   "name": "deno"
  },
  "language_info": {
   "file_extension": ".ts",
   "mimetype": "text/x.typescript",
   "name": "typescript",
   "nb_converter": "script",
   "pygments_lexer": "typescript",
   "version": "5.2.2"
  }
 },
 "nbformat": 4,
 "nbformat_minor": 5
}
