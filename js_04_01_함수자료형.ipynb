{
 "cells": [
  {
   "cell_type": "code",
   "execution_count": 15,
   "id": "999671c0-ced5-46e8-9c2f-344dbb63bb15",
   "metadata": {},
   "outputs": [
    {
     "ename": "Expected ';', '}' or <eof> at repl.ts:1:8\n\n  !conda info\n         ~~~~",
     "evalue": " ",
     "output_type": "error",
     "traceback": []
    }
   ],
   "source": []
  },
  {
   "cell_type": "code",
   "execution_count": null,
   "id": "32fa80f5-5d30-454f-99e2-c499ea27ff14",
   "metadata": {},
   "outputs": [],
   "source": []
  },
  {
   "cell_type": "markdown",
   "id": "0e440490-e031-4c26-802e-8ef99a4ca895",
   "metadata": {},
   "source": [
    "## 함수 자료형과 함수 시그니터 차이점 \n",
    "\n",
    "### 차이점 \n",
    "\n",
    "- 함수자료형: 함수자료형은 함수의 타입을 직접 정의하는 방법으로, 함수를 변수에 할당하거나 다른 함수에 전달할 때 사용\n",
    "- 인터페이스: 인터페이스는 함숭 객체의 구조를 정의하는 데 사용되는 일반적인 타입입니다. \n",
    "\n",
    "### 정의 방법 :\n",
    "\n",
    "- 함수자료형: (매개변수명:자료형,...) => (반환자료형) \n",
    "- 인터페이스: interface 내에 (매개변수명 : 자료형, ...) : 반환자료형 정의 \n",
    "\n",
    "### 목적:\n",
    "\n",
    "- 함수자료형: 함수를 타입으로 정의하고 다른 함수에 전달하거나 변수에 할당하는 데 주로 사용\n",
    "- 인터페이스: 인터페이스는 객체의 구조를 정의하기 위한 주요 도구이며, 함수 시그니처를 포함하여 객체의 구조를 더 명확하게 정의하고 문서화\n",
    "\n",
    "### 확장성:\n",
    "- 함수자료형: 함수 자료형은 주로 함수의 타입을 정의하는 데 사용되며, 그 자체로 확장성이 높습니다. 필요한 경우 새로운 함수 시그니처를 직접 추가하거나 수정할 수 있습니다.\n",
    "- 인터페이스: 인터페이스는 객체 구조를 정의하는 데 주로 사용되며, 함수 시그니처 외에도 객체의 다른 속성을 정의할 수 있습니다. 함수 시그니처 이외의 다른 멤버도 필요한 경우 추가할 수 있습니다."
   ]
  },
  {
   "cell_type": "markdown",
   "id": "8d9f3e0d-68d1-4c88-a82a-839237652200",
   "metadata": {},
   "source": [
    "## 1. 타입별칭을 사용한 함수 자료형 \n",
    "\n",
    "- => 좌측에 함수 매개변수는 괄호 안에 표시\n",
    "- => 우측에 반환자료형도 표시"
   ]
  },
  {
   "cell_type": "markdown",
   "id": "b8dea5b0-e04e-4efc-8c98-6569f1ade363",
   "metadata": {},
   "source": [
    "### 타입별칭에 함수자료형 할당 "
   ]
  },
  {
   "cell_type": "code",
   "execution_count": null,
   "id": "82095607-ab7d-4e20-b8ba-7eb47f9a7ba1",
   "metadata": {},
   "outputs": [],
   "source": [
    "type AddFunction = (a: number, b: number) => number;"
   ]
  },
  {
   "cell_type": "markdown",
   "id": "48671502-a1bf-42da-915d-8bbe5c205cc0",
   "metadata": {},
   "source": [
    "## 함수정의를 변수에 할당하기 "
   ]
  },
  {
   "cell_type": "code",
   "execution_count": 6,
   "id": "06bb3c38-b258-467e-8efe-3b9f40fa91f9",
   "metadata": {},
   "outputs": [
    {
     "data": {},
     "execution_count": 6,
     "metadata": {},
     "output_type": "execute_result"
    }
   ],
   "source": [
    "function mul(x:number, y:number) : number {\n",
    "    return x*y;\n",
    "}"
   ]
  },
  {
   "cell_type": "code",
   "execution_count": 8,
   "id": "259d9b6c-78d7-40a9-847c-447fa4c4a9d3",
   "metadata": {},
   "outputs": [
    {
     "data": {},
     "execution_count": 8,
     "metadata": {},
     "output_type": "execute_result"
    },
    {
     "name": "stdout",
     "output_type": "stream",
     "text": [
      "\u001b[33m6\u001b[39m\n"
     ]
    }
   ],
   "source": [
    "const mul1: AddFunction = mul;\n",
    "\n",
    "console.log(mul1(2, 3)); "
   ]
  },
  {
   "cell_type": "code",
   "execution_count": null,
   "id": "5dd99597-5329-47c8-9760-6cbbfc3b1351",
   "metadata": {},
   "outputs": [],
   "source": []
  },
  {
   "cell_type": "markdown",
   "id": "eed88e61-0d08-4ddf-b384-451a0dc830ef",
   "metadata": {},
   "source": [
    "### 변수에 화살표  함수를 할당 "
   ]
  },
  {
   "cell_type": "code",
   "execution_count": 1,
   "id": "8f266a8b-5055-4b54-a015-8b424fb45840",
   "metadata": {},
   "outputs": [
    {
     "data": {},
     "execution_count": 1,
     "metadata": {},
     "output_type": "execute_result"
    },
    {
     "name": "stdout",
     "output_type": "stream",
     "text": [
      "\u001b[33m5\u001b[39m\n"
     ]
    }
   ],
   "source": [
    "const add: AddFunction = (x, y) => x + y;\n",
    "\n",
    "console.log(add(2, 3)); // 5"
   ]
  },
  {
   "cell_type": "code",
   "execution_count": null,
   "id": "552a2e31-d455-4f0d-9a20-e002595a8b28",
   "metadata": {},
   "outputs": [],
   "source": []
  },
  {
   "cell_type": "markdown",
   "id": "e0a919b0-977a-4062-aa9d-4906c7156955",
   "metadata": {},
   "source": [
    "## 2. 함수 시그니처를 사용한 함수 자료형 \n",
    "\n",
    "- 인터페이스에는 함수시그니처 표기법 사용\n",
    "- 이때는 함수 자료형에서 => 대신 콜론(:) 을 사용함 "
   ]
  },
  {
   "cell_type": "markdown",
   "id": "9b047e01-11ad-44c5-879b-71a16966dc4a",
   "metadata": {},
   "source": [
    "## 2-1 함수 시그니처 처리 "
   ]
  },
  {
   "cell_type": "code",
   "execution_count": 9,
   "id": "bf25722a-55a1-4e5d-a217-457245f0bbcf",
   "metadata": {},
   "outputs": [
    {
     "data": {},
     "execution_count": 9,
     "metadata": {},
     "output_type": "execute_result"
    }
   ],
   "source": [
    "// 함수 시그니처를 정의하는 인터페이스\n",
    "interface Calculate {\n",
    "  (x: number, y: number): number;\n",
    "}\n"
   ]
  },
  {
   "cell_type": "code",
   "execution_count": 10,
   "id": "31f008f1-b5b8-4087-a05c-1713d57af995",
   "metadata": {},
   "outputs": [
    {
     "data": {},
     "execution_count": 10,
     "metadata": {},
     "output_type": "execute_result"
    },
    {
     "name": "stdout",
     "output_type": "stream",
     "text": [
      "\u001b[33m8\u001b[39m\n",
      "\u001b[33m2\u001b[39m\n"
     ]
    }
   ],
   "source": [
    "// 인터페이스를 사용하여 함수를 정의\n",
    "const add: Calculate = (a, b) => a + b;\n",
    "const subtract: Calculate = (a, b) => a - b;\n",
    "\n",
    "console.log(add(5, 3)); // 8\n",
    "console.log(subtract(5, 3)); // 2\n"
   ]
  },
  {
   "cell_type": "markdown",
   "id": "78e2dbcc-3281-45f0-9423-f03bce4fc657",
   "metadata": {},
   "source": [
    "## 2-2 함수 시그니처를 정의하는 인터페이스에 속성 추가"
   ]
  },
  {
   "cell_type": "markdown",
   "id": "72a18189-a0b0-4e54-8334-f5bcb6b6dcbf",
   "metadata": {},
   "source": [
    "### 인터페이스 정의할 때 속성 추가 "
   ]
  },
  {
   "cell_type": "code",
   "execution_count": 11,
   "id": "4e5ecee3-fff3-4d31-a3e3-2e509d32420f",
   "metadata": {},
   "outputs": [
    {
     "data": {},
     "execution_count": 11,
     "metadata": {},
     "output_type": "execute_result"
    }
   ],
   "source": [
    "interface Calculate {\n",
    "  (x: number, y: number): number;\n",
    "  description: string; // 함수에 대한 설명을 추가\n",
    "}"
   ]
  },
  {
   "cell_type": "markdown",
   "id": "f254ee58-130a-41ee-b343-d214096e2a72",
   "metadata": {},
   "source": [
    "### 함수에 속성값 추가 "
   ]
  },
  {
   "cell_type": "code",
   "execution_count": 12,
   "id": "fa627047-3644-4759-8321-31af488b648d",
   "metadata": {},
   "outputs": [
    {
     "data": {
      "text/plain": [
       "\u001b[32m\"뺄셈 함수\"\u001b[39m"
      ]
     },
     "execution_count": 12,
     "metadata": {},
     "output_type": "execute_result"
    }
   ],
   "source": [
    "\n",
    "// Calculate 인터페이스를 따르는 함수 정의\n",
    "const add2: Calculate = (a, b) => a + b;\n",
    "add2.description = \"덧셈 함수\";\n",
    "\n",
    "const subtract: Calculate = (a, b) => a - b;\n",
    "subtract.description = \"뺄셈 함수\";\n"
   ]
  },
  {
   "cell_type": "markdown",
   "id": "de64856a-dc61-4e21-8b82-c2cc408959ec",
   "metadata": {},
   "source": [
    "### 함수를 호출해서 처리하기 "
   ]
  },
  {
   "cell_type": "code",
   "execution_count": 14,
   "id": "1d71202f-cfaa-4be0-b0d7-1d335a3898f3",
   "metadata": {},
   "outputs": [
    {
     "data": {},
     "execution_count": 14,
     "metadata": {},
     "output_type": "execute_result"
    },
    {
     "name": "stdout",
     "output_type": "stream",
     "text": [
      "\u001b[33m28\u001b[39m\n",
      "\u001b[33m2\u001b[39m\n",
      "덧셈 함수\n",
      "뺄셈 함수\n"
     ]
    }
   ],
   "source": [
    "console.log(add(25, 3)); // 8\n",
    "console.log(subtract(5, 3)); // 2\n",
    "\n",
    "console.log(add2.description); // \"덧셈 함수\"\n",
    "console.log(subtract.description); // \"뺄셈 함수\""
   ]
  },
  {
   "cell_type": "code",
   "execution_count": null,
   "id": "e0569e37-4134-4908-ae0f-55463576276a",
   "metadata": {},
   "outputs": [],
   "source": []
  }
 ],
 "metadata": {
  "kernelspec": {
   "display_name": "Deno",
   "language": "typescript",
   "name": "deno"
  },
  "language_info": {
   "file_extension": ".ts",
   "mimetype": "text/x.typescript",
   "name": "typescript",
   "nb_converter": "script",
   "pygments_lexer": "typescript",
   "version": "5.2.2"
  }
 },
 "nbformat": 4,
 "nbformat_minor": 5
}
