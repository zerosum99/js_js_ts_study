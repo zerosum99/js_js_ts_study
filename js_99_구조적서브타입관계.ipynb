{
 "cells": [
  {
   "cell_type": "code",
   "execution_count": null,
   "id": "7b2bc8bb-1150-451c-a2c2-d87a2539428f",
   "metadata": {},
   "outputs": [],
   "source": []
  },
  {
   "cell_type": "code",
   "execution_count": null,
   "id": "ca41ad4c-9bef-4a08-bf00-7cd46bbb1d44",
   "metadata": {},
   "outputs": [],
   "source": []
  },
  {
   "cell_type": "markdown",
   "id": "b12f917d-130d-4b7a-ba19-3cadfda768a3",
   "metadata": {},
   "source": [
    "## 구조적 서브타입 관계(structural subtyping)  \n",
    "\n",
    "-  타입 S가 타입 T의 서브타입이면 타입 S의 객체를 타입 T의 객체로 볼 수 있다.\n",
    "-  객체의 프로퍼티 비교해서 포로퍼티 포함관계를 기준으로 서브타입인지를 결정한다"
   ]
  },
  {
   "cell_type": "markdown",
   "id": "96679b6a-92b5-4a84-8aeb-26c45c3d1746",
   "metadata": {},
   "source": [
    "## 서브타입 관계 확인 방법\n",
    "- T 타입(슈퍼타입)이 가진 모든 프로퍼티가 S타입(서브타입)에 모두 존재\n",
    "- 위의 조건이 만족할 경우 실제 S타입의 프로퍼티의 타입이 T타입에 있는 프로퍼티의 자료형이 서브타입 또는 같은 타입이여야 한다"
   ]
  },
  {
   "cell_type": "code",
   "execution_count": 1,
   "id": "b7085134-56ec-4ea4-8a19-2550ba6cfddc",
   "metadata": {},
   "outputs": [
    {
     "data": {},
     "execution_count": 1,
     "metadata": {},
     "output_type": "execute_result"
    }
   ],
   "source": [
    "type Super = {\n",
    "    name : string;\n",
    "    age  : number;\n",
    "}"
   ]
  },
  {
   "cell_type": "code",
   "execution_count": 2,
   "id": "05bbe831-e7ec-4c1c-b4a4-19aa601054e7",
   "metadata": {},
   "outputs": [
    {
     "data": {},
     "execution_count": 2,
     "metadata": {},
     "output_type": "execute_result"
    }
   ],
   "source": [
    "type Sub = {\n",
    "    name : string;\n",
    "    age  : number;\n",
    "    gender : string;\n",
    "}"
   ]
  },
  {
   "cell_type": "code",
   "execution_count": 3,
   "id": "9163a43b-c814-4165-8c3c-600074bc48c7",
   "metadata": {},
   "outputs": [
    {
     "data": {},
     "execution_count": 3,
     "metadata": {},
     "output_type": "execute_result"
    }
   ],
   "source": [
    "const obj : Sub = {\n",
    "    name : \"강아지\",\n",
    "    age : 33,\n",
    "    gender : \"female\"\n",
    "}"
   ]
  },
  {
   "cell_type": "code",
   "execution_count": 4,
   "id": "69348ac0-aa35-4417-81a7-fe3f575545f3",
   "metadata": {},
   "outputs": [
    {
     "data": {},
     "execution_count": 4,
     "metadata": {},
     "output_type": "execute_result"
    }
   ],
   "source": [
    "const obj2 : Super = obj;"
   ]
  },
  {
   "cell_type": "code",
   "execution_count": null,
   "id": "88dd9464-fa06-43bf-8a0b-7251327cd8e1",
   "metadata": {},
   "outputs": [],
   "source": []
  }
 ],
 "metadata": {
  "kernelspec": {
   "display_name": "Deno",
   "language": "typescript",
   "name": "deno"
  },
  "language_info": {
   "file_extension": ".ts",
   "mimetype": "text/x.typescript",
   "name": "typescript",
   "nb_converter": "script",
   "pygments_lexer": "typescript",
   "version": "5.2.2"
  }
 },
 "nbformat": 4,
 "nbformat_minor": 5
}
