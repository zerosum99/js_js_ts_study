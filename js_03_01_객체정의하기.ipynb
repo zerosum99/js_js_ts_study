{
 "cells": [
  {
   "cell_type": "markdown",
   "id": "1df90d1c-550b-4341-9ef4-31b5ed6dd685",
   "metadata": {},
   "source": [
    "## 빈 객체 정의"
   ]
  },
  {
   "cell_type": "code",
   "execution_count": 1,
   "id": "9dc50fe5-0f1d-4434-8e30-372f38accc35",
   "metadata": {},
   "outputs": [
    {
     "data": {},
     "execution_count": 1,
     "metadata": {},
     "output_type": "execute_result"
    }
   ],
   "source": [
    "const obj = {};\n"
   ]
  },
  {
   "cell_type": "code",
   "execution_count": 2,
   "id": "27a8bafe-f0a8-460b-a9fc-d4382a827d19",
   "metadata": {},
   "outputs": [
    {
     "data": {
      "text/plain": [
       "{}"
      ]
     },
     "execution_count": 2,
     "metadata": {},
     "output_type": "execute_result"
    }
   ],
   "source": [
    "obj"
   ]
  },
  {
   "cell_type": "markdown",
   "id": "54619063-f793-4d4d-9a43-a3fb66a86535",
   "metadata": {},
   "source": [
    "## 동적 키 생성 "
   ]
  },
  {
   "cell_type": "code",
   "execution_count": 3,
   "id": "ba4243ee-081d-4aac-a418-81e75a8b3cf8",
   "metadata": {},
   "outputs": [
    {
     "data": {},
     "execution_count": 3,
     "metadata": {},
     "output_type": "execute_result"
    }
   ],
   "source": [
    "var key = 'hello';"
   ]
  },
  {
   "cell_type": "code",
   "execution_count": 4,
   "id": "f6efb05c-53d7-4271-8990-09a7f0b16d9b",
   "metadata": {},
   "outputs": [
    {
     "data": {
      "text/plain": [
       "\u001b[32m\"world\"\u001b[39m"
      ]
     },
     "execution_count": 4,
     "metadata": {},
     "output_type": "execute_result"
    }
   ],
   "source": [
    "obj[key] = 'world';"
   ]
  },
  {
   "cell_type": "code",
   "execution_count": 5,
   "id": "7229717a-26e0-4321-af17-52f5aec2c50f",
   "metadata": {},
   "outputs": [
    {
     "data": {},
     "execution_count": 5,
     "metadata": {},
     "output_type": "execute_result"
    },
    {
     "name": "stdout",
     "output_type": "stream",
     "text": [
      "{ hello: \u001b[32m\"world\"\u001b[39m }\n"
     ]
    }
   ],
   "source": [
    "console.log(obj);"
   ]
  },
  {
   "cell_type": "markdown",
   "id": "f8db4128-c3f1-442c-813f-9fef3e48bc25",
   "metadata": {},
   "source": [
    "## 계산된 프로퍼티 사용 "
   ]
  },
  {
   "cell_type": "code",
   "execution_count": 6,
   "id": "ae6d57d2-dd49-439f-b3a6-2fcd576563bf",
   "metadata": {},
   "outputs": [
    {
     "data": {},
     "execution_count": 6,
     "metadata": {},
     "output_type": "execute_result"
    }
   ],
   "source": [
    "const obj1 = {[key] : 'hohoho'}"
   ]
  },
  {
   "cell_type": "code",
   "execution_count": 7,
   "id": "e1160507-2f8b-4ef1-b03c-b9015479c83d",
   "metadata": {},
   "outputs": [
    {
     "data": {
      "text/plain": [
       "{ hello: \u001b[32m\"hohoho\"\u001b[39m }"
      ]
     },
     "execution_count": 7,
     "metadata": {},
     "output_type": "execute_result"
    }
   ],
   "source": [
    "obj1"
   ]
  },
  {
   "cell_type": "markdown",
   "id": "82720330-3102-4d9b-825d-78e3fb1cc49e",
   "metadata": {},
   "source": [
    "## 숫자를 키로 처리하기\n",
    "\n",
    "- 보통 숫자로 처리도 가능하지만 실제 문자로 처리됨 "
   ]
  },
  {
   "cell_type": "code",
   "execution_count": 9,
   "id": "7c9607f3-599a-4f60-8eaa-365260277735",
   "metadata": {},
   "outputs": [
    {
     "data": {},
     "execution_count": 9,
     "metadata": {},
     "output_type": "execute_result"
    }
   ],
   "source": [
    "var foo = { 0 : 1, 1:2, 2: 3}; "
   ]
  },
  {
   "cell_type": "code",
   "execution_count": 10,
   "id": "b37a7aee-3ec6-4acb-9572-a08a324bc41c",
   "metadata": {},
   "outputs": [
    {
     "data": {
      "text/plain": [
       "\u001b[33m1\u001b[39m"
      ]
     },
     "execution_count": 10,
     "metadata": {},
     "output_type": "execute_result"
    }
   ],
   "source": [
    "foo['0']"
   ]
  },
  {
   "cell_type": "code",
   "execution_count": 11,
   "id": "3277470e-6dd8-454e-bdf4-d97817e49fc7",
   "metadata": {},
   "outputs": [
    {
     "data": {
      "text/plain": [
       "\u001b[33m1\u001b[39m"
      ]
     },
     "execution_count": 11,
     "metadata": {},
     "output_type": "execute_result"
    }
   ],
   "source": [
    "foo[0]"
   ]
  },
  {
   "cell_type": "markdown",
   "id": "e7c9957f-118d-4e86-9d68-25d2b5cab8cb",
   "metadata": {},
   "source": [
    "### 숫자는 이름을 처리 불가 "
   ]
  },
  {
   "cell_type": "code",
   "execution_count": 12,
   "id": "9ff408e9-dc96-4d45-8c1c-abccb3685888",
   "metadata": {},
   "outputs": [
    {
     "ename": "Expected ';', '}' or <eof> at repl.ts:1:4\n\n  foo.0\n     ~~",
     "evalue": " ",
     "output_type": "error",
     "traceback": []
    }
   ],
   "source": [
    "foo.0"
   ]
  },
  {
   "cell_type": "markdown",
   "id": "2114f8be-b414-4bb0-8d60-58592d80ab8e",
   "metadata": {},
   "source": [
    "##  프로퍼티 키는 예약어도 사용이 가능"
   ]
  },
  {
   "cell_type": "code",
   "execution_count": 13,
   "id": "2e3f061f-a0cc-4122-a50e-69f33ba47675",
   "metadata": {},
   "outputs": [
    {
     "data": {},
     "execution_count": 13,
     "metadata": {},
     "output_type": "execute_result"
    }
   ],
   "source": [
    "var bar = { var : \"var\", function : \"function\" }"
   ]
  },
  {
   "cell_type": "code",
   "execution_count": 14,
   "id": "30059fad-f3f9-4439-8908-7bae7cae0c8f",
   "metadata": {},
   "outputs": [
    {
     "data": {
      "text/plain": [
       "{ var: \u001b[32m\"var\"\u001b[39m, function: \u001b[32m\"function\"\u001b[39m }"
      ]
     },
     "execution_count": 14,
     "metadata": {},
     "output_type": "execute_result"
    }
   ],
   "source": [
    "bar"
   ]
  },
  {
   "cell_type": "markdown",
   "id": "69b395ae-b98f-4a2e-8a11-a9e91713e61e",
   "metadata": {},
   "source": [
    "## 이름이 겹치는 경우 마지막 이름의 값으로 갱신 "
   ]
  },
  {
   "cell_type": "code",
   "execution_count": 16,
   "id": "8f632c8d-3705-4a52-b47c-b4ea6b0b7487",
   "metadata": {},
   "outputs": [
    {
     "data": {},
     "execution_count": 16,
     "metadata": {},
     "output_type": "execute_result"
    }
   ],
   "source": [
    "var foo3 = { name : 'lee', name : \"kim\"}"
   ]
  },
  {
   "cell_type": "code",
   "execution_count": 17,
   "id": "6aed0d8a-52ef-4324-9853-44f2b11cec60",
   "metadata": {},
   "outputs": [
    {
     "data": {
      "text/plain": [
       "{ name: \u001b[32m\"kim\"\u001b[39m }"
      ]
     },
     "execution_count": 17,
     "metadata": {},
     "output_type": "execute_result"
    }
   ],
   "source": [
    "foo3"
   ]
  },
  {
   "cell_type": "code",
   "execution_count": null,
   "id": "e55c3e28-a038-45aa-a8c4-7a6ddb2ef933",
   "metadata": {},
   "outputs": [],
   "source": []
  }
 ],
 "metadata": {
  "kernelspec": {
   "display_name": "Deno",
   "language": "typescript",
   "name": "deno"
  },
  "language_info": {
   "file_extension": ".ts",
   "mimetype": "text/x.typescript",
   "name": "typescript",
   "nb_converter": "script",
   "pygments_lexer": "typescript",
   "version": "5.2.2"
  }
 },
 "nbformat": 4,
 "nbformat_minor": 5
}
