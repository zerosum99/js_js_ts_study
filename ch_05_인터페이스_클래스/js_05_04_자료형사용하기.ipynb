{
 "cells": [
  {
   "cell_type": "code",
   "execution_count": null,
   "id": "6cadf187-f29a-4a64-bdd1-66d9abe61a50",
   "metadata": {},
   "outputs": [],
   "source": []
  },
  {
   "cell_type": "code",
   "execution_count": null,
   "id": "65cf66fb-c443-43a4-b11a-be20ad9aa327",
   "metadata": {},
   "outputs": [],
   "source": []
  },
  {
   "cell_type": "markdown",
   "id": "e42d0aaa-510f-49b2-ba50-fa18c2ce93de",
   "metadata": {},
   "source": [
    "##  인터페이스로 자료형 사용하기 "
   ]
  },
  {
   "cell_type": "code",
   "execution_count": 10,
   "id": "874036be-ca78-4d29-a6a8-2a4be85f1cce",
   "metadata": {},
   "outputs": [
    {
     "data": {},
     "execution_count": 10,
     "metadata": {},
     "output_type": "execute_result"
    }
   ],
   "source": [
    "interface User {\n",
    "  name: string;\n",
    "  id: number;\n",
    "}\n",
    " "
   ]
  },
  {
   "cell_type": "code",
   "execution_count": 11,
   "id": "58804960-e8ea-4922-b6e0-9212792d8ede",
   "metadata": {},
   "outputs": [
    {
     "data": {},
     "execution_count": 11,
     "metadata": {},
     "output_type": "execute_result"
    }
   ],
   "source": [
    "class UserAccount {\n",
    "  name: string;\n",
    "  id: number;\n",
    " \n",
    "  constructor(name: string, id: number) {\n",
    "    this.name = name;\n",
    "    this.id = id;\n",
    "  }\n",
    "}\n",
    " "
   ]
  },
  {
   "cell_type": "code",
   "execution_count": null,
   "id": "cc504a2d-a39b-4eaf-b24f-af0911fa9b1f",
   "metadata": {},
   "outputs": [],
   "source": []
  },
  {
   "cell_type": "code",
   "execution_count": 12,
   "id": "3a726bf7-82f3-49d3-b1a2-b41a38f2f60b",
   "metadata": {},
   "outputs": [
    {
     "data": {},
     "execution_count": 12,
     "metadata": {},
     "output_type": "execute_result"
    }
   ],
   "source": [
    "const user: User = new UserAccount(\"Murphy\", 1);"
   ]
  },
  {
   "cell_type": "markdown",
   "id": "a2172278-f3ad-436c-ad7f-9080a2936725",
   "metadata": {},
   "source": [
    "## 타입별칭으로 자료형 사용하기 "
   ]
  },
  {
   "cell_type": "code",
   "execution_count": 13,
   "id": "723adf6d-312c-4fb9-9f48-238e43229ecb",
   "metadata": {},
   "outputs": [
    {
     "data": {},
     "execution_count": 13,
     "metadata": {},
     "output_type": "execute_result"
    }
   ],
   "source": [
    "type User1 =  {\n",
    "  name: string;\n",
    "  id: number;\n",
    "}"
   ]
  },
  {
   "cell_type": "code",
   "execution_count": 14,
   "id": "55773cd0-e8f9-47ed-bda1-1574126b0c7a",
   "metadata": {},
   "outputs": [
    {
     "data": {},
     "execution_count": 14,
     "metadata": {},
     "output_type": "execute_result"
    }
   ],
   "source": [
    "const user1: User1 = new UserAccount(\"Murphy\", 1);"
   ]
  },
  {
   "cell_type": "code",
   "execution_count": null,
   "id": "475a6b00-4a74-4059-93d4-1297cbc6e476",
   "metadata": {},
   "outputs": [],
   "source": []
  },
  {
   "cell_type": "code",
   "execution_count": null,
   "id": "03aa1f19-4d6a-48f2-a4d8-9a85ad46df4d",
   "metadata": {},
   "outputs": [],
   "source": []
  },
  {
   "cell_type": "markdown",
   "id": "bf155eef-c087-423b-9351-7553cbd764e3",
   "metadata": {},
   "source": [
    "## 클래스로 자료형 정의하고 사용하기 "
   ]
  },
  {
   "cell_type": "code",
   "execution_count": 4,
   "id": "d0fb1dd3-5f6d-4125-985e-ff7323f2504c",
   "metadata": {},
   "outputs": [
    {
     "data": {},
     "execution_count": 4,
     "metadata": {},
     "output_type": "execute_result"
    }
   ],
   "source": [
    "const user2: UserAccount = new UserAccount(\"Murphy\", 1);"
   ]
  },
  {
   "cell_type": "code",
   "execution_count": null,
   "id": "32e55a35-a2d8-47ea-a1ff-e4410e5a0a40",
   "metadata": {},
   "outputs": [],
   "source": []
  }
 ],
 "metadata": {
  "kernelspec": {
   "display_name": "Deno",
   "language": "typescript",
   "name": "deno"
  },
  "language_info": {
   "file_extension": ".ts",
   "mimetype": "text/x.typescript",
   "name": "typescript",
   "nb_converter": "script",
   "pygments_lexer": "typescript",
   "version": "5.2.2"
  }
 },
 "nbformat": 4,
 "nbformat_minor": 5
}
