{
 "cells": [
  {
   "cell_type": "code",
   "execution_count": null,
   "id": "0a864cbc-c81a-4121-8984-e303b1fb9d59",
   "metadata": {},
   "outputs": [],
   "source": []
  },
  {
   "cell_type": "code",
   "execution_count": null,
   "id": "77c62df9-ac2c-4be5-af91-9bb5a4ec2127",
   "metadata": {},
   "outputs": [],
   "source": []
  },
  {
   "cell_type": "code",
   "execution_count": 1,
   "id": "556c2984-53b3-4140-bee9-fb3b0d370ffc",
   "metadata": {},
   "outputs": [
    {
     "data": {},
     "execution_count": 1,
     "metadata": {},
     "output_type": "execute_result"
    }
   ],
   "source": [
    "const age : number = 100;"
   ]
  },
  {
   "cell_type": "code",
   "execution_count": 2,
   "id": "e8e38a94-d808-404d-828e-4612c4d40eed",
   "metadata": {},
   "outputs": [
    {
     "data": {
      "text/plain": [
       "\u001b[32m\"number\"\u001b[39m"
      ]
     },
     "execution_count": 2,
     "metadata": {},
     "output_type": "execute_result"
    }
   ],
   "source": [
    "typeof age"
   ]
  },
  {
   "cell_type": "code",
   "execution_count": 3,
   "id": "491fe057-cc16-49e0-9837-1f7a437fa958",
   "metadata": {},
   "outputs": [
    {
     "data": {},
     "execution_count": 3,
     "metadata": {},
     "output_type": "execute_result"
    }
   ],
   "source": [
    "type Age = typeof age;"
   ]
  },
  {
   "cell_type": "code",
   "execution_count": 4,
   "id": "3b5338e9-6a92-47aa-b47a-248b5b47f7e2",
   "metadata": {},
   "outputs": [
    {
     "data": {},
     "execution_count": 4,
     "metadata": {},
     "output_type": "execute_result"
    }
   ],
   "source": [
    "const aaa : Age = 100;"
   ]
  },
  {
   "cell_type": "code",
   "execution_count": null,
   "id": "9e3b778e-6975-45e5-91c6-09fe324fc7b5",
   "metadata": {},
   "outputs": [],
   "source": []
  }
 ],
 "metadata": {
  "kernelspec": {
   "display_name": "Deno",
   "language": "typescript",
   "name": "deno"
  },
  "language_info": {
   "file_extension": ".ts",
   "mimetype": "text/x.typescript",
   "name": "typescript",
   "nb_converter": "script",
   "pygments_lexer": "typescript",
   "version": "5.2.2"
  }
 },
 "nbformat": 4,
 "nbformat_minor": 5
}
