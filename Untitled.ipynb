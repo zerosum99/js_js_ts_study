{
 "cells": [
  {
   "cell_type": "code",
   "execution_count": 1,
   "id": "00cfd2d5-629c-4a24-8441-c243c4166e79",
   "metadata": {},
   "outputs": [
    {
     "data": {
      "text/plain": [
       "\u001b[33m200\u001b[39m"
      ]
     },
     "execution_count": 1,
     "metadata": {},
     "output_type": "execute_result"
    }
   ],
   "source": [
    "100 + 100"
   ]
  },
  {
   "cell_type": "code",
   "execution_count": 1,
   "id": "e3911922-213b-4151-b36e-d61612b0eddc",
   "metadata": {},
   "outputs": [
    {
     "data": {},
     "execution_count": 1,
     "metadata": {},
     "output_type": "execute_result"
    },
    {
     "name": "stdout",
     "output_type": "stream",
     "text": [
      "Hello, Ada!\n"
     ]
    }
   ],
   "source": [
    "interface Person {\n",
    "  firstName: string,\n",
    "  lastName: string\n",
    "}\n",
    "\n",
    "function sayHello(p: Person): string {\n",
    "  return `Hello, ${p.firstName}!`;\n",
    "}\n",
    "\n",
    "const ada: Person = {\n",
    "  firstName: \"Ada\",\n",
    "  lastName: \"Lovelace\"\n",
    "};\n",
    "\n",
    "console.log(sayHello(ada));"
   ]
  },
  {
   "cell_type": "code",
   "execution_count": null,
   "id": "cbcf312a-65fe-4f82-89a2-b46bbbd4b784",
   "metadata": {},
   "outputs": [],
   "source": []
  },
  {
   "cell_type": "code",
   "execution_count": 2,
   "id": "0a36424e-aef5-468b-b3eb-8ec8e150d84b",
   "metadata": {},
   "outputs": [
    {
     "data": {},
     "execution_count": 2,
     "metadata": {},
     "output_type": "execute_result"
    }
   ],
   "source": [
    "const abc1 = {\n",
    "    name: \"가을이\",\n",
    "    \"age-gender\" : 100\n",
    "};"
   ]
  },
  {
   "cell_type": "code",
   "execution_count": 4,
   "id": "02894667-5b7a-4188-9216-7aa50768768e",
   "metadata": {},
   "outputs": [
    {
     "data": {},
     "execution_count": 4,
     "metadata": {},
     "output_type": "execute_result"
    },
    {
     "name": "stdout",
     "output_type": "stream",
     "text": [
      "\u001b[90mundefined\u001b[39m\n"
     ]
    }
   ],
   "source": [
    "console.log(abc1.age)"
   ]
  },
  {
   "cell_type": "code",
   "execution_count": 7,
   "id": "f6261a16-3778-49b8-b002-4745be0fdfbd",
   "metadata": {},
   "outputs": [
    {
     "ename": "ReferenceError",
     "evalue": "gender is not defined",
     "output_type": "error",
     "traceback": [
      "Stack trace:",
      "ReferenceError: gender is not defined",
      "    at <anonymous>:2:24"
     ]
    }
   ],
   "source": [
    "console.log(abc1.age-gender)"
   ]
  },
  {
   "cell_type": "code",
   "execution_count": null,
   "id": "a3221df5-7d6f-42fa-9740-3f94d2b2d12a",
   "metadata": {},
   "outputs": [],
   "source": []
  }
 ],
 "metadata": {
  "kernelspec": {
   "display_name": "Deno",
   "language": "typescript",
   "name": "deno"
  },
  "language_info": {
   "file_extension": ".ts",
   "mimetype": "text/x.typescript",
   "name": "typescript",
   "nb_converter": "script",
   "pygments_lexer": "typescript",
   "version": "5.2.2"
  }
 },
 "nbformat": 4,
 "nbformat_minor": 5
}
