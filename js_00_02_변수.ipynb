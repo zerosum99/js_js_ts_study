{
 "cells": [
  {
   "cell_type": "code",
   "execution_count": null,
   "id": "07bbbd22-b090-470a-b774-6d8f108cd13d",
   "metadata": {},
   "outputs": [],
   "source": []
  },
  {
   "cell_type": "code",
   "execution_count": null,
   "id": "fe4844bb-1ebb-49b4-97cc-dfdaa0ee6e80",
   "metadata": {},
   "outputs": [],
   "source": []
  },
  {
   "cell_type": "markdown",
   "id": "4fd87ef8-74e3-49d9-aa19-70cbedb3f09c",
   "metadata": {},
   "source": [
    "## 변수 정의 "
   ]
  },
  {
   "cell_type": "markdown",
   "id": "79857470-67e2-4b80-81ae-803bd6e6bb19",
   "metadata": {},
   "source": [
    "## 1. 전역 및 함수 스코프 변수 정의 \n",
    "\n",
    "- 예약어 "
   ]
  },
  {
   "cell_type": "markdown",
   "id": "3cb64a9b-3aed-4e0a-81e7-1b0434ce09ed",
   "metadata": {},
   "source": [
    "## 1-1 전역변수 정의 \n",
    "\n",
    "- var로 정의 "
   ]
  },
  {
   "cell_type": "code",
   "execution_count": 1,
   "id": "c1681853-6806-4e51-a0d5-3e1f581669ef",
   "metadata": {},
   "outputs": [
    {
     "data": {},
     "execution_count": 1,
     "metadata": {},
     "output_type": "execute_result"
    },
    {
     "name": "stdout",
     "output_type": "stream",
     "text": [
      "number\n"
     ]
    }
   ],
   "source": [
    "var a = 100;\n",
    "\n",
    "console.log(typeof a);"
   ]
  },
  {
   "cell_type": "code",
   "execution_count": null,
   "id": "180ef850-5fac-456d-9c22-5160fcd18358",
   "metadata": {},
   "outputs": [],
   "source": []
  },
  {
   "cell_type": "markdown",
   "id": "450d252c-b45f-4f8a-a819-37e2becbda4b",
   "metadata": {},
   "source": [
    "## 1-2 함수 스코프 변수 정의 "
   ]
  },
  {
   "cell_type": "code",
   "execution_count": 3,
   "id": "22080c3e-0580-45fc-802c-90a8ec990748",
   "metadata": {},
   "outputs": [
    {
     "data": {},
     "execution_count": 3,
     "metadata": {},
     "output_type": "execute_result"
    }
   ],
   "source": [
    "function add(x,y) {\n",
    "    var result = x+y\n",
    "    return result;\n",
    "}"
   ]
  },
  {
   "cell_type": "code",
   "execution_count": 4,
   "id": "0e69b341-bfff-40a5-91ce-3298c46812ec",
   "metadata": {},
   "outputs": [
    {
     "data": {
      "text/plain": [
       "\u001b[33m399\u001b[39m"
      ]
     },
     "execution_count": 4,
     "metadata": {},
     "output_type": "execute_result"
    }
   ],
   "source": [
    "add(199,200);"
   ]
  },
  {
   "cell_type": "markdown",
   "id": "1dad9768-f3bb-4a3a-819a-17dc614a53a9",
   "metadata": {},
   "source": [
    "### var 지정을 안 한 변수는 예외 \n",
    "\n",
    "- deno 엔진에서 run 타입에 예외 처리"
   ]
  },
  {
   "cell_type": "code",
   "execution_count": 9,
   "id": "d5d86e89-e3db-43f7-be2b-1b57f23e6552",
   "metadata": {},
   "outputs": [
    {
     "data": {},
     "execution_count": 9,
     "metadata": {},
     "output_type": "execute_result"
    }
   ],
   "source": [
    "function add1(x,y) {\n",
    "    result1 = x+y\n",
    "    return result1;\n",
    "}"
   ]
  },
  {
   "cell_type": "code",
   "execution_count": 10,
   "id": "844ffa58-98f6-4652-aa54-80e14d097359",
   "metadata": {},
   "outputs": [
    {
     "ename": "ReferenceError",
     "evalue": "result1 is not defined",
     "output_type": "error",
     "traceback": [
      "Stack trace:",
      "ReferenceError: result1 is not defined",
      "    at add1 (<anonymous>:3:11)",
      "    at <anonymous>:2:1"
     ]
    }
   ],
   "source": [
    "add1(200,300);"
   ]
  },
  {
   "cell_type": "code",
   "execution_count": null,
   "id": "4902c83f-858c-4823-8434-9c57aa5521f4",
   "metadata": {},
   "outputs": [],
   "source": []
  },
  {
   "cell_type": "code",
   "execution_count": null,
   "id": "c197869a-64fd-41bb-8393-34375474935c",
   "metadata": {},
   "outputs": [],
   "source": []
  },
  {
   "cell_type": "markdown",
   "id": "db08aeba-0cca-4a3c-9288-271c0d049f26",
   "metadata": {},
   "source": [
    "# 2. 블럭스코프 변수 정의 "
   ]
  },
  {
   "cell_type": "code",
   "execution_count": null,
   "id": "98d6d517-4793-402b-87c7-a1aa15c952c7",
   "metadata": {},
   "outputs": [],
   "source": []
  },
  {
   "cell_type": "markdown",
   "id": "a8d03adc-c900-46ef-ad4c-bc5cb24bf5b8",
   "metadata": {},
   "source": [
    "## 2-1 let 블럭 스코프 "
   ]
  },
  {
   "cell_type": "code",
   "execution_count": 12,
   "id": "629007fa-f68f-468f-845e-3ed51c15faa1",
   "metadata": {},
   "outputs": [
    {
     "ename": "ReferenceError",
     "evalue": "result is not defined",
     "output_type": "error",
     "traceback": [
      "Stack trace:",
      "ReferenceError: result is not defined",
      "    at <anonymous>:5:14"
     ]
    },
    {
     "name": "stdout",
     "output_type": "stream",
     "text": [
      "\u001b[33m100\u001b[39m\n"
     ]
    }
   ],
   "source": [
    "{ \n",
    "    let result = 100;\n",
    "    console.log(result);\n",
    "}\n",
    "\n",
    "console.log(result);"
   ]
  },
  {
   "cell_type": "code",
   "execution_count": null,
   "id": "6ea51e9a-3123-4a6b-a667-5387f14994d8",
   "metadata": {},
   "outputs": [],
   "source": []
  },
  {
   "cell_type": "code",
   "execution_count": null,
   "id": "c0d4a301-2906-484f-a923-1c8f473a0b95",
   "metadata": {},
   "outputs": [],
   "source": []
  },
  {
   "cell_type": "code",
   "execution_count": null,
   "id": "9a5bdf9c-b48b-4dd0-9940-c9c82ddfaec5",
   "metadata": {},
   "outputs": [],
   "source": []
  },
  {
   "cell_type": "markdown",
   "id": "065039ea-a608-4e5a-9c28-8a3dd0b19da8",
   "metadata": {},
   "source": [
    "## 2-2 const 블럭 스코프 "
   ]
  },
  {
   "cell_type": "code",
   "execution_count": null,
   "id": "d16c2adb-5489-466b-9458-9f1ca49727d8",
   "metadata": {},
   "outputs": [],
   "source": []
  },
  {
   "cell_type": "code",
   "execution_count": 13,
   "id": "64d5bb1e-7e9c-40bf-84b0-2d298480b59e",
   "metadata": {},
   "outputs": [
    {
     "ename": "ReferenceError",
     "evalue": "result2 is not defined",
     "output_type": "error",
     "traceback": [
      "Stack trace:",
      "ReferenceError: result2 is not defined",
      "    at <anonymous>:5:14"
     ]
    },
    {
     "name": "stdout",
     "output_type": "stream",
     "text": [
      "\u001b[33m100\u001b[39m\n"
     ]
    }
   ],
   "source": [
    "{ \n",
    "    const result2 = 100;\n",
    "    console.log(result2);\n",
    "}\n",
    "\n",
    "console.log(result2);"
   ]
  },
  {
   "cell_type": "code",
   "execution_count": null,
   "id": "bfe0cf0a-eafb-44c5-a404-af8f2ceb458a",
   "metadata": {},
   "outputs": [],
   "source": []
  },
  {
   "cell_type": "code",
   "execution_count": null,
   "id": "b3591245-d561-4d2f-953e-9740831f80f2",
   "metadata": {},
   "outputs": [],
   "source": []
  },
  {
   "cell_type": "markdown",
   "id": "6594d093-0a87-4238-8006-9cdaae527d74",
   "metadata": {},
   "source": [
    "## 2-3 할당가능성 여부 "
   ]
  },
  {
   "cell_type": "code",
   "execution_count": null,
   "id": "47313430-c44c-48ea-b0d7-5af82bb9d57e",
   "metadata": {},
   "outputs": [],
   "source": []
  },
  {
   "cell_type": "code",
   "execution_count": 14,
   "id": "39b96d0d-4d13-40e7-8366-18d98c6306d9",
   "metadata": {},
   "outputs": [
    {
     "data": {},
     "execution_count": 14,
     "metadata": {},
     "output_type": "execute_result"
    },
    {
     "name": "stdout",
     "output_type": "stream",
     "text": [
      "\u001b[33m100\u001b[39m\n",
      "\u001b[33m999\u001b[39m\n"
     ]
    }
   ],
   "source": [
    "let result3 = 100;\n",
    "console.log(result3);\n",
    "result3 = 999;\n",
    "console.log(result3);"
   ]
  },
  {
   "cell_type": "code",
   "execution_count": null,
   "id": "074cea14-07af-499b-975b-f1b2194ea8b3",
   "metadata": {},
   "outputs": [],
   "source": []
  },
  {
   "cell_type": "code",
   "execution_count": 15,
   "id": "e1f485ba-fa00-427e-af81-0da0a81c4204",
   "metadata": {},
   "outputs": [
    {
     "ename": "TypeError",
     "evalue": "Assignment to constant variable.",
     "output_type": "error",
     "traceback": [
      "Stack trace:",
      "TypeError: Assignment to constant variable.",
      "    at <anonymous>:4:9"
     ]
    },
    {
     "name": "stdout",
     "output_type": "stream",
     "text": [
      "\u001b[33m100\u001b[39m\n"
     ]
    }
   ],
   "source": [
    "const result4 = 100;\n",
    "console.log(result4);\n",
    "result4 = 999;\n",
    "console.log(result4);"
   ]
  },
  {
   "cell_type": "code",
   "execution_count": null,
   "id": "bf48ff02-82aa-4474-84e3-f490b91feeca",
   "metadata": {},
   "outputs": [],
   "source": []
  },
  {
   "cell_type": "code",
   "execution_count": null,
   "id": "ae5bca85-034a-4440-8496-7057094402ba",
   "metadata": {},
   "outputs": [],
   "source": []
  },
  {
   "cell_type": "markdown",
   "id": "92b58cfc-229e-4be0-898a-36ee389654f4",
   "metadata": {},
   "source": [
    "## 3. 변수에 자료형 지정하기"
   ]
  },
  {
   "cell_type": "code",
   "execution_count": null,
   "id": "254ab883-38ee-4038-b5b6-aa491375dccd",
   "metadata": {},
   "outputs": [],
   "source": []
  },
  {
   "cell_type": "markdown",
   "id": "8fd8272a-c7af-49a1-8e33-d66016727852",
   "metadata": {},
   "source": [
    "## 3-1 원시 자료형 지정 "
   ]
  },
  {
   "cell_type": "code",
   "execution_count": 16,
   "id": "4b963365-fa53-4f85-ba56-1cbd946b6e5a",
   "metadata": {},
   "outputs": [
    {
     "data": {},
     "execution_count": 16,
     "metadata": {},
     "output_type": "execute_result"
    }
   ],
   "source": [
    "let num : number = 100;"
   ]
  },
  {
   "cell_type": "code",
   "execution_count": 17,
   "id": "0e41d0eb-5d22-4e57-ac3b-f7df80ae3837",
   "metadata": {},
   "outputs": [
    {
     "data": {},
     "execution_count": 17,
     "metadata": {},
     "output_type": "execute_result"
    }
   ],
   "source": [
    "let str : string = \"100\";"
   ]
  },
  {
   "cell_type": "code",
   "execution_count": 18,
   "id": "400d3533-fa84-4a91-bf90-a73c3c6c5dcb",
   "metadata": {},
   "outputs": [
    {
     "data": {},
     "execution_count": 18,
     "metadata": {},
     "output_type": "execute_result"
    }
   ],
   "source": [
    "let bool : boolean = true;"
   ]
  },
  {
   "cell_type": "code",
   "execution_count": null,
   "id": "56c2b2a2-b0a2-4ade-9a02-dfe529b94209",
   "metadata": {},
   "outputs": [],
   "source": []
  },
  {
   "cell_type": "code",
   "execution_count": null,
   "id": "220e1660-28c4-434a-a959-091dabb559b1",
   "metadata": {},
   "outputs": [],
   "source": []
  },
  {
   "cell_type": "markdown",
   "id": "7279cdcc-6fb7-4f5a-9da7-3321b537b342",
   "metadata": {},
   "source": [
    "## 3-2 객체 자료형 지정"
   ]
  },
  {
   "cell_type": "code",
   "execution_count": null,
   "id": "583cc430-db4e-42be-b6fa-c9ce6820a443",
   "metadata": {},
   "outputs": [],
   "source": []
  }
 ],
 "metadata": {
  "kernelspec": {
   "display_name": "Deno",
   "language": "typescript",
   "name": "deno"
  },
  "language_info": {
   "file_extension": ".ts",
   "mimetype": "text/x.typescript",
   "name": "typescript",
   "nb_converter": "script",
   "pygments_lexer": "typescript",
   "version": "5.2.2"
  }
 },
 "nbformat": 4,
 "nbformat_minor": 5
}
