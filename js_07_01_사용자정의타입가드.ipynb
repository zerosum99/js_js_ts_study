{
 "cells": [
  {
   "cell_type": "code",
   "execution_count": null,
   "id": "8d558b2c-b0fe-4ba4-be90-da861bfee06d",
   "metadata": {},
   "outputs": [],
   "source": []
  },
  {
   "cell_type": "markdown",
   "id": "44c27f9a-5e42-47b7-9506-20680a997eef",
   "metadata": {},
   "source": [
    "## 타입 가드 \n",
    "\n",
    "- 타입 가드는 특정 조건을 충족하는지 여부를 검사하여 변수의 타입을 좁히거나 제한하는 데 도움을 줍니다.\n",
    "- 특정 조건을 충족하는지 여부를 검사하여 변수의 타입을 좁히거나 제한하는 데 도움을 줍니다."
   ]
  },
  {
   "cell_type": "markdown",
   "id": "cb32e540-ef89-4324-8100-a03eaafebbe7",
   "metadata": {},
   "source": [
    "## is연산자\n",
    "\n",
    "- is 연산자는 사용자 지정 타입 가드(User-Defined Type Guards)를 구현하는 데 사용됩니다. \n"
   ]
  },
  {
   "cell_type": "code",
   "execution_count": 1,
   "id": "c1682545-c2d4-45bb-8cbd-a1486664476e",
   "metadata": {},
   "outputs": [
    {
     "data": {},
     "execution_count": 1,
     "metadata": {},
     "output_type": "execute_result"
    },
    {
     "name": "stdout",
     "output_type": "stream",
     "text": [
      "\u001b[33m50\u001b[39m\n"
     ]
    }
   ],
   "source": [
    "// 사용자 지정 타입 가드 함수\n",
    "function isNumber(value: any): value is number {\n",
    "  return typeof value === 'number';\n",
    "}\n",
    "\n",
    "// 타입 가드를 사용하여 타입을 확인\n",
    "function multiply(a: any, b: any): number {\n",
    "  if (isNumber(a) && isNumber(b)) {\n",
    "    return a * b;\n",
    "  } else {\n",
    "    throw new Error('Both arguments must be numbers');\n",
    "  }\n",
    "}\n",
    "\n",
    "const result = multiply(5, 10);\n",
    "console.log(result); // 50\n"
   ]
  },
  {
   "cell_type": "code",
   "execution_count": null,
   "id": "917430f4-b849-45c4-a7a8-6283366c5714",
   "metadata": {},
   "outputs": [],
   "source": []
  },
  {
   "cell_type": "code",
   "execution_count": null,
   "id": "faca31b4-dfa2-4ada-bf7e-d55f5819fd5d",
   "metadata": {},
   "outputs": [],
   "source": []
  }
 ],
 "metadata": {
  "kernelspec": {
   "display_name": "Deno",
   "language": "typescript",
   "name": "deno"
  },
  "language_info": {
   "file_extension": ".ts",
   "mimetype": "text/x.typescript",
   "name": "typescript",
   "nb_converter": "script",
   "pygments_lexer": "typescript",
   "version": "5.2.2"
  }
 },
 "nbformat": 4,
 "nbformat_minor": 5
}
