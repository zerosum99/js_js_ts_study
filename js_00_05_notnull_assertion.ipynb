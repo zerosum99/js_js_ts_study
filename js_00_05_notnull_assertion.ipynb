{
 "cells": [
  {
   "cell_type": "code",
   "execution_count": null,
   "id": "40558203-9c95-40f1-8916-b51f7c975e75",
   "metadata": {},
   "outputs": [],
   "source": []
  },
  {
   "cell_type": "markdown",
   "id": "aecaf726-0362-4a06-97bd-c9d5741b49bf",
   "metadata": {},
   "source": [
    "## ! (Non-null Assertion Operator):\n",
    "\n",
    "- ! 기호는 변수 또는 속성 뒤에 사용되며, 해당 변수 또는 속성이 항상 값이 존재한다는 것을 명시적으로 나타냄\n",
    "- 즉, 그것이 null 또는 undefined일 가능성을 배제합니다.\n"
   ]
  },
  {
   "cell_type": "code",
   "execution_count": null,
   "id": "7890e30f-ccb4-4d07-ba35-28b61057f9dd",
   "metadata": {},
   "outputs": [],
   "source": []
  },
  {
   "cell_type": "code",
   "execution_count": 1,
   "id": "3d2310e1-544e-4976-affa-d9c595b6e1af",
   "metadata": {},
   "outputs": [
    {
     "data": {},
     "execution_count": 1,
     "metadata": {},
     "output_type": "execute_result"
    }
   ],
   "source": [
    "function getSomeString() {\n",
    "    return \"문자열\";\n",
    "}"
   ]
  },
  {
   "cell_type": "code",
   "execution_count": 2,
   "id": "1f2f00b8-8f87-4a49-b12c-c678dbea4d7b",
   "metadata": {},
   "outputs": [
    {
     "data": {},
     "execution_count": 2,
     "metadata": {},
     "output_type": "execute_result"
    }
   ],
   "source": [
    "let myString: string | null = getSomeString(); // myString은 string 또는 null일 가능성이 있음\n",
    "let length: number = myString!.length; // non-null assertion을 사용하여 null 체크 생략\n"
   ]
  },
  {
   "cell_type": "code",
   "execution_count": 3,
   "id": "e439e689-710f-48fa-92eb-988fcabfb498",
   "metadata": {},
   "outputs": [
    {
     "data": {
      "text/plain": [
       "\u001b[33m3\u001b[39m"
      ]
     },
     "execution_count": 3,
     "metadata": {},
     "output_type": "execute_result"
    }
   ],
   "source": [
    "length"
   ]
  },
  {
   "cell_type": "code",
   "execution_count": null,
   "id": "0408ebb3-4abb-4ade-99c4-f7e1a390b413",
   "metadata": {},
   "outputs": [],
   "source": []
  }
 ],
 "metadata": {
  "kernelspec": {
   "display_name": "Deno",
   "language": "typescript",
   "name": "deno"
  },
  "language_info": {
   "file_extension": ".ts",
   "mimetype": "text/x.typescript",
   "name": "typescript",
   "nb_converter": "script",
   "pygments_lexer": "typescript",
   "version": "5.2.2"
  }
 },
 "nbformat": 4,
 "nbformat_minor": 5
}
