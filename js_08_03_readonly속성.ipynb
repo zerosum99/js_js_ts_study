{
 "cells": [
  {
   "cell_type": "code",
   "execution_count": null,
   "id": "ef9643f1-146a-4042-9e6b-f979e142c6fe",
   "metadata": {},
   "outputs": [],
   "source": []
  },
  {
   "cell_type": "markdown",
   "id": "41c151d8-6229-451e-adc8-259ecc5024a3",
   "metadata": {},
   "source": [
    "## deno 내에서는 readonly가 작동하지 않음 "
   ]
  },
  {
   "cell_type": "markdown",
   "id": "eb394c26-220a-4527-83d4-abfccbb8fe21",
   "metadata": {},
   "source": [
    "## 인터페이스의 readonly 속성:"
   ]
  },
  {
   "cell_type": "code",
   "execution_count": 2,
   "id": "1b383775-dcb1-4431-8c5b-50dc0ccf7a61",
   "metadata": {},
   "outputs": [
    {
     "data": {},
     "execution_count": 2,
     "metadata": {},
     "output_type": "execute_result"
    }
   ],
   "source": [
    "interface Point {\n",
    "  readonly x: number;\n",
    "  readonly y: number;\n",
    "}\n",
    "\n",
    "const point: Point = { x: 10, y: 20 };\n"
   ]
  },
  {
   "cell_type": "code",
   "execution_count": 3,
   "id": "29e90b0e-5cab-41b1-9710-d0f409b681f8",
   "metadata": {},
   "outputs": [
    {
     "data": {
      "text/plain": [
       "\u001b[33m30\u001b[39m"
      ]
     },
     "execution_count": 3,
     "metadata": {},
     "output_type": "execute_result"
    }
   ],
   "source": [
    "point.x = 30; // 에러: 'x' 속성은 읽기 전용입니다."
   ]
  },
  {
   "cell_type": "code",
   "execution_count": null,
   "id": "74fd559c-d2a4-4e19-92a6-448af4daea4f",
   "metadata": {},
   "outputs": [],
   "source": []
  },
  {
   "cell_type": "markdown",
   "id": "dddf3689-8f36-460e-a2c2-19c5246b1ad7",
   "metadata": {},
   "source": [
    "## 클래스의 readonly 멤버 변수:"
   ]
  },
  {
   "cell_type": "code",
   "execution_count": null,
   "id": "077433a0-48bd-4298-b743-df9271ef7598",
   "metadata": {},
   "outputs": [],
   "source": []
  },
  {
   "cell_type": "code",
   "execution_count": 4,
   "id": "ede29759-8a7f-46bc-ad8d-b5b54dcb7532",
   "metadata": {},
   "outputs": [
    {
     "data": {
      "text/plain": [
       "\u001b[33m10\u001b[39m"
      ]
     },
     "execution_count": 4,
     "metadata": {},
     "output_type": "execute_result"
    }
   ],
   "source": [
    "class Circle {\n",
    "  readonly radius: number;\n",
    "\n",
    "  constructor(radius: number) {\n",
    "    this.radius = radius;\n",
    "  }\n",
    "}\n",
    "\n",
    "const circle = new Circle(5);\n",
    "circle.radius = 10; // 에러: 'radius' 멤버 변수는 읽기 전용입니다.\n"
   ]
  },
  {
   "cell_type": "code",
   "execution_count": null,
   "id": "293dc758-4c57-4354-976d-5739e141f910",
   "metadata": {},
   "outputs": [],
   "source": []
  },
  {
   "cell_type": "markdown",
   "id": "bfda2325-f14e-452f-b418-9226618350b0",
   "metadata": {},
   "source": [
    "## 객체리터럴 readonly "
   ]
  },
  {
   "cell_type": "code",
   "execution_count": 5,
   "id": "b6a8552a-e2d3-4a5b-b021-d58afeb02984",
   "metadata": {},
   "outputs": [
    {
     "data": {
      "text/plain": [
       "\u001b[32m\"Doctor\"\u001b[39m"
      ]
     },
     "execution_count": 5,
     "metadata": {},
     "output_type": "execute_result"
    }
   ],
   "source": [
    "const person = {\n",
    "  name: \"Alice\",\n",
    "  age: 30,\n",
    "  readonly job: \"Engineer\",\n",
    "};\n",
    "\n",
    "person.name = \"Bob\"; // 가능\n",
    "person.age = 31;    // 가능\n",
    "person.job = \"Doctor\"; // 에러: 'job' 속성은 읽기 전용입니다.\n"
   ]
  },
  {
   "cell_type": "code",
   "execution_count": null,
   "id": "b0922dc5-761b-431e-9b0a-82c7883b8136",
   "metadata": {},
   "outputs": [],
   "source": []
  }
 ],
 "metadata": {
  "kernelspec": {
   "display_name": "Deno",
   "language": "typescript",
   "name": "deno"
  },
  "language_info": {
   "file_extension": ".ts",
   "mimetype": "text/x.typescript",
   "name": "typescript",
   "nb_converter": "script",
   "pygments_lexer": "typescript",
   "version": "5.2.2"
  }
 },
 "nbformat": 4,
 "nbformat_minor": 5
}
